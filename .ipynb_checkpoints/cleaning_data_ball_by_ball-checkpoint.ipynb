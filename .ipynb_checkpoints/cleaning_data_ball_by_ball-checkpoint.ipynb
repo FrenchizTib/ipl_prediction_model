{
 "cells": [
  {
   "cell_type": "code",
   "execution_count": 1,
   "id": "700d4a1f-f614-4d34-ac81-1eba44a4f7c4",
   "metadata": {},
   "outputs": [],
   "source": [
    "import pandas as pd\n",
    "import numpy as np"
   ]
  },
  {
   "cell_type": "markdown",
   "id": "d7eb34ef-a95a-4785-b77c-eadd2f15ce91",
   "metadata": {},
   "source": [
    "## downloading the dataset"
   ]
  },
  {
   "cell_type": "code",
   "execution_count": 2,
   "id": "16110525-af0f-401d-82fb-cd7841c3fd7d",
   "metadata": {},
   "outputs": [],
   "source": [
    "ball_by_ball_df = pd.read_csv(\"/home/thibault/code/patrickevans29/ipl_prediction_model/raw_data/IPL_Ball_by_Ball_2008_2022.csv\")"
   ]
  },
  {
   "cell_type": "markdown",
   "id": "e27969ef-9fc0-4f8d-af32-fd8d3a1b6d18",
   "metadata": {},
   "source": [
    "## size and values count"
   ]
  },
  {
   "cell_type": "code",
   "execution_count": 3,
   "id": "39dc57a2-5130-4888-b135-1032db4b539a",
   "metadata": {
    "scrolled": true
   },
   "outputs": [
    {
     "data": {
      "text/html": [
       "<div>\n",
       "<style scoped>\n",
       "    .dataframe tbody tr th:only-of-type {\n",
       "        vertical-align: middle;\n",
       "    }\n",
       "\n",
       "    .dataframe tbody tr th {\n",
       "        vertical-align: top;\n",
       "    }\n",
       "\n",
       "    .dataframe thead th {\n",
       "        text-align: right;\n",
       "    }\n",
       "</style>\n",
       "<table border=\"1\" class=\"dataframe\">\n",
       "  <thead>\n",
       "    <tr style=\"text-align: right;\">\n",
       "      <th></th>\n",
       "      <th>ID</th>\n",
       "      <th>innings</th>\n",
       "      <th>overs</th>\n",
       "      <th>ballnumber</th>\n",
       "      <th>batter</th>\n",
       "      <th>bowler</th>\n",
       "      <th>non-striker</th>\n",
       "      <th>extra_type</th>\n",
       "      <th>batsman_run</th>\n",
       "      <th>extras_run</th>\n",
       "      <th>total_run</th>\n",
       "      <th>non_boundary</th>\n",
       "      <th>isWicketDelivery</th>\n",
       "      <th>player_out</th>\n",
       "      <th>kind</th>\n",
       "      <th>fielders_involved</th>\n",
       "      <th>BattingTeam</th>\n",
       "    </tr>\n",
       "  </thead>\n",
       "  <tbody>\n",
       "    <tr>\n",
       "      <th>0</th>\n",
       "      <td>1312200</td>\n",
       "      <td>1</td>\n",
       "      <td>0</td>\n",
       "      <td>1</td>\n",
       "      <td>YBK Jaiswal</td>\n",
       "      <td>Mohammed Shami</td>\n",
       "      <td>JC Buttler</td>\n",
       "      <td>NaN</td>\n",
       "      <td>0</td>\n",
       "      <td>0</td>\n",
       "      <td>0</td>\n",
       "      <td>0</td>\n",
       "      <td>0</td>\n",
       "      <td>NaN</td>\n",
       "      <td>NaN</td>\n",
       "      <td>NaN</td>\n",
       "      <td>Rajasthan Royals</td>\n",
       "    </tr>\n",
       "    <tr>\n",
       "      <th>1</th>\n",
       "      <td>1312200</td>\n",
       "      <td>1</td>\n",
       "      <td>0</td>\n",
       "      <td>2</td>\n",
       "      <td>YBK Jaiswal</td>\n",
       "      <td>Mohammed Shami</td>\n",
       "      <td>JC Buttler</td>\n",
       "      <td>legbyes</td>\n",
       "      <td>0</td>\n",
       "      <td>1</td>\n",
       "      <td>1</td>\n",
       "      <td>0</td>\n",
       "      <td>0</td>\n",
       "      <td>NaN</td>\n",
       "      <td>NaN</td>\n",
       "      <td>NaN</td>\n",
       "      <td>Rajasthan Royals</td>\n",
       "    </tr>\n",
       "    <tr>\n",
       "      <th>2</th>\n",
       "      <td>1312200</td>\n",
       "      <td>1</td>\n",
       "      <td>0</td>\n",
       "      <td>3</td>\n",
       "      <td>JC Buttler</td>\n",
       "      <td>Mohammed Shami</td>\n",
       "      <td>YBK Jaiswal</td>\n",
       "      <td>NaN</td>\n",
       "      <td>1</td>\n",
       "      <td>0</td>\n",
       "      <td>1</td>\n",
       "      <td>0</td>\n",
       "      <td>0</td>\n",
       "      <td>NaN</td>\n",
       "      <td>NaN</td>\n",
       "      <td>NaN</td>\n",
       "      <td>Rajasthan Royals</td>\n",
       "    </tr>\n",
       "    <tr>\n",
       "      <th>3</th>\n",
       "      <td>1312200</td>\n",
       "      <td>1</td>\n",
       "      <td>0</td>\n",
       "      <td>4</td>\n",
       "      <td>YBK Jaiswal</td>\n",
       "      <td>Mohammed Shami</td>\n",
       "      <td>JC Buttler</td>\n",
       "      <td>NaN</td>\n",
       "      <td>0</td>\n",
       "      <td>0</td>\n",
       "      <td>0</td>\n",
       "      <td>0</td>\n",
       "      <td>0</td>\n",
       "      <td>NaN</td>\n",
       "      <td>NaN</td>\n",
       "      <td>NaN</td>\n",
       "      <td>Rajasthan Royals</td>\n",
       "    </tr>\n",
       "    <tr>\n",
       "      <th>4</th>\n",
       "      <td>1312200</td>\n",
       "      <td>1</td>\n",
       "      <td>0</td>\n",
       "      <td>5</td>\n",
       "      <td>YBK Jaiswal</td>\n",
       "      <td>Mohammed Shami</td>\n",
       "      <td>JC Buttler</td>\n",
       "      <td>NaN</td>\n",
       "      <td>0</td>\n",
       "      <td>0</td>\n",
       "      <td>0</td>\n",
       "      <td>0</td>\n",
       "      <td>0</td>\n",
       "      <td>NaN</td>\n",
       "      <td>NaN</td>\n",
       "      <td>NaN</td>\n",
       "      <td>Rajasthan Royals</td>\n",
       "    </tr>\n",
       "  </tbody>\n",
       "</table>\n",
       "</div>"
      ],
      "text/plain": [
       "        ID  innings  overs  ballnumber       batter          bowler  \\\n",
       "0  1312200        1      0           1  YBK Jaiswal  Mohammed Shami   \n",
       "1  1312200        1      0           2  YBK Jaiswal  Mohammed Shami   \n",
       "2  1312200        1      0           3   JC Buttler  Mohammed Shami   \n",
       "3  1312200        1      0           4  YBK Jaiswal  Mohammed Shami   \n",
       "4  1312200        1      0           5  YBK Jaiswal  Mohammed Shami   \n",
       "\n",
       "   non-striker extra_type  batsman_run  extras_run  total_run  non_boundary  \\\n",
       "0   JC Buttler        NaN            0           0          0             0   \n",
       "1   JC Buttler    legbyes            0           1          1             0   \n",
       "2  YBK Jaiswal        NaN            1           0          1             0   \n",
       "3   JC Buttler        NaN            0           0          0             0   \n",
       "4   JC Buttler        NaN            0           0          0             0   \n",
       "\n",
       "   isWicketDelivery player_out kind fielders_involved       BattingTeam  \n",
       "0                 0        NaN  NaN               NaN  Rajasthan Royals  \n",
       "1                 0        NaN  NaN               NaN  Rajasthan Royals  \n",
       "2                 0        NaN  NaN               NaN  Rajasthan Royals  \n",
       "3                 0        NaN  NaN               NaN  Rajasthan Royals  \n",
       "4                 0        NaN  NaN               NaN  Rajasthan Royals  "
      ]
     },
     "execution_count": 3,
     "metadata": {},
     "output_type": "execute_result"
    }
   ],
   "source": [
    "ball_by_ball_df.head(5)"
   ]
  },
  {
   "cell_type": "markdown",
   "id": "3b0a6ec6-193b-40d8-8bbc-bde50243803e",
   "metadata": {},
   "source": [
    "#### shape and type of the dataset"
   ]
  },
  {
   "cell_type": "code",
   "execution_count": 4,
   "id": "0cfbc2d1-d3c0-4ce9-a99b-c5d1bba5dfca",
   "metadata": {},
   "outputs": [
    {
     "data": {
      "text/plain": [
       "(225954, 17)"
      ]
     },
     "execution_count": 4,
     "metadata": {},
     "output_type": "execute_result"
    }
   ],
   "source": [
    "ball_by_ball_df.shape"
   ]
  },
  {
   "cell_type": "code",
   "execution_count": 5,
   "id": "069e0e65-a5b5-40ab-a85e-0345668c3f71",
   "metadata": {
    "scrolled": true
   },
   "outputs": [
    {
     "name": "stdout",
     "output_type": "stream",
     "text": [
      "<class 'pandas.core.frame.DataFrame'>\n",
      "RangeIndex: 225954 entries, 0 to 225953\n",
      "Data columns (total 17 columns):\n",
      " #   Column             Non-Null Count   Dtype \n",
      "---  ------             --------------   ----- \n",
      " 0   ID                 225954 non-null  int64 \n",
      " 1   innings            225954 non-null  int64 \n",
      " 2   overs              225954 non-null  int64 \n",
      " 3   ballnumber         225954 non-null  int64 \n",
      " 4   batter             225954 non-null  object\n",
      " 5   bowler             225954 non-null  object\n",
      " 6   non-striker        225954 non-null  object\n",
      " 7   extra_type         12049 non-null   object\n",
      " 8   batsman_run        225954 non-null  int64 \n",
      " 9   extras_run         225954 non-null  int64 \n",
      " 10  total_run          225954 non-null  int64 \n",
      " 11  non_boundary       225954 non-null  int64 \n",
      " 12  isWicketDelivery   225954 non-null  int64 \n",
      " 13  player_out         11151 non-null   object\n",
      " 14  kind               11151 non-null   object\n",
      " 15  fielders_involved  7988 non-null    object\n",
      " 16  BattingTeam        225954 non-null  object\n",
      "dtypes: int64(9), object(8)\n",
      "memory usage: 29.3+ MB\n"
     ]
    }
   ],
   "source": [
    "ball_by_ball_df.info()"
   ]
  },
  {
   "cell_type": "markdown",
   "id": "e1be80ae-9c38-4bde-9c2e-5fdafcce7053",
   "metadata": {},
   "source": [
    "#### counting every batter, bowler and non-striker"
   ]
  },
  {
   "cell_type": "code",
   "execution_count": 6,
   "id": "a5256522-21f9-4ba9-9bb4-4506ce29bdd6",
   "metadata": {},
   "outputs": [
    {
     "data": {
      "text/plain": [
       "605"
      ]
     },
     "execution_count": 6,
     "metadata": {},
     "output_type": "execute_result"
    }
   ],
   "source": [
    "ball_by_ball_df[\"batter\"].nunique()"
   ]
  },
  {
   "cell_type": "code",
   "execution_count": 7,
   "id": "5d4be83c-0bfb-4061-8fc0-691acf3f105a",
   "metadata": {},
   "outputs": [
    {
     "data": {
      "text/plain": [
       "472"
      ]
     },
     "execution_count": 7,
     "metadata": {},
     "output_type": "execute_result"
    }
   ],
   "source": [
    "ball_by_ball_df[\"bowler\"].nunique()"
   ]
  },
  {
   "cell_type": "code",
   "execution_count": 8,
   "id": "fa59937e-a647-453f-8c47-4bd612771666",
   "metadata": {},
   "outputs": [
    {
     "data": {
      "text/plain": [
       "595"
      ]
     },
     "execution_count": 8,
     "metadata": {},
     "output_type": "execute_result"
    }
   ],
   "source": [
    "ball_by_ball_df[\"non-striker\"].nunique() "
   ]
  },
  {
   "cell_type": "markdown",
   "id": "ac9aa319-ae64-468b-ab4d-79324e514891",
   "metadata": {},
   "source": [
    "#### drop duplicates"
   ]
  },
  {
   "cell_type": "code",
   "execution_count": 9,
   "id": "7fb6a4b2-a19a-4a0d-92e4-08158c587e9a",
   "metadata": {},
   "outputs": [
    {
     "data": {
      "text/plain": [
       "0"
      ]
     },
     "execution_count": 9,
     "metadata": {},
     "output_type": "execute_result"
    }
   ],
   "source": [
    "ball_by_ball_df.duplicated().sum() ## no duplicate here"
   ]
  },
  {
   "cell_type": "markdown",
   "id": "d8a0dee9-5e45-4d4d-845f-87855e757bb3",
   "metadata": {},
   "source": [
    "#### counting the NaN values"
   ]
  },
  {
   "cell_type": "code",
   "execution_count": 10,
   "id": "e239ec5a-022e-427d-9ad1-d4d0905fb536",
   "metadata": {
    "scrolled": true
   },
   "outputs": [
    {
     "data": {
      "text/plain": [
       "fielders_involved    217966\n",
       "kind                 214803\n",
       "player_out           214803\n",
       "extra_type           213905\n",
       "ID                        0\n",
       "extras_run                0\n",
       "isWicketDelivery          0\n",
       "non_boundary              0\n",
       "total_run                 0\n",
       "batsman_run               0\n",
       "innings                   0\n",
       "non-striker               0\n",
       "bowler                    0\n",
       "batter                    0\n",
       "ballnumber                0\n",
       "overs                     0\n",
       "BattingTeam               0\n",
       "dtype: int64"
      ]
     },
     "execution_count": 10,
     "metadata": {},
     "output_type": "execute_result"
    }
   ],
   "source": [
    "ball_by_ball_df.isnull().sum().sort_values(ascending=False) "
   ]
  },
  {
   "cell_type": "markdown",
   "id": "d6d209b9-e04b-422a-924e-01f7062cfd1c",
   "metadata": {},
   "source": [
    "##### innings"
   ]
  },
  {
   "cell_type": "code",
   "execution_count": 11,
   "id": "58973729-3130-4a79-9532-9673401ba175",
   "metadata": {},
   "outputs": [
    {
     "data": {
      "text/plain": [
       "innings\n",
       "1    116883\n",
       "2    108910\n",
       "3        77\n",
       "4        72\n",
       "5         8\n",
       "6         4\n",
       "Name: count, dtype: int64"
      ]
     },
     "execution_count": 11,
     "metadata": {},
     "output_type": "execute_result"
    }
   ],
   "source": [
    "ball_by_ball_df[\"innings\"].value_counts() ## 5 and 6 innings ? "
   ]
  },
  {
   "cell_type": "markdown",
   "id": "957ce12e-9e59-4543-bdc2-97a8002d7521",
   "metadata": {},
   "source": [
    "##### overs"
   ]
  },
  {
   "cell_type": "code",
   "execution_count": 12,
   "id": "ff258c1b-0e9f-4286-b1ab-11b7e50b88d5",
   "metadata": {},
   "outputs": [
    {
     "data": {
      "text/plain": [
       "overs\n",
       "0     12085\n",
       "1     11935\n",
       "2     11803\n",
       "3     11773\n",
       "4     11766\n",
       "5     11720\n",
       "6     11671\n",
       "7     11651\n",
       "8     11608\n",
       "9     11578\n",
       "10    11507\n",
       "11    11480\n",
       "12    11452\n",
       "13    11355\n",
       "14    11259\n",
       "15    11093\n",
       "16    10961\n",
       "17    10650\n",
       "18    10001\n",
       "19     8606\n",
       "Name: count, dtype: int64"
      ]
     },
     "execution_count": 12,
     "metadata": {},
     "output_type": "execute_result"
    }
   ],
   "source": [
    "ball_by_ball_df[\"overs\"].value_counts() "
   ]
  },
  {
   "cell_type": "code",
   "execution_count": 13,
   "id": "45377c76-6387-4f9c-a548-65686c4e19bd",
   "metadata": {},
   "outputs": [],
   "source": [
    "ball_by_ball_df[\"overs\"] = ball_by_ball_df[\"overs\"] + 1 ## assign the good value to overs"
   ]
  },
  {
   "cell_type": "code",
   "execution_count": 14,
   "id": "012c03a5-eac6-4894-b565-9d6d4e8a6e63",
   "metadata": {
    "scrolled": true
   },
   "outputs": [
    {
     "data": {
      "text/plain": [
       "overs\n",
       "1     12085\n",
       "2     11935\n",
       "3     11803\n",
       "4     11773\n",
       "5     11766\n",
       "6     11720\n",
       "7     11671\n",
       "8     11651\n",
       "9     11608\n",
       "10    11578\n",
       "11    11507\n",
       "12    11480\n",
       "13    11452\n",
       "14    11355\n",
       "15    11259\n",
       "16    11093\n",
       "17    10961\n",
       "18    10650\n",
       "19    10001\n",
       "20     8606\n",
       "Name: count, dtype: int64"
      ]
     },
     "execution_count": 14,
     "metadata": {},
     "output_type": "execute_result"
    }
   ],
   "source": [
    "ball_by_ball_df[\"overs\"].value_counts() ## verify the values"
   ]
  },
  {
   "cell_type": "markdown",
   "id": "f54c77a3-507d-4c7f-8dfa-32b077f9912e",
   "metadata": {},
   "source": [
    "##### ballnumber"
   ]
  },
  {
   "cell_type": "code",
   "execution_count": 15,
   "id": "1738a38e-5c8f-4b66-980b-b1a3e300982a",
   "metadata": {},
   "outputs": [
    {
     "data": {
      "text/plain": [
       "ballnumber\n",
       "1     36599\n",
       "2     36507\n",
       "3     36413\n",
       "4     36322\n",
       "5     36201\n",
       "6     36083\n",
       "7      6585\n",
       "8      1055\n",
       "9       171\n",
       "10       18\n",
       "Name: count, dtype: int64"
      ]
     },
     "execution_count": 15,
     "metadata": {},
     "output_type": "execute_result"
    }
   ],
   "source": [
    "ball_by_ball_df[\"ballnumber\"].value_counts() ## OK"
   ]
  },
  {
   "cell_type": "markdown",
   "id": "ae7292e0-938d-4793-9b31-15327f1b6f96",
   "metadata": {},
   "source": [
    "##### batter"
   ]
  },
  {
   "cell_type": "code",
   "execution_count": 16,
   "id": "044f86cc-18ac-4424-b699-f8c5329648ef",
   "metadata": {},
   "outputs": [
    {
     "data": {
      "text/plain": [
       "605"
      ]
     },
     "execution_count": 16,
     "metadata": {},
     "output_type": "execute_result"
    }
   ],
   "source": [
    "ball_by_ball_df[\"batter\"].nunique() "
   ]
  },
  {
   "cell_type": "code",
   "execution_count": 17,
   "id": "43256d48-a8ec-4157-abce-59c5d25c1bb7",
   "metadata": {
    "scrolled": true
   },
   "outputs": [
    {
     "data": {
      "text/plain": [
       "array(['YBK Jaiswal', 'JC Buttler', 'SV Samson', 'D Padikkal',\n",
       "       'SO Hetmyer', 'R Ashwin', 'R Parag', 'TA Boult', 'OC McCoy',\n",
       "       'WP Saha', 'Shubman Gill', 'MS Wade', 'HH Pandya', 'DA Miller',\n",
       "       'V Kohli', 'F du Plessis', 'RM Patidar', 'GJ Maxwell', 'MK Lomror',\n",
       "       'KD Karthik', 'Shahbaz Ahmed', 'PWH de Silva', 'HV Patel',\n",
       "       'JR Hazlewood', 'Q de Kock', 'KL Rahul', 'M Vohra', 'DJ Hooda',\n",
       "       'MP Stoinis', 'E Lewis', 'KH Pandya', 'PVD Chameera', 'PK Garg',\n",
       "       'Abhishek Sharma', 'RA Tripathi', 'AK Markram', 'N Pooran',\n",
       "       'Washington Sundar', 'R Shepherd', 'J Suchith', 'B Kumar',\n",
       "       'Umran Malik', 'JM Bairstow', 'S Dhawan', 'M Shahrukh Khan',\n",
       "       'MA Agarwal', 'LS Livingstone', 'JM Sharma', 'PN Mankad',\n",
       "       'PP Shaw', 'DA Warner', 'MR Marsh', 'RR Pant', 'SN Khan',\n",
       "       'R Powell', 'AR Patel', 'SN Thakur', 'Kuldeep Yadav',\n",
       "       'Ishan Kishan', 'RG Sharma', 'D Brevis', 'Tilak Varma', 'TH David',\n",
       "       'Ramandeep Singh', 'DR Sams', 'RD Gaikwad', 'DP Conway', 'MM Ali',\n",
       "       'N Jagadeesan', 'AT Rayudu', 'MS Dhoni', 'Simarjeet Singh',\n",
       "       'MJ Santner', 'R Tewatia', 'Rashid Khan', 'VR Iyer', 'N Rana',\n",
       "       'A Tomar', 'SS Iyer', 'SW Billings', 'AD Russell', 'RK Singh',\n",
       "       'SP Narine', 'UT Yadav', 'KS Williamson', 'T Stubbs',\n",
       "       'R Sanjay Yadav', 'JJ Bumrah', 'Lalit Yadav', 'PBB Rajapaksa',\n",
       "       'Harpreet Brar', 'R Dhawan', 'RD Chahar', 'K Rabada',\n",
       "       'Arshdeep Singh', 'JDS Neesham', 'A Badoni', 'JO Holder',\n",
       "       'Mohsin Khan', 'Avesh Khan', 'S Dube', 'AM Rahane',\n",
       "       'Shashank Singh', 'M Jansen', 'Mohammed Siraj', 'RV Uthappa',\n",
       "       'DJ Bravo', 'M Theekshana', 'Mukesh Choudhary', 'HR Shokeen',\n",
       "       'HE van der Dussen', 'KS Bharat', 'KS Sharma', 'SP Jackson',\n",
       "       'PJ Cummins', 'TG Southee', 'KA Pollard', 'M Ashwin',\n",
       "       'K Kartikeya', 'RP Meredith', 'RV Patel', 'A Nortje', 'KK Ahmed',\n",
       "       'Kartik Tyagi', 'Fazalhaq Farooqi', 'B Indrajith', 'AJ Finch',\n",
       "       'AS Roy', 'Shivam Mavi', 'Harshit Rana', 'SA Yadav',\n",
       "       'B Sai Sudharsan', 'Mandeep Singh', 'SA Abbott', 'S Gopal',\n",
       "       'RA Jadeja', 'D Pretorius', 'PJ Sangwan', 'LH Ferguson',\n",
       "       'AS Joseph', 'KK Nair', 'DJ Mitchell', 'A Manohar',\n",
       "       'M Prasidh Krishna', 'SS Prabhudessai', 'MK Pandey', 'JD Unadkat',\n",
       "       'Anuj Rawat', 'Yash Dayal', 'NT Ellis', 'VG Arora', 'Ravi Bishnoi',\n",
       "       'CV Varun', 'V Shankar', 'P Simran Singh', 'OF Smith', 'FA Allen',\n",
       "       'TS Mills', 'Aman Hakim Khan', 'YS Chahal', 'KR Sen', 'Akash Deep',\n",
       "       'K Gowtham', 'Rasikh Salam', 'CJ Jordan', 'DJ Willey',\n",
       "       'SE Rutherford', 'Abdul Samad', 'TL Seifert', 'Mustafizur Rahman',\n",
       "       'Navdeep Saini', 'Anmolpreet Singh', 'RA Bawa', 'NM Coulter-Nile',\n",
       "       'EJG Morgan', 'Shakib Al Hasan', 'AB de Villiers', 'DT Christian',\n",
       "       'TK Curran', 'SK Raina', 'SS Tiwary', 'J Yadav', 'SPD Smith',\n",
       "       'CH Morris', 'C Sakariya', 'JJ Roy', 'S Kaul', 'KA Jamieson',\n",
       "       'AF Milne', 'CH Gayle', 'KM Jadhav', 'GD Phillips',\n",
       "       'Sandeep Sharma', 'SM Curran', 'DL Chahar', 'T Shamsi',\n",
       "       'GHS Garton', 'MC Henriques', 'K Yadav', 'PP Chawla',\n",
       "       'Mohammad Nabi', 'Sachin Baby', 'DJ Malan', 'Mohammed Shami',\n",
       "       'Virat Singh', 'KL Nagarkoti', 'Harbhajan Singh',\n",
       "       'Mujeeb Ur Rahman', 'JA Richardson', 'CR Woakes', 'S Nadeem',\n",
       "       'BA Stokes', 'CA Lynn', 'SP Goswami', 'Gurkeerat Singh',\n",
       "       'AT Carey', 'JC Archer', 'SS Cottrell', 'T Banton', 'M Vijay',\n",
       "       'SR Watson', 'P Dubey', 'JR Philippe', 'T Natarajan', 'I Udana',\n",
       "       'VR Aaron', 'TU Deshpande', 'Imran Tahir', 'AS Rajpoot',\n",
       "       'DW Steyn', 'NS Naik', 'AJ Tye', 'JL Pattinson', 'DS Kulkarni',\n",
       "       'MJ McClenaghan', 'C Munro', 'KMA Paul', 'A Mishra', 'I Sharma',\n",
       "       'MJ Guptill', 'Basil Thampi', 'YK Pathan', 'PA Patel',\n",
       "       'C de Grandhomme', 'STR Binny', 'IS Sodhi', 'CA Ingram',\n",
       "       'H Klaasen', 'P Negi', 'BB Sran', 'AJ Turner', 'DR Shorey',\n",
       "       'CR Brathwaite', 'AD Nath', 'GC Viljoen', 'Y Prithvi Raj',\n",
       "       'KC Cariappa', 'BCJ Cutting', 'RK Bhui', 'JL Denly', 'SD Lad',\n",
       "       'HF Gurney', 'Yuvraj Singh', 'MM Sharma', 'GH Vihari',\n",
       "       'S Lamichhane', 'P Ray Barman', 'M Markande',\n",
       "       'JPR Scantlebury-Searles', 'MK Tiwary', 'AD Hales',\n",
       "       'Anureet Singh', 'DJM Short', 'P Chopra', 'JP Duminy', 'NV Ojha',\n",
       "       'BB McCullum', 'LE Plunkett', 'MG Johnson', 'CJ Anderson',\n",
       "       'G Gambhir', 'B Laughlin', 'A Dananjaya', 'B Stanlake',\n",
       "       'R Vinay Kumar', 'MA Wood', 'LMP Simmons', 'KV Sharma', 'IR Jaggi',\n",
       "       'Bipul Sharma', 'SL Malinga', 'Vishnu Vinod', 'TM Head',\n",
       "       'MN Samuels', 'Z Khan', 'SE Marsh', 'Swapnil Singh', 'DR Smith',\n",
       "       'JP Faulkner', 'Ankit Soni', 'P Kumar', 'MM Patel', 'HM Amla',\n",
       "       'S Aravind', 'S Badree', 'A Choudhary', 'IK Pathan', 'AR Bawne',\n",
       "       'DM Bravo', 'AP Tare', 'AD Mathews', 'Ankit Sharma', 'R Bhatia',\n",
       "       'A Zampa', 'AB Dinda', 'Iqbal Abdulla', 'ER Dwivedi', 'R Sathish',\n",
       "       'SB Jakati', 'F Behardien', 'KJ Abbott', 'UT Khawaja', 'GJ Bailey',\n",
       "       'NLTC Perera', 'M Morkel', 'PV Tambe', 'S Kaushik', 'UBT Chand',\n",
       "       'A Nehra', 'PSP Handscomb', 'A Ashish Reddy', 'Parvez Rasool',\n",
       "       'JA Morkel', 'KP Pietersen', 'KW Richardson', 'P Sahu', 'D Wiese',\n",
       "       'MEK Hussey', 'MA Starc', 'Azhar Mahmood', 'BE Hendricks',\n",
       "       'RS Bopara', 'J Botha', 'GB Hogg', 'Karanveer Singh',\n",
       "       'RN ten Doeschate', 'NJ Maddinson', 'V Sehwag', 'J Theron',\n",
       "       'DJ Muthuswami', 'MS Bisla', 'RR Rossouw', 'AN Ahmed', 'RG More',\n",
       "       'DJG Sammy', 'CM Gautam', 'DJ Hussey', 'PP Ojha', 'BJ Hodge',\n",
       "       'Y Venugopal Rao', 'S Anirudha', 'YV Takawale', 'VH Zol', 'S Rana',\n",
       "       'KK Cooper', 'VS Malik', 'M de Lange', 'Shivam Sharma',\n",
       "       'WD Parnell', 'LRPL Taylor', 'R Shukla', 'DH Yagnik', 'M Manhas',\n",
       "       'LR Shukla', 'L Balaji', 'JH Kallis', 'BR Dunk', 'CA Pujara',\n",
       "       'R Rampaul', 'AM Nayar', 'S Badrinath', 'R Dravid', 'CL White',\n",
       "       'BB Samantray', 'P Dogra', 'LJ Wright', 'RV Gomez',\n",
       "       'DPMD Jayawardene', 'B Chipli', 'BJ Rohrer', 'AC Gilchrist',\n",
       "       'SK Trivedi', 'RE van der Merwe', 'DB Das', 'SMSM Senanayake',\n",
       "       'SR Tendulkar', 'MC Juneja', 'AB Agarkar', 'LA Pomersbach',\n",
       "       'A Mithun', 'M Kartik', 'Harmeet Singh', 'P Awana', 'UA Birla',\n",
       "       'M Rawat', 'K Upadhyay', 'MS Gony', 'KC Sangakkara', 'R McLaren',\n",
       "       'PA Reddy', 'BMAJ Mendis', 'OA Shah', 'TL Suman', 'BAW Mendis',\n",
       "       'R Sharma', 'S Narwal', 'B Lee', 'A Mukund', 'TM Dilshan',\n",
       "       'KB Arun Karthik', 'J Syed Mohammad', 'X Thalaivan Sargunam',\n",
       "       'AG Murtaza', 'IC Pandey', 'A Chandila', 'S Sreesanth', 'SW Tait',\n",
       "       'PC Valthaty', 'AD Mascarenhas', 'RT Ponting', 'AB McDonald',\n",
       "       'RJ Harris', 'DB Ravi Teja', 'MDKJ Perera', 'AL Menaria',\n",
       "       'Sunny Gupta', 'JEC Franklin', 'RP Singh', 'M Muralitharan',\n",
       "       'P Parameswaran', 'JD Ryder', 'MJ Clarke', 'SC Ganguly',\n",
       "       'AP Majumdar', 'CJ Ferguson', 'Harpreet Singh', 'SD Chitnis',\n",
       "       'N Saini', 'HH Gibbs', 'Y Nagar', 'MD Mishra', 'AC Thomas',\n",
       "       'DJ Harris', 'AA Jhunjhunwala', 'AUK Pathan', 'RJ Peterson',\n",
       "       'AA Chavan', 'V Pratap Singh', 'RE Levi', 'DL Vettori',\n",
       "       'KMDN Kulasekara', 'AC Blizzard', 'DJ Jacobs', 'CJ McKay',\n",
       "       'M Kaif', 'BA Bhatt', 'RR Bhatkal', 'A Singh', 'DAJ Bracewell',\n",
       "       'DE Bollinger', 'Y Gnaneswara Rao', 'JJ van der Wath',\n",
       "       'CK Langeveldt', 'S Sohal', 'FY Fazal', 'PR Shah', 'JDP Oram',\n",
       "       'SK Warne', 'ND Doshi', 'S Sriram', 'JR Hopes', 'TR Birt',\n",
       "       'MJ Lumb', 'A Symonds', 'MV Boucher', 'AS Raut', 'SJ Srivastava',\n",
       "       'M Klinger', 'RR Powar', 'Sunny Singh', 'L Ablish', 'I Malhotra',\n",
       "       'GC Smith', 'SB Wagh', 'NL McCullum', 'B Akhil', 'TD Paine',\n",
       "       'JE Taylor', 'VVS Laxman', 'BJ Haddin', 'Joginder Sharma',\n",
       "       'S Randiv', 'SA Asnodkar', 'AG Paunikar', 'R Ninan',\n",
       "       'NJ Rimmington', 'SB Styris', 'ML Hayden', 'CRD Fernando',\n",
       "       'Anirudh Singh', 'B Sumanth', 'A Kumble', 'WPUJC Vaas',\n",
       "       'PD Collingwood', 'AC Voges', 'Pankaj Singh', 'C Madan',\n",
       "       'KP Appanna', 'ST Jayasuriya', 'AP Dole', 'MF Maharoof',\n",
       "       'AB Barath', 'T Thushara', 'RS Sodhi', 'AA Bilakhia',\n",
       "       'Jaskaran Singh', 'K Goel', 'KAJ Roach', 'S Ladda', 'DP Nannes',\n",
       "       'JM Kemp', 'DR Martyn', 'RS Gavaskar', 'SE Bond', 'A Uniyal',\n",
       "       'S Tyagi', 'YA Abdulla', 'Mohammad Ashraful', 'SM Katich',\n",
       "       'WA Mota', 'RJ Quiney', 'NK Patel', 'T Henderson', 'Yashpal Singh',\n",
       "       'SS Shaikh', 'Mashrafe Mortaza', 'C Nanda', 'Shoaib Ahmed',\n",
       "       'AN Ghosh', 'LA Carseldine', 'MN van Wyk', 'SM Harwood',\n",
       "       'L Ronchi', 'RR Raje', 'W Jaffer', 'D du Preez', 'R Bishnoi',\n",
       "       'TM Srivastava', 'GR Napier', 'FH Edwards', 'SB Bangar',\n",
       "       'A Flintoff', 'T Kohli', 'A Chopra', 'Kamran Khan', 'S Vidyut',\n",
       "       'CK Kapugedera', 'Kamran Akmal', 'Sohail Tanvir', 'Mohammad Asif',\n",
       "       'VY Mahesh', 'GD McGrath', 'AS Yadav', 'Shahid Afridi',\n",
       "       'SP Fleming', 'SM Pollock', 'Salman Butt', 'Umar Gul',\n",
       "       'Misbah-ul-Haq', 'LPC Silva', 'M Ntini', 'VS Yeligati',\n",
       "       'Mohammad Hafeez', 'DJ Thornely', 'H Das', 'DNT Zoysa',\n",
       "       'J Arunkumar', 'DT Patil', 'Abdur Razzak', 'Shoaib Malik',\n",
       "       'Shoaib Akhtar', 'PM Sarvesh Kumar', 'DP Vijaykumar',\n",
       "       'Younis Khan', 'D Salunkhe', 'T Taibu', 'RR Sarwan', 'VRV Singh',\n",
       "       'U Kaul', 'S Chanderpaul', 'D Kalyankrishna', 'MA Khote',\n",
       "       'SB Joshi', 'DS Lehmann', 'AA Noffke'], dtype=object)"
      ]
     },
     "execution_count": 17,
     "metadata": {},
     "output_type": "execute_result"
    }
   ],
   "source": [
    "ball_by_ball_df[\"batter\"].unique()"
   ]
  },
  {
   "cell_type": "code",
   "execution_count": 18,
   "id": "f1d3190e-d2bc-4891-b441-a798162fc93e",
   "metadata": {},
   "outputs": [],
   "source": [
    "ball_by_ball_df[\"batter\"] = [text.strip() for text in ball_by_ball_df[\"batter\"]]  ## remove spaces"
   ]
  },
  {
   "cell_type": "code",
   "execution_count": 19,
   "id": "9854163d-5fed-4047-8f49-abee7d2c90d2",
   "metadata": {},
   "outputs": [],
   "source": [
    "ball_by_ball_df[\"batter\"] = [text.lower() for text in ball_by_ball_df[\"batter\"]]  ## everything in lowercase"
   ]
  },
  {
   "cell_type": "code",
   "execution_count": 20,
   "id": "8ff948b0-d706-4187-95d4-65b7c7d0da86",
   "metadata": {},
   "outputs": [
    {
     "data": {
      "text/plain": [
       "605"
      ]
     },
     "execution_count": 20,
     "metadata": {},
     "output_type": "execute_result"
    }
   ],
   "source": [
    "ball_by_ball_df[\"batter\"].nunique()"
   ]
  },
  {
   "cell_type": "markdown",
   "id": "f8c25a6a-c01e-4561-b0a5-3b9555337210",
   "metadata": {},
   "source": [
    "##### bowler"
   ]
  },
  {
   "cell_type": "code",
   "execution_count": 21,
   "id": "7c70646c-2511-408d-84fb-a8d9ff4cfbe5",
   "metadata": {},
   "outputs": [
    {
     "data": {
      "text/plain": [
       "472"
      ]
     },
     "execution_count": 21,
     "metadata": {},
     "output_type": "execute_result"
    }
   ],
   "source": [
    "ball_by_ball_df[\"bowler\"].nunique() "
   ]
  },
  {
   "cell_type": "code",
   "execution_count": 22,
   "id": "06e68dc0-299e-426e-a84a-a20f45b991fd",
   "metadata": {},
   "outputs": [],
   "source": [
    "ball_by_ball_df[\"bowler\"] = [text.strip() for text in ball_by_ball_df[\"bowler\"]]  ## remove spaces"
   ]
  },
  {
   "cell_type": "code",
   "execution_count": 23,
   "id": "6b394a37-408f-4bc6-8907-b0a77e1c371f",
   "metadata": {},
   "outputs": [],
   "source": [
    "ball_by_ball_df[\"bowler\"] = [text.lower() for text in ball_by_ball_df[\"bowler\"]]  ## everything in lowercase"
   ]
  },
  {
   "cell_type": "code",
   "execution_count": 24,
   "id": "31716a2a-2e61-46dd-a365-35c9d51cc758",
   "metadata": {},
   "outputs": [
    {
     "data": {
      "text/plain": [
       "472"
      ]
     },
     "execution_count": 24,
     "metadata": {},
     "output_type": "execute_result"
    }
   ],
   "source": [
    "ball_by_ball_df[\"bowler\"].nunique()"
   ]
  },
  {
   "cell_type": "markdown",
   "id": "a82efffa-8c1a-4c8d-ade3-4f2c6c7eadbc",
   "metadata": {},
   "source": [
    "##### non-striker"
   ]
  },
  {
   "cell_type": "code",
   "execution_count": 25,
   "id": "be3b3990-0fea-4464-89a5-1614073d24ed",
   "metadata": {},
   "outputs": [],
   "source": [
    "ball_by_ball_df.rename(columns={\"non-striker\": \"non_striker\"}, inplace=True)  ## rename the column"
   ]
  },
  {
   "cell_type": "code",
   "execution_count": 26,
   "id": "cd27aa04-6d25-48c0-9cd7-c2d7055977ab",
   "metadata": {},
   "outputs": [
    {
     "data": {
      "text/plain": [
       "595"
      ]
     },
     "execution_count": 26,
     "metadata": {},
     "output_type": "execute_result"
    }
   ],
   "source": [
    "ball_by_ball_df[\"non_striker\"].nunique() "
   ]
  },
  {
   "cell_type": "code",
   "execution_count": 27,
   "id": "1f159e1d-7847-4e79-a205-e95be58722e8",
   "metadata": {},
   "outputs": [],
   "source": [
    "ball_by_ball_df[\"non_striker\"] = [text.strip() for text in ball_by_ball_df[\"non_striker\"]]  ## remove spaces"
   ]
  },
  {
   "cell_type": "code",
   "execution_count": 28,
   "id": "cf85d329-c49a-4027-86a4-1c2162da9849",
   "metadata": {},
   "outputs": [],
   "source": [
    "ball_by_ball_df[\"non_striker\"] = [text.lower() for text in ball_by_ball_df[\"non_striker\"]]  ## everything in lowercase"
   ]
  },
  {
   "cell_type": "code",
   "execution_count": 29,
   "id": "b3eb2bc5-0f9e-4412-8a39-2d08b3210a77",
   "metadata": {},
   "outputs": [
    {
     "data": {
      "text/plain": [
       "595"
      ]
     },
     "execution_count": 29,
     "metadata": {},
     "output_type": "execute_result"
    }
   ],
   "source": [
    "ball_by_ball_df[\"non_striker\"].nunique()"
   ]
  },
  {
   "cell_type": "markdown",
   "id": "c88b23e8-29fd-4d09-bef3-88bf82299346",
   "metadata": {},
   "source": [
    "##### extra-types"
   ]
  },
  {
   "cell_type": "code",
   "execution_count": 30,
   "id": "81a7449f-4db9-4c44-b865-e8fe23bc8ef3",
   "metadata": {},
   "outputs": [
    {
     "data": {
      "text/plain": [
       "extra_type\n",
       "wides      7025\n",
       "legbyes    3531\n",
       "noballs     908\n",
       "byes        583\n",
       "penalty       2\n",
       "Name: count, dtype: int64"
      ]
     },
     "execution_count": 30,
     "metadata": {},
     "output_type": "execute_result"
    }
   ],
   "source": [
    "ball_by_ball_df[\"extra_type\"].value_counts() "
   ]
  },
  {
   "cell_type": "code",
   "execution_count": 31,
   "id": "f1387b96-0608-4e07-907f-3df1ff6ff880",
   "metadata": {},
   "outputs": [
    {
     "data": {
      "text/plain": [
       "213905"
      ]
     },
     "execution_count": 31,
     "metadata": {},
     "output_type": "execute_result"
    }
   ],
   "source": [
    "ball_by_ball_df[\"extra_type\"].isnull().sum()"
   ]
  },
  {
   "cell_type": "code",
   "execution_count": 32,
   "id": "d628b24d-4049-460f-9ca7-de7c97b60de7",
   "metadata": {},
   "outputs": [],
   "source": [
    "ball_by_ball_df[\"extra_type\"] = ball_by_ball_df[\"extra_type\"].fillna(\"noextra\") ## filling the NaN value with no extra type value"
   ]
  },
  {
   "cell_type": "code",
   "execution_count": 33,
   "id": "e26d2b9f-e34d-49ac-a42b-b760ed23aef5",
   "metadata": {},
   "outputs": [
    {
     "data": {
      "text/plain": [
       "extra_type\n",
       "noextra    213905\n",
       "wides        7025\n",
       "legbyes      3531\n",
       "noballs       908\n",
       "byes          583\n",
       "penalty         2\n",
       "Name: count, dtype: int64"
      ]
     },
     "execution_count": 33,
     "metadata": {},
     "output_type": "execute_result"
    }
   ],
   "source": [
    "ball_by_ball_df[\"extra_type\"].value_counts()"
   ]
  },
  {
   "cell_type": "markdown",
   "id": "d07a4056-7301-4a4c-a67d-694a82df015b",
   "metadata": {},
   "source": [
    "##### \tbatsman_run"
   ]
  },
  {
   "cell_type": "code",
   "execution_count": 34,
   "id": "bc876cfd-f7f6-4341-b422-f0ab982898e7",
   "metadata": {},
   "outputs": [
    {
     "data": {
      "text/plain": [
       "array([0, 1, 4, 6, 3, 2, 5])"
      ]
     },
     "execution_count": 34,
     "metadata": {},
     "output_type": "execute_result"
    }
   ],
   "source": [
    "ball_by_ball_df[\"batsman_run\"].unique() "
   ]
  },
  {
   "cell_type": "code",
   "execution_count": 35,
   "id": "b77eff6c-f24c-477e-bfc5-c29f1c32e1be",
   "metadata": {},
   "outputs": [
    {
     "data": {
      "text/plain": [
       "batsman_run\n",
       "0    90778\n",
       "1    83928\n",
       "4    25500\n",
       "2    14313\n",
       "6    10666\n",
       "3      708\n",
       "5       61\n",
       "Name: count, dtype: int64"
      ]
     },
     "execution_count": 35,
     "metadata": {},
     "output_type": "execute_result"
    }
   ],
   "source": [
    "ball_by_ball_df[\"batsman_run\"].value_counts() ## OK "
   ]
  },
  {
   "cell_type": "markdown",
   "id": "afbafdb1-fcfa-4de6-be24-afdbeb8ca24c",
   "metadata": {},
   "source": [
    "##### extras_run"
   ]
  },
  {
   "cell_type": "code",
   "execution_count": 36,
   "id": "d1a73c10-e0c1-45b4-8c29-d0ff67e00e8c",
   "metadata": {},
   "outputs": [
    {
     "data": {
      "text/plain": [
       "array([0, 1, 5, 4, 2, 3, 7])"
      ]
     },
     "execution_count": 36,
     "metadata": {},
     "output_type": "execute_result"
    }
   ],
   "source": [
    "ball_by_ball_df[\"extras_run\"].unique()"
   ]
  },
  {
   "cell_type": "code",
   "execution_count": 37,
   "id": "b1025948-b0b5-4e24-a2e6-e1b8e40b890b",
   "metadata": {},
   "outputs": [
    {
     "data": {
      "text/plain": [
       "extras_run\n",
       "0    213905\n",
       "1     10760\n",
       "2       499\n",
       "4       436\n",
       "5       275\n",
       "3        78\n",
       "7         1\n",
       "Name: count, dtype: int64"
      ]
     },
     "execution_count": 37,
     "metadata": {},
     "output_type": "execute_result"
    }
   ],
   "source": [
    "ball_by_ball_df[\"extras_run\"].value_counts() ## OK "
   ]
  },
  {
   "cell_type": "markdown",
   "id": "957a61c6-cb6f-4ee7-804b-8a90da82af3b",
   "metadata": {},
   "source": [
    "##### total_run"
   ]
  },
  {
   "cell_type": "code",
   "execution_count": 38,
   "id": "3ccab04f-0c10-4832-806e-961b32e219bf",
   "metadata": {},
   "outputs": [
    {
     "data": {
      "text/plain": [
       "array([0, 1, 4, 6, 3, 2, 5, 7])"
      ]
     },
     "execution_count": 38,
     "metadata": {},
     "output_type": "execute_result"
    }
   ],
   "source": [
    "ball_by_ball_df[\"total_run\"].unique()"
   ]
  },
  {
   "cell_type": "code",
   "execution_count": 39,
   "id": "15e2c701-e47c-473d-a360-98d36c2d6e23",
   "metadata": {},
   "outputs": [
    {
     "data": {
      "text/plain": [
       "total_run\n",
       "1    93861\n",
       "0    79253\n",
       "4    25828\n",
       "2    15065\n",
       "6    10603\n",
       "3      836\n",
       "5      444\n",
       "7       64\n",
       "Name: count, dtype: int64"
      ]
     },
     "execution_count": 39,
     "metadata": {},
     "output_type": "execute_result"
    }
   ],
   "source": [
    "ball_by_ball_df[\"total_run\"].value_counts() ## OK "
   ]
  },
  {
   "cell_type": "markdown",
   "id": "f8be13e8-1bd2-41e1-92fa-8d81db978ef4",
   "metadata": {},
   "source": [
    "##### non_boundary"
   ]
  },
  {
   "cell_type": "code",
   "execution_count": 40,
   "id": "8820e094-3af1-4b20-824b-a7d0e226ca9c",
   "metadata": {},
   "outputs": [
    {
     "data": {
      "text/plain": [
       "array([0, 1])"
      ]
     },
     "execution_count": 40,
     "metadata": {},
     "output_type": "execute_result"
    }
   ],
   "source": [
    "ball_by_ball_df[\"non_boundary\"].unique()"
   ]
  },
  {
   "cell_type": "code",
   "execution_count": 41,
   "id": "31b7fa95-8656-4490-8ddb-11664c1821c9",
   "metadata": {},
   "outputs": [
    {
     "data": {
      "text/plain": [
       "non_boundary\n",
       "0    225933\n",
       "1        21\n",
       "Name: count, dtype: int64"
      ]
     },
     "execution_count": 41,
     "metadata": {},
     "output_type": "execute_result"
    }
   ],
   "source": [
    "ball_by_ball_df[\"non_boundary\"].value_counts() ## OK "
   ]
  },
  {
   "cell_type": "markdown",
   "id": "b5fb332e-b722-4957-bdc9-c5072014bffa",
   "metadata": {},
   "source": [
    "##### isWicketDelivery"
   ]
  },
  {
   "cell_type": "code",
   "execution_count": 42,
   "id": "8b9c472d-6da9-40e0-b696-fe4688d97f68",
   "metadata": {},
   "outputs": [
    {
     "data": {
      "text/plain": [
       "array([0, 1])"
      ]
     },
     "execution_count": 42,
     "metadata": {},
     "output_type": "execute_result"
    }
   ],
   "source": [
    "ball_by_ball_df[\"isWicketDelivery\"].unique()"
   ]
  },
  {
   "cell_type": "code",
   "execution_count": 43,
   "id": "6f341a29-0926-4c5e-b234-31c754e7f357",
   "metadata": {},
   "outputs": [
    {
     "data": {
      "text/plain": [
       "isWicketDelivery\n",
       "0    214803\n",
       "1     11151\n",
       "Name: count, dtype: int64"
      ]
     },
     "execution_count": 43,
     "metadata": {},
     "output_type": "execute_result"
    }
   ],
   "source": [
    "ball_by_ball_df[\"isWicketDelivery\"].value_counts() ## OK "
   ]
  },
  {
   "cell_type": "markdown",
   "id": "8689b727-e2d4-4928-84ef-f156229235bc",
   "metadata": {},
   "source": [
    "##### player_out"
   ]
  },
  {
   "cell_type": "code",
   "execution_count": 44,
   "id": "197421af-fc46-49b2-bf54-0c617c2f3d61",
   "metadata": {},
   "outputs": [
    {
     "data": {
      "text/plain": [
       "573"
      ]
     },
     "execution_count": 44,
     "metadata": {},
     "output_type": "execute_result"
    }
   ],
   "source": [
    "ball_by_ball_df[\"player_out\"].nunique()"
   ]
  },
  {
   "cell_type": "code",
   "execution_count": 45,
   "id": "e7d82207-9d22-4288-a0d1-66366e82ae91",
   "metadata": {},
   "outputs": [
    {
     "data": {
      "text/plain": [
       "214803"
      ]
     },
     "execution_count": 45,
     "metadata": {},
     "output_type": "execute_result"
    }
   ],
   "source": [
    "ball_by_ball_df[\"player_out\"].isnull().sum()"
   ]
  },
  {
   "cell_type": "code",
   "execution_count": 46,
   "id": "ceff1b26-049e-4999-979a-126c51802f8c",
   "metadata": {},
   "outputs": [],
   "source": [
    "ball_by_ball_df[\"player_out\"] = ball_by_ball_df[\"player_out\"].fillna(\"noplayerout\") ## filling the NaN value with no player out value"
   ]
  },
  {
   "cell_type": "code",
   "execution_count": 47,
   "id": "682c5182-4d28-4c6d-8ce8-72cc80e3678c",
   "metadata": {},
   "outputs": [],
   "source": [
    "ball_by_ball_df[\"player_out\"] = [text.strip() for text in ball_by_ball_df[\"player_out\"]]  ## remove spaces"
   ]
  },
  {
   "cell_type": "code",
   "execution_count": 48,
   "id": "e0d514d0-f42f-40f1-9b58-53c0bd635c3e",
   "metadata": {},
   "outputs": [],
   "source": [
    "ball_by_ball_df[\"player_out\"] = [text.lower() for text in ball_by_ball_df[\"player_out\"]]"
   ]
  },
  {
   "cell_type": "markdown",
   "id": "1c16de92-717f-47d7-a9f8-443b5eaf0978",
   "metadata": {},
   "source": [
    "##### kind"
   ]
  },
  {
   "cell_type": "code",
   "execution_count": 49,
   "id": "b30ec609-1aa0-403e-8009-5e03685b8e0b",
   "metadata": {},
   "outputs": [
    {
     "data": {
      "text/plain": [
       "array([nan, 'caught', 'caught and bowled', 'run out', 'bowled', 'stumped',\n",
       "       'lbw', 'hit wicket', 'retired hurt', 'retired out',\n",
       "       'obstructing the field'], dtype=object)"
      ]
     },
     "execution_count": 49,
     "metadata": {},
     "output_type": "execute_result"
    }
   ],
   "source": [
    "ball_by_ball_df[\"kind\"].unique()"
   ]
  },
  {
   "cell_type": "code",
   "execution_count": 50,
   "id": "da7c56c9-ecad-477c-8a6b-0ad37aeda091",
   "metadata": {},
   "outputs": [
    {
     "data": {
      "text/plain": [
       "214803"
      ]
     },
     "execution_count": 50,
     "metadata": {},
     "output_type": "execute_result"
    }
   ],
   "source": [
    "ball_by_ball_df[\"kind\"].isnull().sum()"
   ]
  },
  {
   "cell_type": "code",
   "execution_count": 51,
   "id": "91bc2689-c80b-46c9-b93b-02557cf6d37a",
   "metadata": {},
   "outputs": [
    {
     "data": {
      "text/plain": [
       "kind\n",
       "caught                   6837\n",
       "bowled                   1944\n",
       "run out                  1007\n",
       "lbw                       685\n",
       "stumped                   325\n",
       "caught and bowled         323\n",
       "hit wicket                 14\n",
       "retired hurt               13\n",
       "obstructing the field       2\n",
       "retired out                 1\n",
       "Name: count, dtype: int64"
      ]
     },
     "execution_count": 51,
     "metadata": {},
     "output_type": "execute_result"
    }
   ],
   "source": [
    "ball_by_ball_df[\"kind\"].value_counts()"
   ]
  },
  {
   "cell_type": "code",
   "execution_count": 52,
   "id": "1c9eee6c-42b7-49d3-af3b-8f48f1ddc54f",
   "metadata": {},
   "outputs": [],
   "source": [
    "ball_by_ball_df[\"kind\"] = ball_by_ball_df[\"kind\"].fillna(\"nokind\") ## filling the NaN value with nokind value"
   ]
  },
  {
   "cell_type": "code",
   "execution_count": 53,
   "id": "9f72c3c5-39d9-45f9-ba6c-691f310b337f",
   "metadata": {},
   "outputs": [],
   "source": [
    "ball_by_ball_df[\"kind\"] = [text.strip() for text in ball_by_ball_df[\"kind\"]]  ## remove spaces"
   ]
  },
  {
   "cell_type": "code",
   "execution_count": 54,
   "id": "67520023-a179-46b1-a376-8c568ee975a9",
   "metadata": {},
   "outputs": [],
   "source": [
    "ball_by_ball_df[\"kind\"] = [text.lower() for text in ball_by_ball_df[\"kind\"]]"
   ]
  },
  {
   "cell_type": "markdown",
   "id": "269dd72c-8ee2-4282-b0d4-8dc0efe70089",
   "metadata": {},
   "source": [
    "##### fielders_involved"
   ]
  },
  {
   "cell_type": "code",
   "execution_count": 55,
   "id": "4e820fb9-a3d5-4548-8d9b-c9612897e31e",
   "metadata": {},
   "outputs": [
    {
     "data": {
      "text/plain": [
       "535"
      ]
     },
     "execution_count": 55,
     "metadata": {},
     "output_type": "execute_result"
    }
   ],
   "source": [
    "ball_by_ball_df[\"fielders_involved\"].nunique()"
   ]
  },
  {
   "cell_type": "code",
   "execution_count": 56,
   "id": "2df8c90f-f4b3-4c21-8449-c003ce410381",
   "metadata": {},
   "outputs": [
    {
     "data": {
      "text/plain": [
       "217966"
      ]
     },
     "execution_count": 56,
     "metadata": {},
     "output_type": "execute_result"
    }
   ],
   "source": [
    "ball_by_ball_df[\"fielders_involved\"].isnull().sum()"
   ]
  },
  {
   "cell_type": "code",
   "execution_count": 57,
   "id": "c106b7a7-03b2-4d19-9599-9d694928d700",
   "metadata": {},
   "outputs": [],
   "source": [
    "ball_by_ball_df[\"fielders_involved\"] = ball_by_ball_df[\"fielders_involved\"].fillna(\"nofieldersinvolved\") ## filling the NaN value with no fileder involved value"
   ]
  },
  {
   "cell_type": "code",
   "execution_count": 58,
   "id": "bad7432d-0f52-4c68-88c5-91ea0dd416be",
   "metadata": {},
   "outputs": [],
   "source": [
    "ball_by_ball_df[\"fielders_involved\"] = [text.strip() for text in ball_by_ball_df[\"fielders_involved\"]]  ## remove spaces"
   ]
  },
  {
   "cell_type": "code",
   "execution_count": 59,
   "id": "5819ced8-17f1-4295-9c1c-89505646d84e",
   "metadata": {},
   "outputs": [],
   "source": [
    "ball_by_ball_df[\"fielders_involved\"] = [text.lower() for text in ball_by_ball_df[\"fielders_involved\"]]"
   ]
  },
  {
   "cell_type": "code",
   "execution_count": 60,
   "id": "8e296df5-e15f-4811-a96b-14379cde7308",
   "metadata": {},
   "outputs": [
    {
     "data": {
      "text/plain": [
       "fielders_involved\n",
       "nofieldersinvolved    217966\n",
       "ms dhoni                 196\n",
       "kd karthik               182\n",
       "ab de villiers           141\n",
       "rv uthappa               133\n",
       "                       ...  \n",
       "ts mills                   1\n",
       "vg arora                   1\n",
       "pn mankad                  1\n",
       "anmolpreet singh           1\n",
       "nj maddinson               1\n",
       "Name: count, Length: 536, dtype: int64"
      ]
     },
     "execution_count": 60,
     "metadata": {},
     "output_type": "execute_result"
    }
   ],
   "source": [
    "ball_by_ball_df[\"fielders_involved\"].value_counts()"
   ]
  },
  {
   "cell_type": "markdown",
   "id": "1bfc0617-4f43-47ea-a171-7a6891baac49",
   "metadata": {},
   "source": [
    "##### BattingTeam"
   ]
  },
  {
   "cell_type": "code",
   "execution_count": 61,
   "id": "2c93b70a-188f-4e21-badb-63a35d15bfbc",
   "metadata": {},
   "outputs": [
    {
     "data": {
      "text/plain": [
       "array(['Rajasthan Royals', 'Gujarat Titans',\n",
       "       'Royal Challengers Bangalore', 'Lucknow Super Giants',\n",
       "       'Sunrisers Hyderabad', 'Punjab Kings', 'Delhi Capitals',\n",
       "       'Mumbai Indians', 'Chennai Super Kings', 'Kolkata Knight Riders',\n",
       "       'Kings XI Punjab', 'Delhi Daredevils', 'Rising Pune Supergiant',\n",
       "       'Gujarat Lions', 'Rising Pune Supergiants', 'Pune Warriors',\n",
       "       'Deccan Chargers', 'Kochi Tuskers Kerala'], dtype=object)"
      ]
     },
     "execution_count": 61,
     "metadata": {},
     "output_type": "execute_result"
    }
   ],
   "source": [
    "ball_by_ball_df[\"BattingTeam\"].unique()"
   ]
  },
  {
   "cell_type": "code",
   "execution_count": 62,
   "id": "fb45fff3-55eb-4bdc-8ff4-a3742b6e19ed",
   "metadata": {},
   "outputs": [],
   "source": [
    "ball_by_ball_df[\"BattingTeam\"] = [text.strip() for text in ball_by_ball_df[\"BattingTeam\"]]  ## remove spaces"
   ]
  },
  {
   "cell_type": "code",
   "execution_count": 63,
   "id": "78b5ea9a-f264-4b6f-92db-26cbdf00b520",
   "metadata": {},
   "outputs": [],
   "source": [
    "ball_by_ball_df[\"BattingTeam\"] = [text.lower() for text in ball_by_ball_df[\"BattingTeam\"]]"
   ]
  },
  {
   "cell_type": "code",
   "execution_count": 64,
   "id": "2a316b0a-64e1-4303-bc97-7d388e7e08d3",
   "metadata": {},
   "outputs": [
    {
     "data": {
      "text/plain": [
       "BattingTeam\n",
       "mumbai indians                 27826\n",
       "royal challengers bangalore    26512\n",
       "kolkata knight riders          26192\n",
       "chennai super kings            25128\n",
       "rajasthan royals               22777\n",
       "kings xi punjab                22646\n",
       "delhi daredevils               18786\n",
       "sunrisers hyderabad            18196\n",
       "deccan chargers                 9034\n",
       "delhi capitals                  7587\n",
       "pune warriors                   5443\n",
       "gujarat lions                   3566\n",
       "punjab kings                    3388\n",
       "gujarat titans                  1971\n",
       "rising pune supergiant          1900\n",
       "lucknow super giants            1840\n",
       "kochi tuskers kerala            1582\n",
       "rising pune supergiants         1580\n",
       "Name: count, dtype: int64"
      ]
     },
     "execution_count": 64,
     "metadata": {},
     "output_type": "execute_result"
    }
   ],
   "source": [
    "ball_by_ball_df[\"BattingTeam\"].value_counts()"
   ]
  },
  {
   "cell_type": "code",
   "execution_count": null,
   "id": "db9285e4-a1e6-48c5-a8e8-e2a1d9d98e5f",
   "metadata": {},
   "outputs": [],
   "source": []
  },
  {
   "cell_type": "markdown",
   "id": "c2e19b35-cfa4-43b9-a5be-fbb7e742b9bf",
   "metadata": {},
   "source": [
    "# see the new dataframe \n"
   ]
  },
  {
   "cell_type": "code",
   "execution_count": 71,
   "id": "f9e58a1a-1b49-4935-b178-0dd5d2e03049",
   "metadata": {},
   "outputs": [
    {
     "name": "stdout",
     "output_type": "stream",
     "text": [
      "<class 'pandas.core.frame.DataFrame'>\n",
      "RangeIndex: 225954 entries, 0 to 225953\n",
      "Data columns (total 17 columns):\n",
      " #   Column             Non-Null Count   Dtype \n",
      "---  ------             --------------   ----- \n",
      " 0   ID                 225954 non-null  int64 \n",
      " 1   innings            225954 non-null  int64 \n",
      " 2   overs              225954 non-null  int64 \n",
      " 3   ballnumber         225954 non-null  int64 \n",
      " 4   batter             225954 non-null  object\n",
      " 5   bowler             225954 non-null  object\n",
      " 6   non_striker        225954 non-null  object\n",
      " 7   extra_type         225954 non-null  object\n",
      " 8   batsman_run        225954 non-null  int64 \n",
      " 9   extras_run         225954 non-null  int64 \n",
      " 10  total_run          225954 non-null  int64 \n",
      " 11  non_boundary       225954 non-null  int64 \n",
      " 12  isWicketDelivery   225954 non-null  int64 \n",
      " 13  player_out         225954 non-null  object\n",
      " 14  kind               225954 non-null  object\n",
      " 15  fielders_involved  225954 non-null  object\n",
      " 16  BattingTeam        225954 non-null  object\n",
      "dtypes: int64(9), object(8)\n",
      "memory usage: 29.3+ MB\n"
     ]
    }
   ],
   "source": [
    "ball_by_ball_df.info()"
   ]
  },
  {
   "cell_type": "code",
   "execution_count": 73,
   "id": "6e00d65d-06ca-448b-ae63-f43bdf2bb003",
   "metadata": {},
   "outputs": [
    {
     "data": {
      "text/html": [
       "<div>\n",
       "<style scoped>\n",
       "    .dataframe tbody tr th:only-of-type {\n",
       "        vertical-align: middle;\n",
       "    }\n",
       "\n",
       "    .dataframe tbody tr th {\n",
       "        vertical-align: top;\n",
       "    }\n",
       "\n",
       "    .dataframe thead th {\n",
       "        text-align: right;\n",
       "    }\n",
       "</style>\n",
       "<table border=\"1\" class=\"dataframe\">\n",
       "  <thead>\n",
       "    <tr style=\"text-align: right;\">\n",
       "      <th></th>\n",
       "      <th>ID</th>\n",
       "      <th>innings</th>\n",
       "      <th>overs</th>\n",
       "      <th>ballnumber</th>\n",
       "      <th>batsman_run</th>\n",
       "      <th>extras_run</th>\n",
       "      <th>total_run</th>\n",
       "      <th>non_boundary</th>\n",
       "      <th>isWicketDelivery</th>\n",
       "    </tr>\n",
       "  </thead>\n",
       "  <tbody>\n",
       "    <tr>\n",
       "      <th>count</th>\n",
       "      <td>2.259540e+05</td>\n",
       "      <td>225954.000000</td>\n",
       "      <td>225954.000000</td>\n",
       "      <td>225954.000000</td>\n",
       "      <td>225954.000000</td>\n",
       "      <td>225954.000000</td>\n",
       "      <td>225954.00000</td>\n",
       "      <td>225954.000000</td>\n",
       "      <td>225954.000000</td>\n",
       "    </tr>\n",
       "    <tr>\n",
       "      <th>mean</th>\n",
       "      <td>8.320470e+05</td>\n",
       "      <td>1.483868</td>\n",
       "      <td>10.185679</td>\n",
       "      <td>3.619750</td>\n",
       "      <td>1.243523</td>\n",
       "      <td>0.066907</td>\n",
       "      <td>1.31043</td>\n",
       "      <td>0.000093</td>\n",
       "      <td>0.049351</td>\n",
       "    </tr>\n",
       "    <tr>\n",
       "      <th>std</th>\n",
       "      <td>3.379542e+05</td>\n",
       "      <td>0.503104</td>\n",
       "      <td>5.681797</td>\n",
       "      <td>1.810633</td>\n",
       "      <td>1.618166</td>\n",
       "      <td>0.341470</td>\n",
       "      <td>1.60605</td>\n",
       "      <td>0.009640</td>\n",
       "      <td>0.216600</td>\n",
       "    </tr>\n",
       "    <tr>\n",
       "      <th>min</th>\n",
       "      <td>3.359820e+05</td>\n",
       "      <td>1.000000</td>\n",
       "      <td>1.000000</td>\n",
       "      <td>1.000000</td>\n",
       "      <td>0.000000</td>\n",
       "      <td>0.000000</td>\n",
       "      <td>0.00000</td>\n",
       "      <td>0.000000</td>\n",
       "      <td>0.000000</td>\n",
       "    </tr>\n",
       "    <tr>\n",
       "      <th>25%</th>\n",
       "      <td>5.012620e+05</td>\n",
       "      <td>1.000000</td>\n",
       "      <td>5.000000</td>\n",
       "      <td>2.000000</td>\n",
       "      <td>0.000000</td>\n",
       "      <td>0.000000</td>\n",
       "      <td>0.00000</td>\n",
       "      <td>0.000000</td>\n",
       "      <td>0.000000</td>\n",
       "    </tr>\n",
       "    <tr>\n",
       "      <th>50%</th>\n",
       "      <td>8.297370e+05</td>\n",
       "      <td>1.000000</td>\n",
       "      <td>10.000000</td>\n",
       "      <td>4.000000</td>\n",
       "      <td>1.000000</td>\n",
       "      <td>0.000000</td>\n",
       "      <td>1.00000</td>\n",
       "      <td>0.000000</td>\n",
       "      <td>0.000000</td>\n",
       "    </tr>\n",
       "    <tr>\n",
       "      <th>75%</th>\n",
       "      <td>1.178395e+06</td>\n",
       "      <td>2.000000</td>\n",
       "      <td>15.000000</td>\n",
       "      <td>5.000000</td>\n",
       "      <td>1.000000</td>\n",
       "      <td>0.000000</td>\n",
       "      <td>1.00000</td>\n",
       "      <td>0.000000</td>\n",
       "      <td>0.000000</td>\n",
       "    </tr>\n",
       "    <tr>\n",
       "      <th>max</th>\n",
       "      <td>1.312200e+06</td>\n",
       "      <td>6.000000</td>\n",
       "      <td>20.000000</td>\n",
       "      <td>10.000000</td>\n",
       "      <td>6.000000</td>\n",
       "      <td>7.000000</td>\n",
       "      <td>7.00000</td>\n",
       "      <td>1.000000</td>\n",
       "      <td>1.000000</td>\n",
       "    </tr>\n",
       "  </tbody>\n",
       "</table>\n",
       "</div>"
      ],
      "text/plain": [
       "                 ID        innings          overs     ballnumber  \\\n",
       "count  2.259540e+05  225954.000000  225954.000000  225954.000000   \n",
       "mean   8.320470e+05       1.483868      10.185679       3.619750   \n",
       "std    3.379542e+05       0.503104       5.681797       1.810633   \n",
       "min    3.359820e+05       1.000000       1.000000       1.000000   \n",
       "25%    5.012620e+05       1.000000       5.000000       2.000000   \n",
       "50%    8.297370e+05       1.000000      10.000000       4.000000   \n",
       "75%    1.178395e+06       2.000000      15.000000       5.000000   \n",
       "max    1.312200e+06       6.000000      20.000000      10.000000   \n",
       "\n",
       "         batsman_run     extras_run     total_run   non_boundary  \\\n",
       "count  225954.000000  225954.000000  225954.00000  225954.000000   \n",
       "mean        1.243523       0.066907       1.31043       0.000093   \n",
       "std         1.618166       0.341470       1.60605       0.009640   \n",
       "min         0.000000       0.000000       0.00000       0.000000   \n",
       "25%         0.000000       0.000000       0.00000       0.000000   \n",
       "50%         1.000000       0.000000       1.00000       0.000000   \n",
       "75%         1.000000       0.000000       1.00000       0.000000   \n",
       "max         6.000000       7.000000       7.00000       1.000000   \n",
       "\n",
       "       isWicketDelivery  \n",
       "count     225954.000000  \n",
       "mean           0.049351  \n",
       "std            0.216600  \n",
       "min            0.000000  \n",
       "25%            0.000000  \n",
       "50%            0.000000  \n",
       "75%            0.000000  \n",
       "max            1.000000  "
      ]
     },
     "execution_count": 73,
     "metadata": {},
     "output_type": "execute_result"
    }
   ],
   "source": [
    "ball_by_ball_df.describe()"
   ]
  }
 ],
 "metadata": {
  "kernelspec": {
   "display_name": "Python 3 (ipykernel)",
   "language": "python",
   "name": "python3"
  },
  "language_info": {
   "codemirror_mode": {
    "name": "ipython",
    "version": 3
   },
   "file_extension": ".py",
   "mimetype": "text/x-python",
   "name": "python",
   "nbconvert_exporter": "python",
   "pygments_lexer": "ipython3",
   "version": "3.10.6"
  }
 },
 "nbformat": 4,
 "nbformat_minor": 5
}
