{
 "cells": [
  {
   "cell_type": "markdown",
   "id": "185b12bd-5230-4b66-88a3-d851296c2976",
   "metadata": {},
   "source": [
    "# Cleaning the ball_by_ball dataset"
   ]
  },
  {
   "cell_type": "code",
   "execution_count": 1,
   "id": "86fa3c7a-a66a-450e-87d7-ab82f96e6b92",
   "metadata": {},
   "outputs": [],
   "source": [
    "%load_ext autoreload\n",
    "%autoreload 2"
   ]
  },
  {
   "cell_type": "code",
   "execution_count": 2,
   "id": "700d4a1f-f614-4d34-ac81-1eba44a4f7c4",
   "metadata": {},
   "outputs": [],
   "source": [
    "import pandas as pd\n",
    "import numpy as np"
   ]
  },
  {
   "cell_type": "markdown",
   "id": "d7eb34ef-a95a-4785-b77c-eadd2f15ce91",
   "metadata": {},
   "source": [
    "## Downloading the dataset"
   ]
  },
  {
   "cell_type": "code",
   "execution_count": 3,
   "id": "16110525-af0f-401d-82fb-cd7841c3fd7d",
   "metadata": {},
   "outputs": [],
   "source": [
    "ball_by_ball_df = pd.read_csv(\"../raw_data/IPL_Ball_by_Ball_2008_2022.csv\")"
   ]
  },
  {
   "cell_type": "markdown",
   "id": "e27969ef-9fc0-4f8d-af32-fd8d3a1b6d18",
   "metadata": {},
   "source": [
    "## Exploring data"
   ]
  },
  {
   "cell_type": "code",
   "execution_count": 4,
   "id": "39dc57a2-5130-4888-b135-1032db4b539a",
   "metadata": {
    "scrolled": true
   },
   "outputs": [
    {
     "data": {
      "text/html": [
       "<div>\n",
       "<style scoped>\n",
       "    .dataframe tbody tr th:only-of-type {\n",
       "        vertical-align: middle;\n",
       "    }\n",
       "\n",
       "    .dataframe tbody tr th {\n",
       "        vertical-align: top;\n",
       "    }\n",
       "\n",
       "    .dataframe thead th {\n",
       "        text-align: right;\n",
       "    }\n",
       "</style>\n",
       "<table border=\"1\" class=\"dataframe\">\n",
       "  <thead>\n",
       "    <tr style=\"text-align: right;\">\n",
       "      <th></th>\n",
       "      <th>ID</th>\n",
       "      <th>innings</th>\n",
       "      <th>overs</th>\n",
       "      <th>ballnumber</th>\n",
       "      <th>batter</th>\n",
       "      <th>bowler</th>\n",
       "      <th>non-striker</th>\n",
       "      <th>extra_type</th>\n",
       "      <th>batsman_run</th>\n",
       "      <th>extras_run</th>\n",
       "      <th>total_run</th>\n",
       "      <th>non_boundary</th>\n",
       "      <th>isWicketDelivery</th>\n",
       "      <th>player_out</th>\n",
       "      <th>kind</th>\n",
       "      <th>fielders_involved</th>\n",
       "      <th>BattingTeam</th>\n",
       "    </tr>\n",
       "  </thead>\n",
       "  <tbody>\n",
       "    <tr>\n",
       "      <th>0</th>\n",
       "      <td>1312200</td>\n",
       "      <td>1</td>\n",
       "      <td>0</td>\n",
       "      <td>1</td>\n",
       "      <td>YBK Jaiswal</td>\n",
       "      <td>Mohammed Shami</td>\n",
       "      <td>JC Buttler</td>\n",
       "      <td>NaN</td>\n",
       "      <td>0</td>\n",
       "      <td>0</td>\n",
       "      <td>0</td>\n",
       "      <td>0</td>\n",
       "      <td>0</td>\n",
       "      <td>NaN</td>\n",
       "      <td>NaN</td>\n",
       "      <td>NaN</td>\n",
       "      <td>Rajasthan Royals</td>\n",
       "    </tr>\n",
       "    <tr>\n",
       "      <th>1</th>\n",
       "      <td>1312200</td>\n",
       "      <td>1</td>\n",
       "      <td>0</td>\n",
       "      <td>2</td>\n",
       "      <td>YBK Jaiswal</td>\n",
       "      <td>Mohammed Shami</td>\n",
       "      <td>JC Buttler</td>\n",
       "      <td>legbyes</td>\n",
       "      <td>0</td>\n",
       "      <td>1</td>\n",
       "      <td>1</td>\n",
       "      <td>0</td>\n",
       "      <td>0</td>\n",
       "      <td>NaN</td>\n",
       "      <td>NaN</td>\n",
       "      <td>NaN</td>\n",
       "      <td>Rajasthan Royals</td>\n",
       "    </tr>\n",
       "    <tr>\n",
       "      <th>2</th>\n",
       "      <td>1312200</td>\n",
       "      <td>1</td>\n",
       "      <td>0</td>\n",
       "      <td>3</td>\n",
       "      <td>JC Buttler</td>\n",
       "      <td>Mohammed Shami</td>\n",
       "      <td>YBK Jaiswal</td>\n",
       "      <td>NaN</td>\n",
       "      <td>1</td>\n",
       "      <td>0</td>\n",
       "      <td>1</td>\n",
       "      <td>0</td>\n",
       "      <td>0</td>\n",
       "      <td>NaN</td>\n",
       "      <td>NaN</td>\n",
       "      <td>NaN</td>\n",
       "      <td>Rajasthan Royals</td>\n",
       "    </tr>\n",
       "    <tr>\n",
       "      <th>3</th>\n",
       "      <td>1312200</td>\n",
       "      <td>1</td>\n",
       "      <td>0</td>\n",
       "      <td>4</td>\n",
       "      <td>YBK Jaiswal</td>\n",
       "      <td>Mohammed Shami</td>\n",
       "      <td>JC Buttler</td>\n",
       "      <td>NaN</td>\n",
       "      <td>0</td>\n",
       "      <td>0</td>\n",
       "      <td>0</td>\n",
       "      <td>0</td>\n",
       "      <td>0</td>\n",
       "      <td>NaN</td>\n",
       "      <td>NaN</td>\n",
       "      <td>NaN</td>\n",
       "      <td>Rajasthan Royals</td>\n",
       "    </tr>\n",
       "    <tr>\n",
       "      <th>4</th>\n",
       "      <td>1312200</td>\n",
       "      <td>1</td>\n",
       "      <td>0</td>\n",
       "      <td>5</td>\n",
       "      <td>YBK Jaiswal</td>\n",
       "      <td>Mohammed Shami</td>\n",
       "      <td>JC Buttler</td>\n",
       "      <td>NaN</td>\n",
       "      <td>0</td>\n",
       "      <td>0</td>\n",
       "      <td>0</td>\n",
       "      <td>0</td>\n",
       "      <td>0</td>\n",
       "      <td>NaN</td>\n",
       "      <td>NaN</td>\n",
       "      <td>NaN</td>\n",
       "      <td>Rajasthan Royals</td>\n",
       "    </tr>\n",
       "  </tbody>\n",
       "</table>\n",
       "</div>"
      ],
      "text/plain": [
       "        ID  innings  overs  ballnumber       batter          bowler  \\\n",
       "0  1312200        1      0           1  YBK Jaiswal  Mohammed Shami   \n",
       "1  1312200        1      0           2  YBK Jaiswal  Mohammed Shami   \n",
       "2  1312200        1      0           3   JC Buttler  Mohammed Shami   \n",
       "3  1312200        1      0           4  YBK Jaiswal  Mohammed Shami   \n",
       "4  1312200        1      0           5  YBK Jaiswal  Mohammed Shami   \n",
       "\n",
       "   non-striker extra_type  batsman_run  extras_run  total_run  non_boundary  \\\n",
       "0   JC Buttler        NaN            0           0          0             0   \n",
       "1   JC Buttler    legbyes            0           1          1             0   \n",
       "2  YBK Jaiswal        NaN            1           0          1             0   \n",
       "3   JC Buttler        NaN            0           0          0             0   \n",
       "4   JC Buttler        NaN            0           0          0             0   \n",
       "\n",
       "   isWicketDelivery player_out kind fielders_involved       BattingTeam  \n",
       "0                 0        NaN  NaN               NaN  Rajasthan Royals  \n",
       "1                 0        NaN  NaN               NaN  Rajasthan Royals  \n",
       "2                 0        NaN  NaN               NaN  Rajasthan Royals  \n",
       "3                 0        NaN  NaN               NaN  Rajasthan Royals  \n",
       "4                 0        NaN  NaN               NaN  Rajasthan Royals  "
      ]
     },
     "execution_count": 4,
     "metadata": {},
     "output_type": "execute_result"
    }
   ],
   "source": [
    "ball_by_ball_df.head(5)"
   ]
  },
  {
   "cell_type": "markdown",
   "id": "3b0a6ec6-193b-40d8-8bbc-bde50243803e",
   "metadata": {},
   "source": [
    "#### shape and type of the dataset"
   ]
  },
  {
   "cell_type": "code",
   "execution_count": 5,
   "id": "c3572fde-b0e4-4535-9fc2-181fbc228b8f",
   "metadata": {},
   "outputs": [],
   "source": [
    "# Copy DataFrame\n",
    "\n",
    "ball_by_ball_df = ball_by_ball_df.copy()"
   ]
  },
  {
   "cell_type": "code",
   "execution_count": 6,
   "id": "0cfbc2d1-d3c0-4ce9-a99b-c5d1bba5dfca",
   "metadata": {},
   "outputs": [
    {
     "data": {
      "text/plain": [
       "(225954, 17)"
      ]
     },
     "execution_count": 6,
     "metadata": {},
     "output_type": "execute_result"
    }
   ],
   "source": [
    "ball_by_ball_df.shape"
   ]
  },
  {
   "cell_type": "code",
   "execution_count": 7,
   "id": "069e0e65-a5b5-40ab-a85e-0345668c3f71",
   "metadata": {
    "scrolled": true
   },
   "outputs": [
    {
     "name": "stdout",
     "output_type": "stream",
     "text": [
      "<class 'pandas.core.frame.DataFrame'>\n",
      "RangeIndex: 225954 entries, 0 to 225953\n",
      "Data columns (total 17 columns):\n",
      " #   Column             Non-Null Count   Dtype \n",
      "---  ------             --------------   ----- \n",
      " 0   ID                 225954 non-null  int64 \n",
      " 1   innings            225954 non-null  int64 \n",
      " 2   overs              225954 non-null  int64 \n",
      " 3   ballnumber         225954 non-null  int64 \n",
      " 4   batter             225954 non-null  object\n",
      " 5   bowler             225954 non-null  object\n",
      " 6   non-striker        225954 non-null  object\n",
      " 7   extra_type         12049 non-null   object\n",
      " 8   batsman_run        225954 non-null  int64 \n",
      " 9   extras_run         225954 non-null  int64 \n",
      " 10  total_run          225954 non-null  int64 \n",
      " 11  non_boundary       225954 non-null  int64 \n",
      " 12  isWicketDelivery   225954 non-null  int64 \n",
      " 13  player_out         11151 non-null   object\n",
      " 14  kind               11151 non-null   object\n",
      " 15  fielders_involved  7988 non-null    object\n",
      " 16  BattingTeam        225954 non-null  object\n",
      "dtypes: int64(9), object(8)\n",
      "memory usage: 29.3+ MB\n"
     ]
    }
   ],
   "source": [
    "ball_by_ball_df.info()"
   ]
  },
  {
   "cell_type": "markdown",
   "id": "e1be80ae-9c38-4bde-9c2e-5fdafcce7053",
   "metadata": {},
   "source": [
    "#### counting every batter, bowler and non-striker"
   ]
  },
  {
   "cell_type": "code",
   "execution_count": 8,
   "id": "a5256522-21f9-4ba9-9bb4-4506ce29bdd6",
   "metadata": {},
   "outputs": [
    {
     "data": {
      "text/plain": [
       "605"
      ]
     },
     "execution_count": 8,
     "metadata": {},
     "output_type": "execute_result"
    }
   ],
   "source": [
    "ball_by_ball_df[\"batter\"].nunique()"
   ]
  },
  {
   "cell_type": "code",
   "execution_count": 9,
   "id": "5d4be83c-0bfb-4061-8fc0-691acf3f105a",
   "metadata": {},
   "outputs": [
    {
     "data": {
      "text/plain": [
       "472"
      ]
     },
     "execution_count": 9,
     "metadata": {},
     "output_type": "execute_result"
    }
   ],
   "source": [
    "ball_by_ball_df[\"bowler\"].nunique()"
   ]
  },
  {
   "cell_type": "code",
   "execution_count": 10,
   "id": "fa59937e-a647-453f-8c47-4bd612771666",
   "metadata": {},
   "outputs": [
    {
     "data": {
      "text/plain": [
       "595"
      ]
     },
     "execution_count": 10,
     "metadata": {},
     "output_type": "execute_result"
    }
   ],
   "source": [
    "ball_by_ball_df[\"non-striker\"].nunique() "
   ]
  },
  {
   "cell_type": "markdown",
   "id": "ac9aa319-ae64-468b-ab4d-79324e514891",
   "metadata": {},
   "source": [
    "#### drop duplicates"
   ]
  },
  {
   "cell_type": "code",
   "execution_count": 11,
   "id": "7fb6a4b2-a19a-4a0d-92e4-08158c587e9a",
   "metadata": {},
   "outputs": [
    {
     "data": {
      "text/plain": [
       "0"
      ]
     },
     "execution_count": 11,
     "metadata": {},
     "output_type": "execute_result"
    }
   ],
   "source": [
    "ball_by_ball_df.duplicated().sum() ## no duplicate here"
   ]
  },
  {
   "cell_type": "markdown",
   "id": "d8a0dee9-5e45-4d4d-845f-87855e757bb3",
   "metadata": {},
   "source": [
    "#### counting the NaN values"
   ]
  },
  {
   "cell_type": "code",
   "execution_count": 12,
   "id": "e239ec5a-022e-427d-9ad1-d4d0905fb536",
   "metadata": {
    "scrolled": true
   },
   "outputs": [
    {
     "data": {
      "text/plain": [
       "fielders_involved    217966\n",
       "kind                 214803\n",
       "player_out           214803\n",
       "extra_type           213905\n",
       "ID                        0\n",
       "extras_run                0\n",
       "isWicketDelivery          0\n",
       "non_boundary              0\n",
       "total_run                 0\n",
       "batsman_run               0\n",
       "innings                   0\n",
       "non-striker               0\n",
       "bowler                    0\n",
       "batter                    0\n",
       "ballnumber                0\n",
       "overs                     0\n",
       "BattingTeam               0\n",
       "dtype: int64"
      ]
     },
     "execution_count": 12,
     "metadata": {},
     "output_type": "execute_result"
    }
   ],
   "source": [
    "ball_by_ball_df.isnull().sum().sort_values(ascending=False) "
   ]
  },
  {
   "cell_type": "markdown",
   "id": "2522c4fe-9bc2-40e1-a80d-88bcf1d5f3cf",
   "metadata": {},
   "source": [
    "# Cleaning data"
   ]
  },
  {
   "cell_type": "markdown",
   "id": "d6d209b9-e04b-422a-924e-01f7062cfd1c",
   "metadata": {},
   "source": [
    "### innings Column"
   ]
  },
  {
   "cell_type": "code",
   "execution_count": 13,
   "id": "58973729-3130-4a79-9532-9673401ba175",
   "metadata": {},
   "outputs": [
    {
     "data": {
      "text/plain": [
       "1    116883\n",
       "2    108910\n",
       "3        77\n",
       "4        72\n",
       "5         8\n",
       "6         4\n",
       "Name: innings, dtype: int64"
      ]
     },
     "execution_count": 13,
     "metadata": {},
     "output_type": "execute_result"
    }
   ],
   "source": [
    "ball_by_ball_df[\"innings\"].value_counts() ## 5 and 6 innings ? "
   ]
  },
  {
   "cell_type": "markdown",
   "id": "957ce12e-9e59-4543-bdc2-97a8002d7521",
   "metadata": {},
   "source": [
    "### overs Column"
   ]
  },
  {
   "cell_type": "code",
   "execution_count": 14,
   "id": "ff258c1b-0e9f-4286-b1ab-11b7e50b88d5",
   "metadata": {},
   "outputs": [
    {
     "data": {
      "text/plain": [
       "0     12085\n",
       "1     11935\n",
       "2     11803\n",
       "3     11773\n",
       "4     11766\n",
       "5     11720\n",
       "6     11671\n",
       "7     11651\n",
       "8     11608\n",
       "9     11578\n",
       "10    11507\n",
       "11    11480\n",
       "12    11452\n",
       "13    11355\n",
       "14    11259\n",
       "15    11093\n",
       "16    10961\n",
       "17    10650\n",
       "18    10001\n",
       "19     8606\n",
       "Name: overs, dtype: int64"
      ]
     },
     "execution_count": 14,
     "metadata": {},
     "output_type": "execute_result"
    }
   ],
   "source": [
    "ball_by_ball_df[\"overs\"].value_counts() "
   ]
  },
  {
   "cell_type": "code",
   "execution_count": 15,
   "id": "45377c76-6387-4f9c-a548-65686c4e19bd",
   "metadata": {},
   "outputs": [],
   "source": [
    "ball_by_ball_df[\"overs\"] = ball_by_ball_df[\"overs\"] + 1 ## assign the good value to overs"
   ]
  },
  {
   "cell_type": "code",
   "execution_count": 16,
   "id": "012c03a5-eac6-4894-b565-9d6d4e8a6e63",
   "metadata": {
    "scrolled": true
   },
   "outputs": [
    {
     "data": {
      "text/plain": [
       "1     12085\n",
       "2     11935\n",
       "3     11803\n",
       "4     11773\n",
       "5     11766\n",
       "6     11720\n",
       "7     11671\n",
       "8     11651\n",
       "9     11608\n",
       "10    11578\n",
       "11    11507\n",
       "12    11480\n",
       "13    11452\n",
       "14    11355\n",
       "15    11259\n",
       "16    11093\n",
       "17    10961\n",
       "18    10650\n",
       "19    10001\n",
       "20     8606\n",
       "Name: overs, dtype: int64"
      ]
     },
     "execution_count": 16,
     "metadata": {},
     "output_type": "execute_result"
    }
   ],
   "source": [
    "ball_by_ball_df[\"overs\"].value_counts() ## verify the values"
   ]
  },
  {
   "cell_type": "markdown",
   "id": "f54c77a3-507d-4c7f-8dfa-32b077f9912e",
   "metadata": {},
   "source": [
    "### ballnumber Column"
   ]
  },
  {
   "cell_type": "code",
   "execution_count": 17,
   "id": "1738a38e-5c8f-4b66-980b-b1a3e300982a",
   "metadata": {},
   "outputs": [
    {
     "data": {
      "text/plain": [
       "1     36599\n",
       "2     36507\n",
       "3     36413\n",
       "4     36322\n",
       "5     36201\n",
       "6     36083\n",
       "7      6585\n",
       "8      1055\n",
       "9       171\n",
       "10       18\n",
       "Name: ballnumber, dtype: int64"
      ]
     },
     "execution_count": 17,
     "metadata": {},
     "output_type": "execute_result"
    }
   ],
   "source": [
    "ball_by_ball_df[\"ballnumber\"].value_counts() ## OK"
   ]
  },
  {
   "cell_type": "markdown",
   "id": "ae7292e0-938d-4793-9b31-15327f1b6f96",
   "metadata": {},
   "source": [
    "### batter Column"
   ]
  },
  {
   "cell_type": "code",
   "execution_count": 18,
   "id": "044f86cc-18ac-4424-b699-f8c5329648ef",
   "metadata": {},
   "outputs": [
    {
     "data": {
      "text/plain": [
       "605"
      ]
     },
     "execution_count": 18,
     "metadata": {},
     "output_type": "execute_result"
    }
   ],
   "source": [
    "ball_by_ball_df[\"batter\"].nunique() "
   ]
  },
  {
   "cell_type": "code",
   "execution_count": 19,
   "id": "43256d48-a8ec-4157-abce-59c5d25c1bb7",
   "metadata": {
    "scrolled": true
   },
   "outputs": [
    {
     "data": {
      "text/plain": [
       "array(['A Ashish Reddy', 'A Badoni', 'A Chandila', 'A Chopra',\n",
       "       'A Choudhary', 'A Dananjaya', 'A Flintoff', 'A Kumble',\n",
       "       'A Manohar', 'A Mishra', 'A Mithun', 'A Mukund', 'A Nehra',\n",
       "       'A Nortje', 'A Singh', 'A Symonds', 'A Tomar', 'A Uniyal',\n",
       "       'A Zampa', 'AA Bilakhia', 'AA Chavan', 'AA Jhunjhunwala',\n",
       "       'AA Noffke', 'AB Agarkar', 'AB Barath', 'AB Dinda', 'AB McDonald',\n",
       "       'AB de Villiers', 'AC Blizzard', 'AC Gilchrist', 'AC Thomas',\n",
       "       'AC Voges', 'AD Hales', 'AD Mascarenhas', 'AD Mathews', 'AD Nath',\n",
       "       'AD Russell', 'AF Milne', 'AG Murtaza', 'AG Paunikar', 'AJ Finch',\n",
       "       'AJ Turner', 'AJ Tye', 'AK Markram', 'AL Menaria', 'AM Nayar',\n",
       "       'AM Rahane', 'AN Ahmed', 'AN Ghosh', 'AP Dole', 'AP Majumdar',\n",
       "       'AP Tare', 'AR Bawne', 'AR Patel', 'AS Joseph', 'AS Rajpoot',\n",
       "       'AS Raut', 'AS Roy', 'AS Yadav', 'AT Carey', 'AT Rayudu',\n",
       "       'AUK Pathan', 'Abdul Samad', 'Abdur Razzak', 'Abhishek Sharma',\n",
       "       'Akash Deep', 'Aman Hakim Khan', 'Anirudh Singh', 'Ankit Sharma',\n",
       "       'Ankit Soni', 'Anmolpreet Singh', 'Anuj Rawat', 'Anureet Singh',\n",
       "       'Arshdeep Singh', 'Avesh Khan', 'Azhar Mahmood', 'B Akhil',\n",
       "       'B Chipli', 'B Indrajith', 'B Kumar', 'B Laughlin', 'B Lee',\n",
       "       'B Sai Sudharsan', 'B Stanlake', 'B Sumanth', 'BA Bhatt',\n",
       "       'BA Stokes', 'BAW Mendis', 'BB McCullum', 'BB Samantray',\n",
       "       'BB Sran', 'BCJ Cutting', 'BE Hendricks', 'BJ Haddin', 'BJ Hodge',\n",
       "       'BJ Rohrer', 'BMAJ Mendis', 'BR Dunk', 'Basil Thampi',\n",
       "       'Bipul Sharma', 'C Madan', 'C Munro', 'C Nanda', 'C Sakariya',\n",
       "       'C de Grandhomme', 'CA Ingram', 'CA Lynn', 'CA Pujara', 'CH Gayle',\n",
       "       'CH Morris', 'CJ Anderson', 'CJ Ferguson', 'CJ Jordan', 'CJ McKay',\n",
       "       'CK Kapugedera', 'CK Langeveldt', 'CL White', 'CM Gautam',\n",
       "       'CR Brathwaite', 'CR Woakes', 'CRD Fernando', 'CV Varun',\n",
       "       'D Brevis', 'D Kalyankrishna', 'D Padikkal', 'D Pretorius',\n",
       "       'D Salunkhe', 'D Wiese', 'D du Preez', 'DA Miller', 'DA Warner',\n",
       "       'DAJ Bracewell', 'DB Das', 'DB Ravi Teja', 'DE Bollinger',\n",
       "       'DH Yagnik', 'DJ Bravo', 'DJ Harris', 'DJ Hooda', 'DJ Hussey',\n",
       "       'DJ Jacobs', 'DJ Malan', 'DJ Mitchell', 'DJ Muthuswami',\n",
       "       'DJ Thornely', 'DJ Willey', 'DJG Sammy', 'DJM Short', 'DL Chahar',\n",
       "       'DL Vettori', 'DM Bravo', 'DNT Zoysa', 'DP Conway', 'DP Nannes',\n",
       "       'DP Vijaykumar', 'DPMD Jayawardene', 'DR Martyn', 'DR Sams',\n",
       "       'DR Shorey', 'DR Smith', 'DS Kulkarni', 'DS Lehmann',\n",
       "       'DT Christian', 'DT Patil', 'DW Steyn', 'E Lewis', 'EJG Morgan',\n",
       "       'ER Dwivedi', 'F Behardien', 'F du Plessis', 'FA Allen',\n",
       "       'FH Edwards', 'FY Fazal', 'Fazalhaq Farooqi', 'G Gambhir',\n",
       "       'GB Hogg', 'GC Smith', 'GC Viljoen', 'GD McGrath', 'GD Phillips',\n",
       "       'GH Vihari', 'GHS Garton', 'GJ Bailey', 'GJ Maxwell', 'GR Napier',\n",
       "       'Gurkeerat Singh', 'H Das', 'H Klaasen', 'HE van der Dussen',\n",
       "       'HF Gurney', 'HH Gibbs', 'HH Pandya', 'HM Amla', 'HR Shokeen',\n",
       "       'HV Patel', 'Harbhajan Singh', 'Harmeet Singh', 'Harpreet Brar',\n",
       "       'Harpreet Singh', 'Harshit Rana', 'I Malhotra', 'I Sharma',\n",
       "       'I Udana', 'IC Pandey', 'IK Pathan', 'IR Jaggi', 'IS Sodhi',\n",
       "       'Imran Tahir', 'Iqbal Abdulla', 'Ishan Kishan', 'J Arunkumar',\n",
       "       'J Botha', 'J Suchith', 'J Syed Mohammad', 'J Theron', 'J Yadav',\n",
       "       'JA Morkel', 'JA Richardson', 'JC Archer', 'JC Buttler',\n",
       "       'JD Ryder', 'JD Unadkat', 'JDP Oram', 'JDS Neesham', 'JE Taylor',\n",
       "       'JEC Franklin', 'JH Kallis', 'JJ Bumrah', 'JJ Roy',\n",
       "       'JJ van der Wath', 'JL Denly', 'JL Pattinson', 'JM Bairstow',\n",
       "       'JM Kemp', 'JM Sharma', 'JO Holder', 'JP Duminy', 'JP Faulkner',\n",
       "       'JPR Scantlebury-Searles', 'JR Hazlewood', 'JR Hopes',\n",
       "       'JR Philippe', 'Jaskaran Singh', 'Joginder Sharma', 'K Goel',\n",
       "       'K Gowtham', 'K Kartikeya', 'K Rabada', 'K Upadhyay', 'K Yadav',\n",
       "       'KA Jamieson', 'KA Pollard', 'KAJ Roach', 'KB Arun Karthik',\n",
       "       'KC Cariappa', 'KC Sangakkara', 'KD Karthik', 'KH Pandya',\n",
       "       'KJ Abbott', 'KK Ahmed', 'KK Cooper', 'KK Nair', 'KL Nagarkoti',\n",
       "       'KL Rahul', 'KM Jadhav', 'KMA Paul', 'KMDN Kulasekara',\n",
       "       'KP Appanna', 'KP Pietersen', 'KR Sen', 'KS Bharat', 'KS Sharma',\n",
       "       'KS Williamson', 'KV Sharma', 'KW Richardson', 'Kamran Akmal',\n",
       "       'Kamran Khan', 'Karanveer Singh', 'Kartik Tyagi', 'Kuldeep Yadav',\n",
       "       'L Ablish', 'L Balaji', 'L Ronchi', 'LA Carseldine',\n",
       "       'LA Pomersbach', 'LE Plunkett', 'LH Ferguson', 'LJ Wright',\n",
       "       'LMP Simmons', 'LPC Silva', 'LR Shukla', 'LRPL Taylor',\n",
       "       'LS Livingstone', 'Lalit Yadav', 'M Ashwin', 'M Jansen', 'M Kaif',\n",
       "       'M Kartik', 'M Klinger', 'M Manhas', 'M Markande', 'M Morkel',\n",
       "       'M Muralitharan', 'M Ntini', 'M Prasidh Krishna', 'M Rawat',\n",
       "       'M Shahrukh Khan', 'M Theekshana', 'M Vijay', 'M Vohra',\n",
       "       'M de Lange', 'MA Agarwal', 'MA Khote', 'MA Starc', 'MA Wood',\n",
       "       'MC Henriques', 'MC Juneja', 'MD Mishra', 'MDKJ Perera',\n",
       "       'MEK Hussey', 'MF Maharoof', 'MG Johnson', 'MJ Clarke',\n",
       "       'MJ Guptill', 'MJ Lumb', 'MJ McClenaghan', 'MJ Santner',\n",
       "       'MK Lomror', 'MK Pandey', 'MK Tiwary', 'ML Hayden', 'MM Ali',\n",
       "       'MM Patel', 'MM Sharma', 'MN Samuels', 'MN van Wyk', 'MP Stoinis',\n",
       "       'MR Marsh', 'MS Bisla', 'MS Dhoni', 'MS Gony', 'MS Wade',\n",
       "       'MV Boucher', 'Mandeep Singh', 'Mashrafe Mortaza', 'Misbah-ul-Haq',\n",
       "       'Mohammad Ashraful', 'Mohammad Asif', 'Mohammad Hafeez',\n",
       "       'Mohammad Nabi', 'Mohammed Shami', 'Mohammed Siraj', 'Mohsin Khan',\n",
       "       'Mujeeb Ur Rahman', 'Mukesh Choudhary', 'Mustafizur Rahman',\n",
       "       'N Jagadeesan', 'N Pooran', 'N Rana', 'N Saini', 'ND Doshi',\n",
       "       'NJ Maddinson', 'NJ Rimmington', 'NK Patel', 'NL McCullum',\n",
       "       'NLTC Perera', 'NM Coulter-Nile', 'NS Naik', 'NT Ellis', 'NV Ojha',\n",
       "       'Navdeep Saini', 'OA Shah', 'OC McCoy', 'OF Smith', 'P Awana',\n",
       "       'P Chopra', 'P Dogra', 'P Dubey', 'P Kumar', 'P Negi',\n",
       "       'P Parameswaran', 'P Ray Barman', 'P Sahu', 'P Simran Singh',\n",
       "       'PA Patel', 'PA Reddy', 'PBB Rajapaksa', 'PC Valthaty',\n",
       "       'PD Collingwood', 'PJ Cummins', 'PJ Sangwan', 'PK Garg',\n",
       "       'PM Sarvesh Kumar', 'PN Mankad', 'PP Chawla', 'PP Ojha', 'PP Shaw',\n",
       "       'PR Shah', 'PSP Handscomb', 'PV Tambe', 'PVD Chameera',\n",
       "       'PWH de Silva', 'Pankaj Singh', 'Parvez Rasool', 'Q de Kock',\n",
       "       'R Ashwin', 'R Bhatia', 'R Bishnoi', 'R Dhawan', 'R Dravid',\n",
       "       'R McLaren', 'R Ninan', 'R Parag', 'R Powell', 'R Rampaul',\n",
       "       'R Sanjay Yadav', 'R Sathish', 'R Sharma', 'R Shepherd',\n",
       "       'R Shukla', 'R Tewatia', 'R Vinay Kumar', 'RA Bawa', 'RA Jadeja',\n",
       "       'RA Tripathi', 'RD Chahar', 'RD Gaikwad', 'RE Levi',\n",
       "       'RE van der Merwe', 'RG More', 'RG Sharma', 'RJ Harris',\n",
       "       'RJ Peterson', 'RJ Quiney', 'RK Bhui', 'RK Singh', 'RM Patidar',\n",
       "       'RN ten Doeschate', 'RP Meredith', 'RP Singh', 'RR Bhatkal',\n",
       "       'RR Pant', 'RR Powar', 'RR Raje', 'RR Rossouw', 'RR Sarwan',\n",
       "       'RS Bopara', 'RS Gavaskar', 'RS Sodhi', 'RT Ponting', 'RV Gomez',\n",
       "       'RV Patel', 'RV Uthappa', 'Ramandeep Singh', 'Rashid Khan',\n",
       "       'Rasikh Salam', 'Ravi Bishnoi', 'S Anirudha', 'S Aravind',\n",
       "       'S Badree', 'S Badrinath', 'S Chanderpaul', 'S Dhawan', 'S Dube',\n",
       "       'S Gopal', 'S Kaul', 'S Kaushik', 'S Ladda', 'S Lamichhane',\n",
       "       'S Nadeem', 'S Narwal', 'S Rana', 'S Randiv', 'S Sohal',\n",
       "       'S Sreesanth', 'S Sriram', 'S Tyagi', 'S Vidyut', 'SA Abbott',\n",
       "       'SA Asnodkar', 'SA Yadav', 'SB Bangar', 'SB Jakati', 'SB Joshi',\n",
       "       'SB Styris', 'SB Wagh', 'SC Ganguly', 'SD Chitnis', 'SD Lad',\n",
       "       'SE Bond', 'SE Marsh', 'SE Rutherford', 'SJ Srivastava',\n",
       "       'SK Raina', 'SK Trivedi', 'SK Warne', 'SL Malinga', 'SM Curran',\n",
       "       'SM Harwood', 'SM Katich', 'SM Pollock', 'SMSM Senanayake',\n",
       "       'SN Khan', 'SN Thakur', 'SO Hetmyer', 'SP Fleming', 'SP Goswami',\n",
       "       'SP Jackson', 'SP Narine', 'SPD Smith', 'SR Tendulkar',\n",
       "       'SR Watson', 'SS Cottrell', 'SS Iyer', 'SS Prabhudessai',\n",
       "       'SS Shaikh', 'SS Tiwary', 'ST Jayasuriya', 'STR Binny',\n",
       "       'SV Samson', 'SW Billings', 'SW Tait', 'Sachin Baby',\n",
       "       'Salman Butt', 'Sandeep Sharma', 'Shahbaz Ahmed', 'Shahid Afridi',\n",
       "       'Shakib Al Hasan', 'Shashank Singh', 'Shivam Mavi',\n",
       "       'Shivam Sharma', 'Shoaib Ahmed', 'Shoaib Akhtar', 'Shoaib Malik',\n",
       "       'Shubman Gill', 'Simarjeet Singh', 'Sohail Tanvir', 'Sunny Gupta',\n",
       "       'Sunny Singh', 'Swapnil Singh', 'T Banton', 'T Henderson',\n",
       "       'T Kohli', 'T Natarajan', 'T Shamsi', 'T Stubbs', 'T Taibu',\n",
       "       'T Thushara', 'TA Boult', 'TD Paine', 'TG Southee', 'TH David',\n",
       "       'TK Curran', 'TL Seifert', 'TL Suman', 'TM Dilshan', 'TM Head',\n",
       "       'TM Srivastava', 'TR Birt', 'TS Mills', 'TU Deshpande',\n",
       "       'Tilak Varma', 'U Kaul', 'UA Birla', 'UBT Chand', 'UT Khawaja',\n",
       "       'UT Yadav', 'Umar Gul', 'Umran Malik', 'V Kohli', 'V Pratap Singh',\n",
       "       'V Sehwag', 'V Shankar', 'VG Arora', 'VH Zol', 'VR Aaron',\n",
       "       'VR Iyer', 'VRV Singh', 'VS Malik', 'VS Yeligati', 'VVS Laxman',\n",
       "       'VY Mahesh', 'Virat Singh', 'Vishnu Vinod', 'W Jaffer', 'WA Mota',\n",
       "       'WD Parnell', 'WP Saha', 'WPUJC Vaas', 'Washington Sundar',\n",
       "       'X Thalaivan Sargunam', 'Y Gnaneswara Rao', 'Y Nagar',\n",
       "       'Y Prithvi Raj', 'Y Venugopal Rao', 'YA Abdulla', 'YBK Jaiswal',\n",
       "       'YK Pathan', 'YS Chahal', 'YV Takawale', 'Yash Dayal',\n",
       "       'Yashpal Singh', 'Younis Khan', 'Yuvraj Singh', 'Z Khan'],\n",
       "      dtype=object)"
      ]
     },
     "execution_count": 19,
     "metadata": {},
     "output_type": "execute_result"
    }
   ],
   "source": [
    "ball_by_ball_df[\"batter\"].sort_values().unique()"
   ]
  },
  {
   "cell_type": "code",
   "execution_count": 20,
   "id": "f1d3190e-d2bc-4891-b441-a798162fc93e",
   "metadata": {},
   "outputs": [],
   "source": [
    "ball_by_ball_df[\"batter\"] = [text.strip() for text in ball_by_ball_df[\"batter\"]]  ## remove spaces"
   ]
  },
  {
   "cell_type": "code",
   "execution_count": 21,
   "id": "9854163d-5fed-4047-8f49-abee7d2c90d2",
   "metadata": {},
   "outputs": [],
   "source": [
    "ball_by_ball_df[\"batter\"] = [text.lower() for text in ball_by_ball_df[\"batter\"]]  ## everything in lowercase"
   ]
  },
  {
   "cell_type": "code",
   "execution_count": 22,
   "id": "8ff948b0-d706-4187-95d4-65b7c7d0da86",
   "metadata": {},
   "outputs": [
    {
     "data": {
      "text/plain": [
       "605"
      ]
     },
     "execution_count": 22,
     "metadata": {},
     "output_type": "execute_result"
    }
   ],
   "source": [
    "ball_by_ball_df[\"batter\"].nunique()"
   ]
  },
  {
   "cell_type": "markdown",
   "id": "f8c25a6a-c01e-4561-b0a5-3b9555337210",
   "metadata": {},
   "source": [
    "### bowler Column"
   ]
  },
  {
   "cell_type": "code",
   "execution_count": 23,
   "id": "7c70646c-2511-408d-84fb-a8d9ff4cfbe5",
   "metadata": {},
   "outputs": [
    {
     "data": {
      "text/plain": [
       "472"
      ]
     },
     "execution_count": 23,
     "metadata": {},
     "output_type": "execute_result"
    }
   ],
   "source": [
    "ball_by_ball_df[\"bowler\"].nunique() "
   ]
  },
  {
   "cell_type": "code",
   "execution_count": 24,
   "id": "26590452-00fd-41f6-a9bf-4ced566b530c",
   "metadata": {},
   "outputs": [
    {
     "data": {
      "text/plain": [
       "array(['A Ashish Reddy', 'A Badoni', 'A Chandila', 'A Choudhary',\n",
       "       'A Dananjaya', 'A Flintoff', 'A Kumble', 'A Mishra', 'A Mithun',\n",
       "       'A Nehra', 'A Nel', 'A Nortje', 'A Singh', 'A Symonds', 'A Uniyal',\n",
       "       'A Zampa', 'AA Chavan', 'AA Jhunjhunwala', 'AA Kazi', 'AA Noffke',\n",
       "       'AB Agarkar', 'AB Dinda', 'AB McDonald', 'AC Gilchrist',\n",
       "       'AC Thomas', 'AC Voges', 'AD Mascarenhas', 'AD Mathews',\n",
       "       'AD Russell', 'AF Milne', 'AG Murtaza', 'AJ Finch', 'AJ Tye',\n",
       "       'AK Markram', 'AL Menaria', 'AM Nayar', 'AM Rahane', 'AM Salvi',\n",
       "       'AN Ahmed', 'AP Dole', 'AR Patel', 'AS Joseph', 'AS Rajpoot',\n",
       "       'AS Raut', 'AS Roy', 'AU Rashid', 'AUK Pathan', 'Abdul Samad',\n",
       "       'Abdur Razzak', 'Abhishek Sharma', 'Akash Deep', 'Akash Singh',\n",
       "       'Aman Hakim Khan', 'Anand Rajan', 'Ankit Sharma', 'Ankit Soni',\n",
       "       'Anureet Singh', 'Arshdeep Singh', 'Avesh Khan', 'Azhar Mahmood',\n",
       "       'B Akhil', 'B Chipli', 'B Geeves', 'B Kumar', 'B Laughlin',\n",
       "       'B Lee', 'B Stanlake', 'BA Bhatt', 'BA Stokes', 'BAW Mendis',\n",
       "       'BB Sran', 'BCJ Cutting', 'BE Hendricks', 'BJ Hodge', 'BJ Rohrer',\n",
       "       'BMAJ Mendis', 'BW Hilfenhaus', 'Basil Thampi', 'Bipul Sharma',\n",
       "       'C Ganapathy', 'C Munro', 'C Nanda', 'C Sakariya',\n",
       "       'C de Grandhomme', 'CH Gayle', 'CH Morris', 'CJ Anderson',\n",
       "       'CJ Dala', 'CJ Green', 'CJ Jordan', 'CJ McKay', 'CK Kapugedera',\n",
       "       'CK Langeveldt', 'CL White', 'CR Brathwaite', 'CR Woakes',\n",
       "       'CRD Fernando', 'CV Varun', 'D Brevis', 'D Kalyankrishna',\n",
       "       'D Pretorius', 'D Salunkhe', 'D Wiese', 'D du Preez', 'DA Warner',\n",
       "       'DAJ Bracewell', 'DB Ravi Teja', 'DE Bollinger', 'DG Nalkande',\n",
       "       'DJ Bravo', 'DJ Harris', 'DJ Hooda', 'DJ Hussey', 'DJ Mitchell',\n",
       "       'DJ Muthuswami', 'DJ Thornely', 'DJ Willey', 'DJG Sammy',\n",
       "       'DJM Short', 'DL Chahar', 'DL Vettori', 'DNT Zoysa', 'DP Nannes',\n",
       "       'DP Vijaykumar', 'DR Sams', 'DR Smith', 'DS Kulkarni',\n",
       "       'DT Christian', 'DW Steyn', 'F du Plessis', 'FA Allen',\n",
       "       'FH Edwards', 'FY Fazal', 'Fazalhaq Farooqi', 'GB Hogg',\n",
       "       'GC Viljoen', 'GD McGrath', 'GD Phillips', 'GH Vihari',\n",
       "       'GHS Garton', 'GJ Maxwell', 'GR Napier', 'GS Sandhu',\n",
       "       'Gagandeep Singh', 'Gurkeerat Singh', 'HF Gurney', 'HH Pandya',\n",
       "       'HR Shokeen', 'HV Patel', 'Harbhajan Singh', 'Harmeet Singh',\n",
       "       'Harpreet Brar', 'Harshit Rana', 'I Malhotra', 'I Sharma',\n",
       "       'I Udana', 'IC Pandey', 'IC Porel', 'IK Pathan', 'IS Sodhi',\n",
       "       'Imran Tahir', 'Iqbal Abdulla', 'J Botha', 'J Suchith',\n",
       "       'J Syed Mohammad', 'J Theron', 'J Yadav', 'JA Morkel',\n",
       "       'JA Richardson', 'JC Archer', 'JD Ryder', 'JD Unadkat', 'JDP Oram',\n",
       "       'JDS Neesham', 'JE Taylor', 'JEC Franklin', 'JH Kallis',\n",
       "       'JJ Bumrah', 'JJ van der Wath', 'JL Pattinson', 'JM Kemp',\n",
       "       'JO Holder', 'JP Behrendorff', 'JP Duminy', 'JP Faulkner',\n",
       "       'JPR Scantlebury-Searles', 'JR Hazlewood', 'JR Hopes',\n",
       "       'JW Hastings', 'Jalaj S Saxena', 'Jaskaran Singh',\n",
       "       'Joginder Sharma', 'K Goel', 'K Gowtham', 'K Kartikeya',\n",
       "       'K Khejroliya', 'K Rabada', 'K Santokie', 'K Upadhyay', 'K Yadav',\n",
       "       'KA Jamieson', 'KA Pollard', 'KAJ Roach', 'KC Cariappa',\n",
       "       'KH Pandya', 'KJ Abbott', 'KK Ahmed', 'KK Cooper', 'KL Nagarkoti',\n",
       "       'KM Asif', 'KMA Paul', 'KMDN Kulasekara', 'KP Appanna',\n",
       "       'KP Pietersen', 'KR Sen', 'KS Williamson', 'KV Sharma',\n",
       "       'KW Richardson', 'Kamran Khan', 'Karanveer Singh', 'Kartik Tyagi',\n",
       "       'Kuldeep Yadav', 'L Ablish', 'L Balaji', 'L Ngidi',\n",
       "       'LA Carseldine', 'LE Plunkett', 'LH Ferguson', 'LI Meriwala',\n",
       "       'LJ Wright', 'LMP Simmons', 'LPC Silva', 'LR Shukla',\n",
       "       'LRPL Taylor', 'LS Livingstone', 'Lalit Yadav', 'M Ashwin',\n",
       "       'M Jansen', 'M Kartik', 'M Manhas', 'M Markande', 'M Morkel',\n",
       "       'M Muralitharan', 'M Ntini', 'M Pathirana', 'M Prasidh Krishna',\n",
       "       'M Theekshana', 'M Vijay', 'M de Lange', 'MA Khote', 'MA Starc',\n",
       "       'MA Wood', 'MB Parmar', 'MC Henriques', 'MF Maharoof',\n",
       "       'MG Johnson', 'MG Neser', 'MJ Clarke', 'MJ Henry',\n",
       "       'MJ McClenaghan', 'MJ Santner', 'MK Lomror', 'MK Tiwary', 'MM Ali',\n",
       "       'MM Patel', 'MM Sharma', 'MN Samuels', 'MP Stoinis', 'MR Marsh',\n",
       "       'MS Gony', 'Mandeep Singh', 'Mashrafe Mortaza', 'Mohammad Asif',\n",
       "       'Mohammad Hafeez', 'Mohammad Nabi', 'Mohammed Shami',\n",
       "       'Mohammed Siraj', 'Mohsin Khan', 'Monu Kumar', 'Mujeeb Ur Rahman',\n",
       "       'Mukesh Choudhary', 'Mustafizur Rahman', 'N Rana', 'NB Singh',\n",
       "       'ND Doshi', 'NJ Rimmington', 'NL McCullum', 'NLTC Perera',\n",
       "       'NM Coulter-Nile', 'NT Ellis', 'Navdeep Saini', 'O Thomas',\n",
       "       'OC McCoy', 'OF Smith', 'P Amarnath', 'P Awana', 'P Dubey',\n",
       "       'P Kumar', 'P Negi', 'P Parameswaran', 'P Prasanth',\n",
       "       'P Ray Barman', 'P Sahu', 'P Suyal', 'PC Valthaty',\n",
       "       'PD Collingwood', 'PH Solanki', 'PJ Cummins', 'PJ Sangwan',\n",
       "       'PM Sarvesh Kumar', 'PP Chawla', 'PP Ojha', 'PV Tambe',\n",
       "       'PVD Chameera', 'PWH de Silva', 'Pankaj Singh', 'Parvez Rasool',\n",
       "       'R Ashwin', 'R Bhatia', 'R Dhawan', 'R McLaren', 'R Ninan',\n",
       "       'R Parag', 'R Powell', 'R Rampaul', 'R Sai Kishore',\n",
       "       'R Sanjay Yadav', 'R Sathish', 'R Sharma', 'R Shepherd',\n",
       "       'R Shukla', 'R Tewatia', 'R Vinay Kumar', 'RA Jadeja', 'RA Shaikh',\n",
       "       'RA Tripathi', 'RD Chahar', 'RE van der Merwe', 'RG More',\n",
       "       'RG Sharma', 'RJ Harris', 'RJ Peterson', 'RN ten Doeschate',\n",
       "       'RP Meredith', 'RP Singh', 'RR Bhatkal', 'RR Bose', 'RR Powar',\n",
       "       'RR Raje', 'RS Bopara', 'RS Gavaskar', 'RV Gomez', 'RV Patel',\n",
       "       'RW Price', 'Ramandeep Singh', 'Rashid Khan', 'Rasikh Salam',\n",
       "       'Ravi Bishnoi', 'S Aravind', 'S Badree', 'S Dhawan', 'S Dube',\n",
       "       'S Gopal', 'S Kaul', 'S Kaushik', 'S Ladda', 'S Lamichhane',\n",
       "       'S Midhun', 'S Nadeem', 'S Narwal', 'S Rana', 'S Randiv',\n",
       "       'S Sandeep Warrier', 'S Sreesanth', 'S Sriram', 'S Tyagi',\n",
       "       'S Vidyut', 'SA Abbott', 'SA Yadav', 'SB Bangar', 'SB Jakati',\n",
       "       'SB Joshi', 'SB Styris', 'SB Wagh', 'SC Ganguly', 'SC Kuggeleijn',\n",
       "       'SD Chitnis', 'SE Bond', 'SE Rutherford', 'SJ Srivastava',\n",
       "       'SK Raina', 'SK Trivedi', 'SK Warne', 'SL Malinga', 'SM Boland',\n",
       "       'SM Curran', 'SM Harwood', 'SM Pollock', 'SMSM Senanayake',\n",
       "       'SN Khan', 'SN Thakur', 'SP Narine', 'SPD Smith', 'SR Tendulkar',\n",
       "       'SR Watson', 'SS Agarwal', 'SS Cottrell', 'SS Iyer', 'SS Mundhe',\n",
       "       'SS Sarkar', 'ST Jayasuriya', 'STR Binny', 'SW Tait',\n",
       "       'Sachin Baby', 'Sandeep Sharma', 'Shahbaz Ahmed', 'Shahid Afridi',\n",
       "       'Shakib Al Hasan', 'Shashank Singh', 'Shivam Mavi',\n",
       "       'Shivam Sharma', 'Shoaib Ahmed', 'Shoaib Akhtar', 'Shoaib Malik',\n",
       "       'Simarjeet Singh', 'Sohail Tanvir', 'Sunny Gupta', 'Swapnil Singh',\n",
       "       'T Henderson', 'T Natarajan', 'T Shamsi', 'T Thushara', 'TA Boult',\n",
       "       'TG Southee', 'TK Curran', 'TL Suman', 'TM Dilshan', 'TM Head',\n",
       "       'TP Sudhindra', 'TS Mills', 'TU Deshpande', 'Tejas Baroka',\n",
       "       'Tilak Varma', 'UT Yadav', 'Umar Gul', 'Umran Malik', 'V Kohli',\n",
       "       'V Pratap Singh', 'V Sehwag', 'V Shankar', 'VG Arora', 'VR Aaron',\n",
       "       'VR Iyer', 'VRV Singh', 'VS Malik', 'VS Yeligati', 'VY Mahesh',\n",
       "       'WA Mota', 'WD Parnell', 'WPUJC Vaas', 'Washington Sundar',\n",
       "       'Y Gnaneswara Rao', 'Y Nagar', 'Y Prithvi Raj', 'Y Venugopal Rao',\n",
       "       'YA Abdulla', 'YBK Jaiswal', 'YK Pathan', 'YS Chahal',\n",
       "       'Yash Dayal', 'Yuvraj Singh', 'Z Khan'], dtype=object)"
      ]
     },
     "execution_count": 24,
     "metadata": {},
     "output_type": "execute_result"
    }
   ],
   "source": [
    "ball_by_ball_df[\"bowler\"].sort_values().unique()"
   ]
  },
  {
   "cell_type": "code",
   "execution_count": 25,
   "id": "06e68dc0-299e-426e-a84a-a20f45b991fd",
   "metadata": {},
   "outputs": [],
   "source": [
    "ball_by_ball_df[\"bowler\"] = [text.strip() for text in ball_by_ball_df[\"bowler\"]]  ## remove spaces"
   ]
  },
  {
   "cell_type": "code",
   "execution_count": 26,
   "id": "6b394a37-408f-4bc6-8907-b0a77e1c371f",
   "metadata": {},
   "outputs": [],
   "source": [
    "ball_by_ball_df[\"bowler\"] = [text.lower() for text in ball_by_ball_df[\"bowler\"]]  ## everything in lowercase"
   ]
  },
  {
   "cell_type": "code",
   "execution_count": 27,
   "id": "31716a2a-2e61-46dd-a365-35c9d51cc758",
   "metadata": {},
   "outputs": [
    {
     "data": {
      "text/plain": [
       "472"
      ]
     },
     "execution_count": 27,
     "metadata": {},
     "output_type": "execute_result"
    }
   ],
   "source": [
    "ball_by_ball_df[\"bowler\"].nunique()"
   ]
  },
  {
   "cell_type": "markdown",
   "id": "a82efffa-8c1a-4c8d-ade3-4f2c6c7eadbc",
   "metadata": {},
   "source": [
    "### non-striker Column"
   ]
  },
  {
   "cell_type": "code",
   "execution_count": 28,
   "id": "be3b3990-0fea-4464-89a5-1614073d24ed",
   "metadata": {},
   "outputs": [],
   "source": [
    "ball_by_ball_df.rename(columns={\"non-striker\": \"non_striker\"}, inplace=True)  ## rename the column"
   ]
  },
  {
   "cell_type": "code",
   "execution_count": 29,
   "id": "cd27aa04-6d25-48c0-9cd7-c2d7055977ab",
   "metadata": {},
   "outputs": [
    {
     "data": {
      "text/plain": [
       "595"
      ]
     },
     "execution_count": 29,
     "metadata": {},
     "output_type": "execute_result"
    }
   ],
   "source": [
    "ball_by_ball_df[\"non_striker\"].nunique() "
   ]
  },
  {
   "cell_type": "code",
   "execution_count": 30,
   "id": "784cbca8-0a5a-42d3-901c-d39c93ac0779",
   "metadata": {},
   "outputs": [
    {
     "data": {
      "text/plain": [
       "array(['A Ashish Reddy', 'A Badoni', 'A Chandila', 'A Chopra',\n",
       "       'A Choudhary', 'A Dananjaya', 'A Flintoff', 'A Kumble',\n",
       "       'A Manohar', 'A Mishra', 'A Mithun', 'A Mukund', 'A Nehra',\n",
       "       'A Nel', 'A Nortje', 'A Singh', 'A Symonds', 'A Tomar', 'A Uniyal',\n",
       "       'A Zampa', 'AA Bilakhia', 'AA Chavan', 'AA Jhunjhunwala',\n",
       "       'AA Noffke', 'AB Agarkar', 'AB Barath', 'AB Dinda', 'AB McDonald',\n",
       "       'AB de Villiers', 'AC Blizzard', 'AC Gilchrist', 'AC Thomas',\n",
       "       'AC Voges', 'AD Hales', 'AD Mascarenhas', 'AD Mathews', 'AD Nath',\n",
       "       'AD Russell', 'AF Milne', 'AG Murtaza', 'AG Paunikar', 'AJ Finch',\n",
       "       'AJ Turner', 'AJ Tye', 'AK Markram', 'AL Menaria', 'AM Nayar',\n",
       "       'AM Rahane', 'AN Ahmed', 'AN Ghosh', 'AP Dole', 'AP Majumdar',\n",
       "       'AP Tare', 'AR Bawne', 'AR Patel', 'AS Joseph', 'AS Rajpoot',\n",
       "       'AS Raut', 'AS Yadav', 'AT Carey', 'AT Rayudu', 'AUK Pathan',\n",
       "       'Abdul Samad', 'Abdur Razzak', 'Abhishek Sharma',\n",
       "       'Aman Hakim Khan', 'Anirudh Singh', 'Ankit Sharma', 'Ankit Soni',\n",
       "       'Anmolpreet Singh', 'Anuj Rawat', 'Anureet Singh',\n",
       "       'Arshdeep Singh', 'Avesh Khan', 'Azhar Mahmood', 'B Akhil',\n",
       "       'B Chipli', 'B Indrajith', 'B Kumar', 'B Laughlin', 'B Lee',\n",
       "       'B Sai Sudharsan', 'B Stanlake', 'B Sumanth', 'BA Bhatt',\n",
       "       'BA Stokes', 'BAW Mendis', 'BB McCullum', 'BB Samantray',\n",
       "       'BB Sran', 'BCJ Cutting', 'BE Hendricks', 'BJ Haddin', 'BJ Hodge',\n",
       "       'BJ Rohrer', 'BMAJ Mendis', 'BR Dunk', 'BW Hilfenhaus',\n",
       "       'Basil Thampi', 'Bipul Sharma', 'C Ganapathy', 'C Madan',\n",
       "       'C Munro', 'C Sakariya', 'C de Grandhomme', 'CA Ingram', 'CA Lynn',\n",
       "       'CA Pujara', 'CH Gayle', 'CH Morris', 'CJ Anderson', 'CJ Ferguson',\n",
       "       'CJ Jordan', 'CJ McKay', 'CK Kapugedera', 'CK Langeveldt',\n",
       "       'CL White', 'CM Gautam', 'CR Brathwaite', 'CR Woakes',\n",
       "       'CRD Fernando', 'CV Varun', 'D Brevis', 'D Kalyankrishna',\n",
       "       'D Padikkal', 'D Pretorius', 'D Salunkhe', 'D Wiese', 'D du Preez',\n",
       "       'DA Miller', 'DA Warner', 'DAJ Bracewell', 'DB Das',\n",
       "       'DB Ravi Teja', 'DE Bollinger', 'DH Yagnik', 'DJ Bravo',\n",
       "       'DJ Harris', 'DJ Hooda', 'DJ Hussey', 'DJ Jacobs', 'DJ Malan',\n",
       "       'DJ Mitchell', 'DJ Muthuswami', 'DJ Thornely', 'DJ Willey',\n",
       "       'DJG Sammy', 'DJM Short', 'DL Chahar', 'DL Vettori', 'DM Bravo',\n",
       "       'DNT Zoysa', 'DP Conway', 'DP Nannes', 'DP Vijaykumar',\n",
       "       'DPMD Jayawardene', 'DR Martyn', 'DR Sams', 'DR Shorey',\n",
       "       'DR Smith', 'DS Kulkarni', 'DS Lehmann', 'DT Christian',\n",
       "       'DT Patil', 'DW Steyn', 'E Lewis', 'EJG Morgan', 'ER Dwivedi',\n",
       "       'F Behardien', 'F du Plessis', 'FA Allen', 'FH Edwards',\n",
       "       'FY Fazal', 'Fazalhaq Farooqi', 'G Gambhir', 'GB Hogg', 'GC Smith',\n",
       "       'GC Viljoen', 'GD McGrath', 'GD Phillips', 'GH Vihari',\n",
       "       'GHS Garton', 'GJ Bailey', 'GJ Maxwell', 'GR Napier',\n",
       "       'Gurkeerat Singh', 'H Das', 'H Klaasen', 'HE van der Dussen',\n",
       "       'HF Gurney', 'HH Gibbs', 'HH Pandya', 'HM Amla', 'HR Shokeen',\n",
       "       'HV Patel', 'Harbhajan Singh', 'Harmeet Singh', 'Harpreet Brar',\n",
       "       'Harpreet Singh', 'I Malhotra', 'I Sharma', 'I Udana', 'IK Pathan',\n",
       "       'IR Jaggi', 'IS Sodhi', 'Imran Tahir', 'Iqbal Abdulla',\n",
       "       'Ishan Kishan', 'J Arunkumar', 'J Botha', 'J Suchith',\n",
       "       'J Syed Mohammad', 'J Theron', 'J Yadav', 'JA Morkel',\n",
       "       'JA Richardson', 'JC Archer', 'JC Buttler', 'JD Ryder',\n",
       "       'JD Unadkat', 'JDP Oram', 'JDS Neesham', 'JE Taylor',\n",
       "       'JEC Franklin', 'JH Kallis', 'JJ Bumrah', 'JJ Roy',\n",
       "       'JJ van der Wath', 'JL Pattinson', 'JM Bairstow', 'JM Kemp',\n",
       "       'JM Sharma', 'JO Holder', 'JP Duminy', 'JP Faulkner',\n",
       "       'JPR Scantlebury-Searles', 'JR Hazlewood', 'JR Hopes',\n",
       "       'JR Philippe', 'Jaskaran Singh', 'Joginder Sharma', 'K Goel',\n",
       "       'K Gowtham', 'K Kartikeya', 'K Rabada', 'K Upadhyay', 'K Yadav',\n",
       "       'KA Jamieson', 'KA Pollard', 'KAJ Roach', 'KB Arun Karthik',\n",
       "       'KC Cariappa', 'KC Sangakkara', 'KD Karthik', 'KH Pandya',\n",
       "       'KJ Abbott', 'KK Ahmed', 'KK Cooper', 'KK Nair', 'KL Nagarkoti',\n",
       "       'KL Rahul', 'KM Jadhav', 'KMA Paul', 'KMDN Kulasekara',\n",
       "       'KP Appanna', 'KP Pietersen', 'KS Bharat', 'KS Sharma',\n",
       "       'KS Williamson', 'KV Sharma', 'KW Richardson', 'Kamran Akmal',\n",
       "       'Kamran Khan', 'Karanveer Singh', 'Kartik Tyagi', 'Kuldeep Yadav',\n",
       "       'L Ablish', 'L Balaji', 'L Ronchi', 'LA Carseldine',\n",
       "       'LA Pomersbach', 'LE Plunkett', 'LH Ferguson', 'LJ Wright',\n",
       "       'LMP Simmons', 'LPC Silva', 'LR Shukla', 'LRPL Taylor',\n",
       "       'LS Livingstone', 'Lalit Yadav', 'M Ashwin', 'M Jansen', 'M Kaif',\n",
       "       'M Kartik', 'M Klinger', 'M Manhas', 'M Markande', 'M Morkel',\n",
       "       'M Muralitharan', 'M Ntini', 'M Prasidh Krishna', 'M Rawat',\n",
       "       'M Shahrukh Khan', 'M Theekshana', 'M Vijay', 'M Vohra',\n",
       "       'M de Lange', 'MA Agarwal', 'MA Khote', 'MA Starc', 'MA Wood',\n",
       "       'MC Henriques', 'MC Juneja', 'MD Mishra', 'MDKJ Perera',\n",
       "       'MEK Hussey', 'MF Maharoof', 'MG Johnson', 'MJ Clarke',\n",
       "       'MJ Guptill', 'MJ Lumb', 'MJ McClenaghan', 'MJ Santner',\n",
       "       'MK Lomror', 'MK Pandey', 'MK Tiwary', 'ML Hayden', 'MM Ali',\n",
       "       'MM Patel', 'MM Sharma', 'MN Samuels', 'MN van Wyk', 'MP Stoinis',\n",
       "       'MR Marsh', 'MS Bisla', 'MS Dhoni', 'MS Gony', 'MS Wade',\n",
       "       'MV Boucher', 'Mandeep Singh', 'Mashrafe Mortaza', 'Misbah-ul-Haq',\n",
       "       'Mohammad Ashraful', 'Mohammad Asif', 'Mohammad Hafeez',\n",
       "       'Mohammad Nabi', 'Mohammed Shami', 'Mohammed Siraj', 'Mohsin Khan',\n",
       "       'Mujeeb Ur Rahman', 'Mukesh Choudhary', 'Mustafizur Rahman',\n",
       "       'N Jagadeesan', 'N Pooran', 'N Rana', 'N Saini', 'ND Doshi',\n",
       "       'NJ Maddinson', 'NJ Rimmington', 'NK Patel', 'NL McCullum',\n",
       "       'NLTC Perera', 'NM Coulter-Nile', 'NS Naik', 'NT Ellis', 'NV Ojha',\n",
       "       'Navdeep Saini', 'OA Shah', 'OC McCoy', 'OF Smith', 'P Awana',\n",
       "       'P Chopra', 'P Dogra', 'P Dubey', 'P Kumar', 'P Negi',\n",
       "       'P Parameswaran', 'P Ray Barman', 'P Sahu', 'P Simran Singh',\n",
       "       'PA Patel', 'PA Reddy', 'PBB Rajapaksa', 'PC Valthaty',\n",
       "       'PD Collingwood', 'PJ Cummins', 'PJ Sangwan', 'PK Garg',\n",
       "       'PM Sarvesh Kumar', 'PN Mankad', 'PP Chawla', 'PP Ojha', 'PP Shaw',\n",
       "       'PR Shah', 'PSP Handscomb', 'PV Tambe', 'PVD Chameera',\n",
       "       'PWH de Silva', 'Pankaj Singh', 'Parvez Rasool', 'Q de Kock',\n",
       "       'R Ashwin', 'R Bhatia', 'R Bishnoi', 'R Dhawan', 'R Dravid',\n",
       "       'R McLaren', 'R Ninan', 'R Parag', 'R Powell', 'R Rampaul',\n",
       "       'R Sathish', 'R Sharma', 'R Shepherd', 'R Shukla', 'R Tewatia',\n",
       "       'R Vinay Kumar', 'RA Bawa', 'RA Jadeja', 'RA Tripathi',\n",
       "       'RD Chahar', 'RD Gaikwad', 'RE Levi', 'RE van der Merwe',\n",
       "       'RG More', 'RG Sharma', 'RJ Harris', 'RJ Peterson', 'RJ Quiney',\n",
       "       'RK Bhui', 'RK Singh', 'RM Patidar', 'RN ten Doeschate',\n",
       "       'RP Meredith', 'RP Singh', 'RR Bhatkal', 'RR Pant', 'RR Powar',\n",
       "       'RR Raje', 'RR Rossouw', 'RR Sarwan', 'RS Bopara', 'RS Gavaskar',\n",
       "       'RS Sodhi', 'RT Ponting', 'RV Gomez', 'RV Patel', 'RV Uthappa',\n",
       "       'Ramandeep Singh', 'Rashid Khan', 'Rasikh Salam', 'Ravi Bishnoi',\n",
       "       'S Anirudha', 'S Aravind', 'S Badree', 'S Badrinath',\n",
       "       'S Chanderpaul', 'S Dhawan', 'S Dube', 'S Gopal', 'S Kaul',\n",
       "       'S Kaushik', 'S Ladda', 'S Nadeem', 'S Narwal', 'S Rana',\n",
       "       'S Randiv', 'S Sohal', 'S Sreesanth', 'S Sriram', 'S Tyagi',\n",
       "       'S Vidyut', 'SA Abbott', 'SA Asnodkar', 'SA Yadav', 'SB Bangar',\n",
       "       'SB Jakati', 'SB Joshi', 'SB Styris', 'SB Wagh', 'SC Ganguly',\n",
       "       'SD Chitnis', 'SD Lad', 'SE Bond', 'SE Marsh', 'SE Rutherford',\n",
       "       'SJ Srivastava', 'SK Raina', 'SK Trivedi', 'SK Warne',\n",
       "       'SL Malinga', 'SM Curran', 'SM Harwood', 'SM Katich', 'SM Pollock',\n",
       "       'SMSM Senanayake', 'SN Khan', 'SN Thakur', 'SO Hetmyer',\n",
       "       'SP Fleming', 'SP Goswami', 'SP Jackson', 'SP Narine', 'SPD Smith',\n",
       "       'SR Tendulkar', 'SR Watson', 'SS Cottrell', 'SS Iyer',\n",
       "       'SS Prabhudessai', 'SS Shaikh', 'SS Tiwary', 'ST Jayasuriya',\n",
       "       'STR Binny', 'SV Samson', 'SW Billings', 'SW Tait', 'Sachin Baby',\n",
       "       'Salman Butt', 'Sandeep Sharma', 'Shahbaz Ahmed', 'Shahid Afridi',\n",
       "       'Shakib Al Hasan', 'Shashank Singh', 'Shivam Mavi', 'Shoaib Ahmed',\n",
       "       'Shoaib Akhtar', 'Shoaib Malik', 'Shubman Gill', 'Simarjeet Singh',\n",
       "       'Sohail Tanvir', 'Sunny Gupta', 'Sunny Singh', 'Swapnil Singh',\n",
       "       'T Banton', 'T Henderson', 'T Kohli', 'T Natarajan', 'T Shamsi',\n",
       "       'T Stubbs', 'T Taibu', 'T Thushara', 'TA Boult', 'TD Paine',\n",
       "       'TG Southee', 'TH David', 'TK Curran', 'TL Seifert', 'TL Suman',\n",
       "       'TM Dilshan', 'TM Head', 'TM Srivastava', 'TP Sudhindra',\n",
       "       'TR Birt', 'TS Mills', 'TU Deshpande', 'Tilak Varma', 'UA Birla',\n",
       "       'UBT Chand', 'UT Khawaja', 'UT Yadav', 'Umar Gul', 'Umran Malik',\n",
       "       'V Kohli', 'V Sehwag', 'V Shankar', 'VG Arora', 'VH Zol',\n",
       "       'VR Aaron', 'VR Iyer', 'VRV Singh', 'VS Malik', 'VVS Laxman',\n",
       "       'VY Mahesh', 'Virat Singh', 'Vishnu Vinod', 'W Jaffer', 'WA Mota',\n",
       "       'WD Parnell', 'WP Saha', 'WPUJC Vaas', 'Washington Sundar',\n",
       "       'X Thalaivan Sargunam', 'Y Gnaneswara Rao', 'Y Nagar',\n",
       "       'Y Prithvi Raj', 'Y Venugopal Rao', 'YA Abdulla', 'YBK Jaiswal',\n",
       "       'YK Pathan', 'YS Chahal', 'YV Takawale', 'Yashpal Singh',\n",
       "       'Younis Khan', 'Yuvraj Singh', 'Z Khan'], dtype=object)"
      ]
     },
     "execution_count": 30,
     "metadata": {},
     "output_type": "execute_result"
    }
   ],
   "source": [
    "ball_by_ball_df[\"non_striker\"].sort_values().unique()"
   ]
  },
  {
   "cell_type": "code",
   "execution_count": 31,
   "id": "1f159e1d-7847-4e79-a205-e95be58722e8",
   "metadata": {},
   "outputs": [],
   "source": [
    "ball_by_ball_df[\"non_striker\"] = [text.strip() for text in ball_by_ball_df[\"non_striker\"]]  ## remove spaces"
   ]
  },
  {
   "cell_type": "code",
   "execution_count": 32,
   "id": "cf85d329-c49a-4027-86a4-1c2162da9849",
   "metadata": {},
   "outputs": [],
   "source": [
    "ball_by_ball_df[\"non_striker\"] = [text.lower() for text in ball_by_ball_df[\"non_striker\"]]  ## everything in lowercase"
   ]
  },
  {
   "cell_type": "code",
   "execution_count": 33,
   "id": "b3eb2bc5-0f9e-4412-8a39-2d08b3210a77",
   "metadata": {},
   "outputs": [
    {
     "data": {
      "text/plain": [
       "595"
      ]
     },
     "execution_count": 33,
     "metadata": {},
     "output_type": "execute_result"
    }
   ],
   "source": [
    "ball_by_ball_df[\"non_striker\"].nunique()"
   ]
  },
  {
   "cell_type": "markdown",
   "id": "c88b23e8-29fd-4d09-bef3-88bf82299346",
   "metadata": {},
   "source": [
    "### extra-types Column"
   ]
  },
  {
   "cell_type": "code",
   "execution_count": 34,
   "id": "81a7449f-4db9-4c44-b865-e8fe23bc8ef3",
   "metadata": {},
   "outputs": [
    {
     "data": {
      "text/plain": [
       "wides      7025\n",
       "legbyes    3531\n",
       "noballs     908\n",
       "byes        583\n",
       "penalty       2\n",
       "Name: extra_type, dtype: int64"
      ]
     },
     "execution_count": 34,
     "metadata": {},
     "output_type": "execute_result"
    }
   ],
   "source": [
    "ball_by_ball_df[\"extra_type\"].value_counts() "
   ]
  },
  {
   "cell_type": "code",
   "execution_count": 35,
   "id": "f1387b96-0608-4e07-907f-3df1ff6ff880",
   "metadata": {},
   "outputs": [
    {
     "data": {
      "text/plain": [
       "213905"
      ]
     },
     "execution_count": 35,
     "metadata": {},
     "output_type": "execute_result"
    }
   ],
   "source": [
    "ball_by_ball_df[\"extra_type\"].isnull().sum()"
   ]
  },
  {
   "cell_type": "code",
   "execution_count": 36,
   "id": "d628b24d-4049-460f-9ca7-de7c97b60de7",
   "metadata": {},
   "outputs": [],
   "source": [
    "ball_by_ball_df[\"extra_type\"] = ball_by_ball_df[\"extra_type\"].fillna(\"noextra\") ## filling the NaN value with no extra type value"
   ]
  },
  {
   "cell_type": "code",
   "execution_count": 37,
   "id": "e26d2b9f-e34d-49ac-a42b-b760ed23aef5",
   "metadata": {},
   "outputs": [
    {
     "data": {
      "text/plain": [
       "noextra    213905\n",
       "wides        7025\n",
       "legbyes      3531\n",
       "noballs       908\n",
       "byes          583\n",
       "penalty         2\n",
       "Name: extra_type, dtype: int64"
      ]
     },
     "execution_count": 37,
     "metadata": {},
     "output_type": "execute_result"
    }
   ],
   "source": [
    "ball_by_ball_df[\"extra_type\"].value_counts()"
   ]
  },
  {
   "cell_type": "markdown",
   "id": "d07a4056-7301-4a4c-a67d-694a82df015b",
   "metadata": {},
   "source": [
    "### batsman_run Column"
   ]
  },
  {
   "cell_type": "code",
   "execution_count": 38,
   "id": "bc876cfd-f7f6-4341-b422-f0ab982898e7",
   "metadata": {},
   "outputs": [
    {
     "data": {
      "text/plain": [
       "array([0, 1, 4, 6, 3, 2, 5])"
      ]
     },
     "execution_count": 38,
     "metadata": {},
     "output_type": "execute_result"
    }
   ],
   "source": [
    "ball_by_ball_df[\"batsman_run\"].unique() "
   ]
  },
  {
   "cell_type": "code",
   "execution_count": 39,
   "id": "b77eff6c-f24c-477e-bfc5-c29f1c32e1be",
   "metadata": {},
   "outputs": [
    {
     "data": {
      "text/plain": [
       "0    90778\n",
       "1    83928\n",
       "4    25500\n",
       "2    14313\n",
       "6    10666\n",
       "3      708\n",
       "5       61\n",
       "Name: batsman_run, dtype: int64"
      ]
     },
     "execution_count": 39,
     "metadata": {},
     "output_type": "execute_result"
    }
   ],
   "source": [
    "ball_by_ball_df[\"batsman_run\"].value_counts() ## OK "
   ]
  },
  {
   "cell_type": "markdown",
   "id": "afbafdb1-fcfa-4de6-be24-afdbeb8ca24c",
   "metadata": {},
   "source": [
    "### extras_run Column"
   ]
  },
  {
   "cell_type": "code",
   "execution_count": 40,
   "id": "d1a73c10-e0c1-45b4-8c29-d0ff67e00e8c",
   "metadata": {},
   "outputs": [
    {
     "data": {
      "text/plain": [
       "array([0, 1, 5, 4, 2, 3, 7])"
      ]
     },
     "execution_count": 40,
     "metadata": {},
     "output_type": "execute_result"
    }
   ],
   "source": [
    "ball_by_ball_df[\"extras_run\"].unique()"
   ]
  },
  {
   "cell_type": "code",
   "execution_count": 41,
   "id": "b1025948-b0b5-4e24-a2e6-e1b8e40b890b",
   "metadata": {},
   "outputs": [
    {
     "data": {
      "text/plain": [
       "0    213905\n",
       "1     10760\n",
       "2       499\n",
       "4       436\n",
       "5       275\n",
       "3        78\n",
       "7         1\n",
       "Name: extras_run, dtype: int64"
      ]
     },
     "execution_count": 41,
     "metadata": {},
     "output_type": "execute_result"
    }
   ],
   "source": [
    "ball_by_ball_df[\"extras_run\"].value_counts() ## OK "
   ]
  },
  {
   "cell_type": "markdown",
   "id": "957a61c6-cb6f-4ee7-804b-8a90da82af3b",
   "metadata": {},
   "source": [
    "### total_run Column"
   ]
  },
  {
   "cell_type": "code",
   "execution_count": 42,
   "id": "3ccab04f-0c10-4832-806e-961b32e219bf",
   "metadata": {},
   "outputs": [
    {
     "data": {
      "text/plain": [
       "array([0, 1, 4, 6, 3, 2, 5, 7])"
      ]
     },
     "execution_count": 42,
     "metadata": {},
     "output_type": "execute_result"
    }
   ],
   "source": [
    "ball_by_ball_df[\"total_run\"].unique()"
   ]
  },
  {
   "cell_type": "code",
   "execution_count": 43,
   "id": "15e2c701-e47c-473d-a360-98d36c2d6e23",
   "metadata": {},
   "outputs": [
    {
     "data": {
      "text/plain": [
       "1    93861\n",
       "0    79253\n",
       "4    25828\n",
       "2    15065\n",
       "6    10603\n",
       "3      836\n",
       "5      444\n",
       "7       64\n",
       "Name: total_run, dtype: int64"
      ]
     },
     "execution_count": 43,
     "metadata": {},
     "output_type": "execute_result"
    }
   ],
   "source": [
    "ball_by_ball_df[\"total_run\"].value_counts() ## OK "
   ]
  },
  {
   "cell_type": "markdown",
   "id": "f8be13e8-1bd2-41e1-92fa-8d81db978ef4",
   "metadata": {},
   "source": [
    "### non_boundary Column"
   ]
  },
  {
   "cell_type": "code",
   "execution_count": 44,
   "id": "8820e094-3af1-4b20-824b-a7d0e226ca9c",
   "metadata": {},
   "outputs": [
    {
     "data": {
      "text/plain": [
       "array([0, 1])"
      ]
     },
     "execution_count": 44,
     "metadata": {},
     "output_type": "execute_result"
    }
   ],
   "source": [
    "ball_by_ball_df[\"non_boundary\"].unique()"
   ]
  },
  {
   "cell_type": "code",
   "execution_count": 45,
   "id": "31b7fa95-8656-4490-8ddb-11664c1821c9",
   "metadata": {},
   "outputs": [
    {
     "data": {
      "text/plain": [
       "0    225933\n",
       "1        21\n",
       "Name: non_boundary, dtype: int64"
      ]
     },
     "execution_count": 45,
     "metadata": {},
     "output_type": "execute_result"
    }
   ],
   "source": [
    "ball_by_ball_df[\"non_boundary\"].value_counts() ## OK "
   ]
  },
  {
   "cell_type": "markdown",
   "id": "b5fb332e-b722-4957-bdc9-c5072014bffa",
   "metadata": {},
   "source": [
    "### isWicketDelivery Column"
   ]
  },
  {
   "cell_type": "code",
   "execution_count": 46,
   "id": "8b9c472d-6da9-40e0-b696-fe4688d97f68",
   "metadata": {},
   "outputs": [
    {
     "data": {
      "text/plain": [
       "array([0, 1])"
      ]
     },
     "execution_count": 46,
     "metadata": {},
     "output_type": "execute_result"
    }
   ],
   "source": [
    "ball_by_ball_df[\"isWicketDelivery\"].unique()"
   ]
  },
  {
   "cell_type": "code",
   "execution_count": 47,
   "id": "6f341a29-0926-4c5e-b234-31c754e7f357",
   "metadata": {},
   "outputs": [
    {
     "data": {
      "text/plain": [
       "0    214803\n",
       "1     11151\n",
       "Name: isWicketDelivery, dtype: int64"
      ]
     },
     "execution_count": 47,
     "metadata": {},
     "output_type": "execute_result"
    }
   ],
   "source": [
    "ball_by_ball_df[\"isWicketDelivery\"].value_counts() ## OK "
   ]
  },
  {
   "cell_type": "markdown",
   "id": "8689b727-e2d4-4928-84ef-f156229235bc",
   "metadata": {},
   "source": [
    "### player_out Column"
   ]
  },
  {
   "cell_type": "code",
   "execution_count": 48,
   "id": "197421af-fc46-49b2-bf54-0c617c2f3d61",
   "metadata": {},
   "outputs": [
    {
     "data": {
      "text/plain": [
       "573"
      ]
     },
     "execution_count": 48,
     "metadata": {},
     "output_type": "execute_result"
    }
   ],
   "source": [
    "ball_by_ball_df[\"player_out\"].nunique()"
   ]
  },
  {
   "cell_type": "code",
   "execution_count": 49,
   "id": "e7d82207-9d22-4288-a0d1-66366e82ae91",
   "metadata": {},
   "outputs": [
    {
     "data": {
      "text/plain": [
       "214803"
      ]
     },
     "execution_count": 49,
     "metadata": {},
     "output_type": "execute_result"
    }
   ],
   "source": [
    "ball_by_ball_df[\"player_out\"].isnull().sum()"
   ]
  },
  {
   "cell_type": "code",
   "execution_count": 50,
   "id": "ceff1b26-049e-4999-979a-126c51802f8c",
   "metadata": {},
   "outputs": [],
   "source": [
    "ball_by_ball_df[\"player_out\"] = ball_by_ball_df[\"player_out\"].fillna(\"noplayerout\") ## filling the NaN value with no player out value"
   ]
  },
  {
   "cell_type": "code",
   "execution_count": 51,
   "id": "682c5182-4d28-4c6d-8ce8-72cc80e3678c",
   "metadata": {},
   "outputs": [],
   "source": [
    "ball_by_ball_df[\"player_out\"] = [text.strip() for text in ball_by_ball_df[\"player_out\"]]  ## remove spaces"
   ]
  },
  {
   "cell_type": "code",
   "execution_count": 52,
   "id": "e0d514d0-f42f-40f1-9b58-53c0bd635c3e",
   "metadata": {},
   "outputs": [],
   "source": [
    "ball_by_ball_df[\"player_out\"] = [text.lower() for text in ball_by_ball_df[\"player_out\"]]"
   ]
  },
  {
   "cell_type": "markdown",
   "id": "1c16de92-717f-47d7-a9f8-443b5eaf0978",
   "metadata": {},
   "source": [
    "### kind Column"
   ]
  },
  {
   "cell_type": "code",
   "execution_count": 53,
   "id": "b30ec609-1aa0-403e-8009-5e03685b8e0b",
   "metadata": {},
   "outputs": [
    {
     "data": {
      "text/plain": [
       "array([nan, 'caught', 'caught and bowled', 'run out', 'bowled', 'stumped',\n",
       "       'lbw', 'hit wicket', 'retired hurt', 'retired out',\n",
       "       'obstructing the field'], dtype=object)"
      ]
     },
     "execution_count": 53,
     "metadata": {},
     "output_type": "execute_result"
    }
   ],
   "source": [
    "ball_by_ball_df[\"kind\"].unique()"
   ]
  },
  {
   "cell_type": "code",
   "execution_count": 54,
   "id": "da7c56c9-ecad-477c-8a6b-0ad37aeda091",
   "metadata": {},
   "outputs": [
    {
     "data": {
      "text/plain": [
       "214803"
      ]
     },
     "execution_count": 54,
     "metadata": {},
     "output_type": "execute_result"
    }
   ],
   "source": [
    "ball_by_ball_df[\"kind\"].isnull().sum()"
   ]
  },
  {
   "cell_type": "code",
   "execution_count": 55,
   "id": "91bc2689-c80b-46c9-b93b-02557cf6d37a",
   "metadata": {},
   "outputs": [
    {
     "data": {
      "text/plain": [
       "caught                   6837\n",
       "bowled                   1944\n",
       "run out                  1007\n",
       "lbw                       685\n",
       "stumped                   325\n",
       "caught and bowled         323\n",
       "hit wicket                 14\n",
       "retired hurt               13\n",
       "obstructing the field       2\n",
       "retired out                 1\n",
       "Name: kind, dtype: int64"
      ]
     },
     "execution_count": 55,
     "metadata": {},
     "output_type": "execute_result"
    }
   ],
   "source": [
    "ball_by_ball_df[\"kind\"].value_counts()"
   ]
  },
  {
   "cell_type": "code",
   "execution_count": 56,
   "id": "1c9eee6c-42b7-49d3-af3b-8f48f1ddc54f",
   "metadata": {},
   "outputs": [],
   "source": [
    "ball_by_ball_df[\"kind\"] = ball_by_ball_df[\"kind\"].fillna(\"nokind\") ## filling the NaN value with nokind value"
   ]
  },
  {
   "cell_type": "code",
   "execution_count": 57,
   "id": "9f72c3c5-39d9-45f9-ba6c-691f310b337f",
   "metadata": {},
   "outputs": [],
   "source": [
    "ball_by_ball_df[\"kind\"] = [text.strip() for text in ball_by_ball_df[\"kind\"]]  ## remove spaces"
   ]
  },
  {
   "cell_type": "code",
   "execution_count": 58,
   "id": "67520023-a179-46b1-a376-8c568ee975a9",
   "metadata": {},
   "outputs": [],
   "source": [
    "ball_by_ball_df[\"kind\"] = [text.lower() for text in ball_by_ball_df[\"kind\"]]"
   ]
  },
  {
   "cell_type": "markdown",
   "id": "269dd72c-8ee2-4282-b0d4-8dc0efe70089",
   "metadata": {},
   "source": [
    "### fielders_involved Column"
   ]
  },
  {
   "cell_type": "code",
   "execution_count": 59,
   "id": "4e820fb9-a3d5-4548-8d9b-c9612897e31e",
   "metadata": {},
   "outputs": [
    {
     "data": {
      "text/plain": [
       "535"
      ]
     },
     "execution_count": 59,
     "metadata": {},
     "output_type": "execute_result"
    }
   ],
   "source": [
    "ball_by_ball_df[\"fielders_involved\"].nunique()"
   ]
  },
  {
   "cell_type": "code",
   "execution_count": 60,
   "id": "2df8c90f-f4b3-4c21-8449-c003ce410381",
   "metadata": {},
   "outputs": [
    {
     "data": {
      "text/plain": [
       "217966"
      ]
     },
     "execution_count": 60,
     "metadata": {},
     "output_type": "execute_result"
    }
   ],
   "source": [
    "ball_by_ball_df[\"fielders_involved\"].isnull().sum()"
   ]
  },
  {
   "cell_type": "code",
   "execution_count": 61,
   "id": "c106b7a7-03b2-4d19-9599-9d694928d700",
   "metadata": {},
   "outputs": [],
   "source": [
    "ball_by_ball_df[\"fielders_involved\"] = ball_by_ball_df[\"fielders_involved\"].fillna(\"nofieldersinvolved\") ## filling the NaN value with no fileder involved value"
   ]
  },
  {
   "cell_type": "code",
   "execution_count": 62,
   "id": "bad7432d-0f52-4c68-88c5-91ea0dd416be",
   "metadata": {},
   "outputs": [],
   "source": [
    "ball_by_ball_df[\"fielders_involved\"] = [text.strip() for text in ball_by_ball_df[\"fielders_involved\"]]  ## remove spaces"
   ]
  },
  {
   "cell_type": "code",
   "execution_count": 63,
   "id": "5819ced8-17f1-4295-9c1c-89505646d84e",
   "metadata": {},
   "outputs": [],
   "source": [
    "ball_by_ball_df[\"fielders_involved\"] = [text.lower() for text in ball_by_ball_df[\"fielders_involved\"]]"
   ]
  },
  {
   "cell_type": "code",
   "execution_count": 64,
   "id": "8e296df5-e15f-4811-a96b-14379cde7308",
   "metadata": {},
   "outputs": [
    {
     "data": {
      "text/plain": [
       "nofieldersinvolved    217966\n",
       "ms dhoni                 196\n",
       "kd karthik               182\n",
       "ab de villiers           141\n",
       "rv uthappa               133\n",
       "                       ...  \n",
       "ts mills                   1\n",
       "vg arora                   1\n",
       "pn mankad                  1\n",
       "anmolpreet singh           1\n",
       "nj maddinson               1\n",
       "Name: fielders_involved, Length: 536, dtype: int64"
      ]
     },
     "execution_count": 64,
     "metadata": {},
     "output_type": "execute_result"
    }
   ],
   "source": [
    "ball_by_ball_df[\"fielders_involved\"].value_counts()"
   ]
  },
  {
   "cell_type": "markdown",
   "id": "1bfc0617-4f43-47ea-a171-7a6891baac49",
   "metadata": {},
   "source": [
    "### BattingTeam Column"
   ]
  },
  {
   "cell_type": "code",
   "execution_count": 65,
   "id": "2c93b70a-188f-4e21-badb-63a35d15bfbc",
   "metadata": {},
   "outputs": [
    {
     "data": {
      "text/plain": [
       "array(['Rajasthan Royals', 'Gujarat Titans',\n",
       "       'Royal Challengers Bangalore', 'Lucknow Super Giants',\n",
       "       'Sunrisers Hyderabad', 'Punjab Kings', 'Delhi Capitals',\n",
       "       'Mumbai Indians', 'Chennai Super Kings', 'Kolkata Knight Riders',\n",
       "       'Kings XI Punjab', 'Delhi Daredevils', 'Rising Pune Supergiant',\n",
       "       'Gujarat Lions', 'Rising Pune Supergiants', 'Pune Warriors',\n",
       "       'Deccan Chargers', 'Kochi Tuskers Kerala'], dtype=object)"
      ]
     },
     "execution_count": 65,
     "metadata": {},
     "output_type": "execute_result"
    }
   ],
   "source": [
    "ball_by_ball_df[\"BattingTeam\"].unique()"
   ]
  },
  {
   "cell_type": "code",
   "execution_count": 66,
   "id": "fb45fff3-55eb-4bdc-8ff4-a3742b6e19ed",
   "metadata": {},
   "outputs": [],
   "source": [
    "ball_by_ball_df[\"BattingTeam\"] = [text.strip() for text in ball_by_ball_df[\"BattingTeam\"]]  ## remove spaces"
   ]
  },
  {
   "cell_type": "code",
   "execution_count": 67,
   "id": "78b5ea9a-f264-4b6f-92db-26cbdf00b520",
   "metadata": {},
   "outputs": [],
   "source": [
    "ball_by_ball_df[\"BattingTeam\"] = [text.lower() for text in ball_by_ball_df[\"BattingTeam\"]]"
   ]
  },
  {
   "cell_type": "code",
   "execution_count": 68,
   "id": "26a33ab8-234c-4a24-a107-fe411ad1baf3",
   "metadata": {},
   "outputs": [],
   "source": [
    "team_name_dict = {'rising pune supergiants': 'rising pune supergiant', \n",
    "                  'kings xi punjab': 'punjab kings',\n",
    "                  'delhi daredevils': 'delhi capitals'}\n",
    "\n",
    "ball_by_ball_df['BattingTeam'] = ball_by_ball_df['BattingTeam'].replace(team_name_dict)"
   ]
  },
  {
   "cell_type": "code",
   "execution_count": 69,
   "id": "2a316b0a-64e1-4303-bc97-7d388e7e08d3",
   "metadata": {},
   "outputs": [
    {
     "data": {
      "text/plain": [
       "mumbai indians                 27826\n",
       "royal challengers bangalore    26512\n",
       "delhi capitals                 26373\n",
       "kolkata knight riders          26192\n",
       "punjab kings                   26034\n",
       "chennai super kings            25128\n",
       "rajasthan royals               22777\n",
       "sunrisers hyderabad            18196\n",
       "deccan chargers                 9034\n",
       "pune warriors                   5443\n",
       "gujarat lions                   3566\n",
       "rising pune supergiant          3480\n",
       "gujarat titans                  1971\n",
       "lucknow super giants            1840\n",
       "kochi tuskers kerala            1582\n",
       "Name: BattingTeam, dtype: int64"
      ]
     },
     "execution_count": 69,
     "metadata": {},
     "output_type": "execute_result"
    }
   ],
   "source": [
    "ball_by_ball_df[\"BattingTeam\"].value_counts()"
   ]
  },
  {
   "cell_type": "code",
   "execution_count": 70,
   "id": "db9285e4-a1e6-48c5-a8e8-e2a1d9d98e5f",
   "metadata": {},
   "outputs": [
    {
     "data": {
      "text/plain": [
       "15"
      ]
     },
     "execution_count": 70,
     "metadata": {},
     "output_type": "execute_result"
    }
   ],
   "source": [
    "ball_by_ball_df[\"BattingTeam\"].nunique()"
   ]
  },
  {
   "cell_type": "markdown",
   "id": "c2e19b35-cfa4-43b9-a5be-fbb7e742b9bf",
   "metadata": {},
   "source": [
    "## Vizualisation of the new dataframe \n"
   ]
  },
  {
   "cell_type": "code",
   "execution_count": 71,
   "id": "d4b538c4-675c-4020-8ff2-4cb5477df455",
   "metadata": {},
   "outputs": [
    {
     "data": {
      "text/html": [
       "<div>\n",
       "<style scoped>\n",
       "    .dataframe tbody tr th:only-of-type {\n",
       "        vertical-align: middle;\n",
       "    }\n",
       "\n",
       "    .dataframe tbody tr th {\n",
       "        vertical-align: top;\n",
       "    }\n",
       "\n",
       "    .dataframe thead th {\n",
       "        text-align: right;\n",
       "    }\n",
       "</style>\n",
       "<table border=\"1\" class=\"dataframe\">\n",
       "  <thead>\n",
       "    <tr style=\"text-align: right;\">\n",
       "      <th></th>\n",
       "      <th>ID</th>\n",
       "      <th>innings</th>\n",
       "      <th>overs</th>\n",
       "      <th>ballnumber</th>\n",
       "      <th>batter</th>\n",
       "      <th>bowler</th>\n",
       "      <th>non_striker</th>\n",
       "      <th>extra_type</th>\n",
       "      <th>batsman_run</th>\n",
       "      <th>extras_run</th>\n",
       "      <th>total_run</th>\n",
       "      <th>non_boundary</th>\n",
       "      <th>isWicketDelivery</th>\n",
       "      <th>player_out</th>\n",
       "      <th>kind</th>\n",
       "      <th>fielders_involved</th>\n",
       "      <th>BattingTeam</th>\n",
       "    </tr>\n",
       "  </thead>\n",
       "  <tbody>\n",
       "    <tr>\n",
       "      <th>0</th>\n",
       "      <td>1312200</td>\n",
       "      <td>1</td>\n",
       "      <td>1</td>\n",
       "      <td>1</td>\n",
       "      <td>ybk jaiswal</td>\n",
       "      <td>mohammed shami</td>\n",
       "      <td>jc buttler</td>\n",
       "      <td>noextra</td>\n",
       "      <td>0</td>\n",
       "      <td>0</td>\n",
       "      <td>0</td>\n",
       "      <td>0</td>\n",
       "      <td>0</td>\n",
       "      <td>noplayerout</td>\n",
       "      <td>nokind</td>\n",
       "      <td>nofieldersinvolved</td>\n",
       "      <td>rajasthan royals</td>\n",
       "    </tr>\n",
       "    <tr>\n",
       "      <th>1</th>\n",
       "      <td>1312200</td>\n",
       "      <td>1</td>\n",
       "      <td>1</td>\n",
       "      <td>2</td>\n",
       "      <td>ybk jaiswal</td>\n",
       "      <td>mohammed shami</td>\n",
       "      <td>jc buttler</td>\n",
       "      <td>legbyes</td>\n",
       "      <td>0</td>\n",
       "      <td>1</td>\n",
       "      <td>1</td>\n",
       "      <td>0</td>\n",
       "      <td>0</td>\n",
       "      <td>noplayerout</td>\n",
       "      <td>nokind</td>\n",
       "      <td>nofieldersinvolved</td>\n",
       "      <td>rajasthan royals</td>\n",
       "    </tr>\n",
       "    <tr>\n",
       "      <th>2</th>\n",
       "      <td>1312200</td>\n",
       "      <td>1</td>\n",
       "      <td>1</td>\n",
       "      <td>3</td>\n",
       "      <td>jc buttler</td>\n",
       "      <td>mohammed shami</td>\n",
       "      <td>ybk jaiswal</td>\n",
       "      <td>noextra</td>\n",
       "      <td>1</td>\n",
       "      <td>0</td>\n",
       "      <td>1</td>\n",
       "      <td>0</td>\n",
       "      <td>0</td>\n",
       "      <td>noplayerout</td>\n",
       "      <td>nokind</td>\n",
       "      <td>nofieldersinvolved</td>\n",
       "      <td>rajasthan royals</td>\n",
       "    </tr>\n",
       "    <tr>\n",
       "      <th>3</th>\n",
       "      <td>1312200</td>\n",
       "      <td>1</td>\n",
       "      <td>1</td>\n",
       "      <td>4</td>\n",
       "      <td>ybk jaiswal</td>\n",
       "      <td>mohammed shami</td>\n",
       "      <td>jc buttler</td>\n",
       "      <td>noextra</td>\n",
       "      <td>0</td>\n",
       "      <td>0</td>\n",
       "      <td>0</td>\n",
       "      <td>0</td>\n",
       "      <td>0</td>\n",
       "      <td>noplayerout</td>\n",
       "      <td>nokind</td>\n",
       "      <td>nofieldersinvolved</td>\n",
       "      <td>rajasthan royals</td>\n",
       "    </tr>\n",
       "    <tr>\n",
       "      <th>4</th>\n",
       "      <td>1312200</td>\n",
       "      <td>1</td>\n",
       "      <td>1</td>\n",
       "      <td>5</td>\n",
       "      <td>ybk jaiswal</td>\n",
       "      <td>mohammed shami</td>\n",
       "      <td>jc buttler</td>\n",
       "      <td>noextra</td>\n",
       "      <td>0</td>\n",
       "      <td>0</td>\n",
       "      <td>0</td>\n",
       "      <td>0</td>\n",
       "      <td>0</td>\n",
       "      <td>noplayerout</td>\n",
       "      <td>nokind</td>\n",
       "      <td>nofieldersinvolved</td>\n",
       "      <td>rajasthan royals</td>\n",
       "    </tr>\n",
       "  </tbody>\n",
       "</table>\n",
       "</div>"
      ],
      "text/plain": [
       "        ID  innings  overs  ballnumber       batter          bowler  \\\n",
       "0  1312200        1      1           1  ybk jaiswal  mohammed shami   \n",
       "1  1312200        1      1           2  ybk jaiswal  mohammed shami   \n",
       "2  1312200        1      1           3   jc buttler  mohammed shami   \n",
       "3  1312200        1      1           4  ybk jaiswal  mohammed shami   \n",
       "4  1312200        1      1           5  ybk jaiswal  mohammed shami   \n",
       "\n",
       "   non_striker extra_type  batsman_run  extras_run  total_run  non_boundary  \\\n",
       "0   jc buttler    noextra            0           0          0             0   \n",
       "1   jc buttler    legbyes            0           1          1             0   \n",
       "2  ybk jaiswal    noextra            1           0          1             0   \n",
       "3   jc buttler    noextra            0           0          0             0   \n",
       "4   jc buttler    noextra            0           0          0             0   \n",
       "\n",
       "   isWicketDelivery   player_out    kind   fielders_involved       BattingTeam  \n",
       "0                 0  noplayerout  nokind  nofieldersinvolved  rajasthan royals  \n",
       "1                 0  noplayerout  nokind  nofieldersinvolved  rajasthan royals  \n",
       "2                 0  noplayerout  nokind  nofieldersinvolved  rajasthan royals  \n",
       "3                 0  noplayerout  nokind  nofieldersinvolved  rajasthan royals  \n",
       "4                 0  noplayerout  nokind  nofieldersinvolved  rajasthan royals  "
      ]
     },
     "execution_count": 71,
     "metadata": {},
     "output_type": "execute_result"
    }
   ],
   "source": [
    "ball_by_ball_df.head()"
   ]
  },
  {
   "cell_type": "code",
   "execution_count": 72,
   "id": "f9e58a1a-1b49-4935-b178-0dd5d2e03049",
   "metadata": {},
   "outputs": [
    {
     "name": "stdout",
     "output_type": "stream",
     "text": [
      "<class 'pandas.core.frame.DataFrame'>\n",
      "RangeIndex: 225954 entries, 0 to 225953\n",
      "Data columns (total 17 columns):\n",
      " #   Column             Non-Null Count   Dtype \n",
      "---  ------             --------------   ----- \n",
      " 0   ID                 225954 non-null  int64 \n",
      " 1   innings            225954 non-null  int64 \n",
      " 2   overs              225954 non-null  int64 \n",
      " 3   ballnumber         225954 non-null  int64 \n",
      " 4   batter             225954 non-null  object\n",
      " 5   bowler             225954 non-null  object\n",
      " 6   non_striker        225954 non-null  object\n",
      " 7   extra_type         225954 non-null  object\n",
      " 8   batsman_run        225954 non-null  int64 \n",
      " 9   extras_run         225954 non-null  int64 \n",
      " 10  total_run          225954 non-null  int64 \n",
      " 11  non_boundary       225954 non-null  int64 \n",
      " 12  isWicketDelivery   225954 non-null  int64 \n",
      " 13  player_out         225954 non-null  object\n",
      " 14  kind               225954 non-null  object\n",
      " 15  fielders_involved  225954 non-null  object\n",
      " 16  BattingTeam        225954 non-null  object\n",
      "dtypes: int64(9), object(8)\n",
      "memory usage: 29.3+ MB\n"
     ]
    }
   ],
   "source": [
    "ball_by_ball_df.info()"
   ]
  },
  {
   "cell_type": "code",
   "execution_count": 73,
   "id": "6e00d65d-06ca-448b-ae63-f43bdf2bb003",
   "metadata": {},
   "outputs": [
    {
     "data": {
      "text/html": [
       "<div>\n",
       "<style scoped>\n",
       "    .dataframe tbody tr th:only-of-type {\n",
       "        vertical-align: middle;\n",
       "    }\n",
       "\n",
       "    .dataframe tbody tr th {\n",
       "        vertical-align: top;\n",
       "    }\n",
       "\n",
       "    .dataframe thead th {\n",
       "        text-align: right;\n",
       "    }\n",
       "</style>\n",
       "<table border=\"1\" class=\"dataframe\">\n",
       "  <thead>\n",
       "    <tr style=\"text-align: right;\">\n",
       "      <th></th>\n",
       "      <th>ID</th>\n",
       "      <th>innings</th>\n",
       "      <th>overs</th>\n",
       "      <th>ballnumber</th>\n",
       "      <th>batsman_run</th>\n",
       "      <th>extras_run</th>\n",
       "      <th>total_run</th>\n",
       "      <th>non_boundary</th>\n",
       "      <th>isWicketDelivery</th>\n",
       "    </tr>\n",
       "  </thead>\n",
       "  <tbody>\n",
       "    <tr>\n",
       "      <th>count</th>\n",
       "      <td>2.259540e+05</td>\n",
       "      <td>225954.000000</td>\n",
       "      <td>225954.000000</td>\n",
       "      <td>225954.000000</td>\n",
       "      <td>225954.000000</td>\n",
       "      <td>225954.000000</td>\n",
       "      <td>225954.00000</td>\n",
       "      <td>225954.000000</td>\n",
       "      <td>225954.000000</td>\n",
       "    </tr>\n",
       "    <tr>\n",
       "      <th>mean</th>\n",
       "      <td>8.320470e+05</td>\n",
       "      <td>1.483868</td>\n",
       "      <td>10.185679</td>\n",
       "      <td>3.619750</td>\n",
       "      <td>1.243523</td>\n",
       "      <td>0.066907</td>\n",
       "      <td>1.31043</td>\n",
       "      <td>0.000093</td>\n",
       "      <td>0.049351</td>\n",
       "    </tr>\n",
       "    <tr>\n",
       "      <th>std</th>\n",
       "      <td>3.379542e+05</td>\n",
       "      <td>0.503104</td>\n",
       "      <td>5.681797</td>\n",
       "      <td>1.810633</td>\n",
       "      <td>1.618166</td>\n",
       "      <td>0.341470</td>\n",
       "      <td>1.60605</td>\n",
       "      <td>0.009640</td>\n",
       "      <td>0.216600</td>\n",
       "    </tr>\n",
       "    <tr>\n",
       "      <th>min</th>\n",
       "      <td>3.359820e+05</td>\n",
       "      <td>1.000000</td>\n",
       "      <td>1.000000</td>\n",
       "      <td>1.000000</td>\n",
       "      <td>0.000000</td>\n",
       "      <td>0.000000</td>\n",
       "      <td>0.00000</td>\n",
       "      <td>0.000000</td>\n",
       "      <td>0.000000</td>\n",
       "    </tr>\n",
       "    <tr>\n",
       "      <th>25%</th>\n",
       "      <td>5.012620e+05</td>\n",
       "      <td>1.000000</td>\n",
       "      <td>5.000000</td>\n",
       "      <td>2.000000</td>\n",
       "      <td>0.000000</td>\n",
       "      <td>0.000000</td>\n",
       "      <td>0.00000</td>\n",
       "      <td>0.000000</td>\n",
       "      <td>0.000000</td>\n",
       "    </tr>\n",
       "    <tr>\n",
       "      <th>50%</th>\n",
       "      <td>8.297370e+05</td>\n",
       "      <td>1.000000</td>\n",
       "      <td>10.000000</td>\n",
       "      <td>4.000000</td>\n",
       "      <td>1.000000</td>\n",
       "      <td>0.000000</td>\n",
       "      <td>1.00000</td>\n",
       "      <td>0.000000</td>\n",
       "      <td>0.000000</td>\n",
       "    </tr>\n",
       "    <tr>\n",
       "      <th>75%</th>\n",
       "      <td>1.178395e+06</td>\n",
       "      <td>2.000000</td>\n",
       "      <td>15.000000</td>\n",
       "      <td>5.000000</td>\n",
       "      <td>1.000000</td>\n",
       "      <td>0.000000</td>\n",
       "      <td>1.00000</td>\n",
       "      <td>0.000000</td>\n",
       "      <td>0.000000</td>\n",
       "    </tr>\n",
       "    <tr>\n",
       "      <th>max</th>\n",
       "      <td>1.312200e+06</td>\n",
       "      <td>6.000000</td>\n",
       "      <td>20.000000</td>\n",
       "      <td>10.000000</td>\n",
       "      <td>6.000000</td>\n",
       "      <td>7.000000</td>\n",
       "      <td>7.00000</td>\n",
       "      <td>1.000000</td>\n",
       "      <td>1.000000</td>\n",
       "    </tr>\n",
       "  </tbody>\n",
       "</table>\n",
       "</div>"
      ],
      "text/plain": [
       "                 ID        innings          overs     ballnumber  \\\n",
       "count  2.259540e+05  225954.000000  225954.000000  225954.000000   \n",
       "mean   8.320470e+05       1.483868      10.185679       3.619750   \n",
       "std    3.379542e+05       0.503104       5.681797       1.810633   \n",
       "min    3.359820e+05       1.000000       1.000000       1.000000   \n",
       "25%    5.012620e+05       1.000000       5.000000       2.000000   \n",
       "50%    8.297370e+05       1.000000      10.000000       4.000000   \n",
       "75%    1.178395e+06       2.000000      15.000000       5.000000   \n",
       "max    1.312200e+06       6.000000      20.000000      10.000000   \n",
       "\n",
       "         batsman_run     extras_run     total_run   non_boundary  \\\n",
       "count  225954.000000  225954.000000  225954.00000  225954.000000   \n",
       "mean        1.243523       0.066907       1.31043       0.000093   \n",
       "std         1.618166       0.341470       1.60605       0.009640   \n",
       "min         0.000000       0.000000       0.00000       0.000000   \n",
       "25%         0.000000       0.000000       0.00000       0.000000   \n",
       "50%         1.000000       0.000000       1.00000       0.000000   \n",
       "75%         1.000000       0.000000       1.00000       0.000000   \n",
       "max         6.000000       7.000000       7.00000       1.000000   \n",
       "\n",
       "       isWicketDelivery  \n",
       "count     225954.000000  \n",
       "mean           0.049351  \n",
       "std            0.216600  \n",
       "min            0.000000  \n",
       "25%            0.000000  \n",
       "50%            0.000000  \n",
       "75%            0.000000  \n",
       "max            1.000000  "
      ]
     },
     "execution_count": 73,
     "metadata": {},
     "output_type": "execute_result"
    }
   ],
   "source": [
    "ball_by_ball_df.describe()"
   ]
  },
  {
   "cell_type": "code",
   "execution_count": 74,
   "id": "8fab808b",
   "metadata": {},
   "outputs": [],
   "source": [
    "ball_by_ball_df.to_csv('../raw_data/ball_by_ball_cleaned.csv')"
   ]
  },
  {
   "cell_type": "code",
   "execution_count": null,
   "id": "b2008ec1",
   "metadata": {},
   "outputs": [],
   "source": []
  }
 ],
 "metadata": {
  "kernelspec": {
   "display_name": "Python 3 (ipykernel)",
   "language": "python",
   "name": "python3"
  },
  "language_info": {
   "codemirror_mode": {
    "name": "ipython",
    "version": 3
   },
   "file_extension": ".py",
   "mimetype": "text/x-python",
   "name": "python",
   "nbconvert_exporter": "python",
   "pygments_lexer": "ipython3",
   "version": "3.10.6"
  },
  "toc": {
   "base_numbering": 1,
   "nav_menu": {},
   "number_sections": true,
   "sideBar": true,
   "skip_h1_title": false,
   "title_cell": "Table of Contents",
   "title_sidebar": "Contents",
   "toc_cell": false,
   "toc_position": {},
   "toc_section_display": true,
   "toc_window_display": false
  }
 },
 "nbformat": 4,
 "nbformat_minor": 5
}
