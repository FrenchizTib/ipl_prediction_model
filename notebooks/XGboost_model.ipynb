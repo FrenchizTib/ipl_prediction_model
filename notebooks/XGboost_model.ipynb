{
 "cells": [
  {
   "cell_type": "code",
   "execution_count": 1,
   "id": "96f0f5a5-5110-4f32-85cb-260dc19a8f3c",
   "metadata": {},
   "outputs": [],
   "source": [
    "%load_ext autoreload\n",
    "%autoreload 2"
   ]
  },
  {
   "cell_type": "code",
   "execution_count": 2,
   "id": "cb8d1621-d275-4d15-9bcc-b387a9ed6107",
   "metadata": {},
   "outputs": [],
   "source": [
    "import numpy as np\n",
    "import pandas as pd\n",
    "from sklearn.preprocessing import OneHotEncoder, RobustScaler\n",
    "from sklearn.compose import ColumnTransformer\n",
    "from sklearn.pipeline import Pipeline\n",
    "from sklearn.preprocessing import LabelEncoder\n",
    "from xgboost import XGBClassifier\n",
    "from sklearn.model_selection import train_test_split\n",
    "from sklearn.metrics import accuracy_score"
   ]
  },
  {
   "cell_type": "markdown",
   "id": "c1540607-7e33-48bb-9b0a-0d641150d562",
   "metadata": {},
   "source": [
    "# Loading data\n"
   ]
  },
  {
   "cell_type": "code",
   "execution_count": 3,
   "id": "731008f4-a65c-4854-8015-870d1a32a86c",
   "metadata": {},
   "outputs": [],
   "source": [
    "df = pd.read_csv(\"/home/thibault/code/patrickevans29/ipl_prediction_model/raw_data/final_to_model_df.csv\")"
   ]
  },
  {
   "cell_type": "markdown",
   "id": "a0741653-0dac-4f0c-8068-598c72048bd9",
   "metadata": {},
   "source": [
    "df = df.copy()"
   ]
  },
  {
   "cell_type": "code",
   "execution_count": 4,
   "id": "37f76ada-601f-4500-a0fe-b812fd25e555",
   "metadata": {},
   "outputs": [
    {
     "data": {
      "text/html": [
       "<div>\n",
       "<style scoped>\n",
       "    .dataframe tbody tr th:only-of-type {\n",
       "        vertical-align: middle;\n",
       "    }\n",
       "\n",
       "    .dataframe tbody tr th {\n",
       "        vertical-align: top;\n",
       "    }\n",
       "\n",
       "    .dataframe thead th {\n",
       "        text-align: right;\n",
       "    }\n",
       "</style>\n",
       "<table border=\"1\" class=\"dataframe\">\n",
       "  <thead>\n",
       "    <tr style=\"text-align: right;\">\n",
       "      <th></th>\n",
       "      <th>ID</th>\n",
       "      <th>City</th>\n",
       "      <th>Date</th>\n",
       "      <th>Season</th>\n",
       "      <th>MatchNumber</th>\n",
       "      <th>Team1</th>\n",
       "      <th>Team2</th>\n",
       "      <th>Venue</th>\n",
       "      <th>TossWinner</th>\n",
       "      <th>TossDecision</th>\n",
       "      <th>WinningTeam</th>\n",
       "      <th>innings_total</th>\n",
       "      <th>TeamA_batting_average</th>\n",
       "      <th>TeamB_batting_average</th>\n",
       "      <th>TeamA_innings_total</th>\n",
       "      <th>TeamB_innings_total</th>\n",
       "    </tr>\n",
       "  </thead>\n",
       "  <tbody>\n",
       "    <tr>\n",
       "      <th>0</th>\n",
       "      <td>1312200</td>\n",
       "      <td>ahmedabad</td>\n",
       "      <td>2022-05-29</td>\n",
       "      <td>2022</td>\n",
       "      <td>final</td>\n",
       "      <td>rajasthan royals</td>\n",
       "      <td>gujarat titans</td>\n",
       "      <td>narendra modi stadium, ahmedabad</td>\n",
       "      <td>rajasthan royals</td>\n",
       "      <td>bat</td>\n",
       "      <td>gujarat titans</td>\n",
       "      <td>130</td>\n",
       "      <td>155.397906</td>\n",
       "      <td>166.437500</td>\n",
       "      <td>130.0</td>\n",
       "      <td>133.0</td>\n",
       "    </tr>\n",
       "    <tr>\n",
       "      <th>1</th>\n",
       "      <td>1312199</td>\n",
       "      <td>ahmedabad</td>\n",
       "      <td>2022-05-27</td>\n",
       "      <td>2022</td>\n",
       "      <td>qualifier 2</td>\n",
       "      <td>royal challengers bangalore</td>\n",
       "      <td>rajasthan royals</td>\n",
       "      <td>narendra modi stadium, ahmedabad</td>\n",
       "      <td>rajasthan royals</td>\n",
       "      <td>field</td>\n",
       "      <td>rajasthan royals</td>\n",
       "      <td>157</td>\n",
       "      <td>155.707965</td>\n",
       "      <td>155.397906</td>\n",
       "      <td>157.0</td>\n",
       "      <td>161.0</td>\n",
       "    </tr>\n",
       "    <tr>\n",
       "      <th>2</th>\n",
       "      <td>1312198</td>\n",
       "      <td>kolkata</td>\n",
       "      <td>2022-05-25</td>\n",
       "      <td>2022</td>\n",
       "      <td>eliminator</td>\n",
       "      <td>royal challengers bangalore</td>\n",
       "      <td>lucknow super giants</td>\n",
       "      <td>eden gardens</td>\n",
       "      <td>lucknow super giants</td>\n",
       "      <td>field</td>\n",
       "      <td>royal challengers bangalore</td>\n",
       "      <td>207</td>\n",
       "      <td>155.707965</td>\n",
       "      <td>169.866667</td>\n",
       "      <td>207.0</td>\n",
       "      <td>193.0</td>\n",
       "    </tr>\n",
       "    <tr>\n",
       "      <th>3</th>\n",
       "      <td>1312197</td>\n",
       "      <td>kolkata</td>\n",
       "      <td>2022-05-24</td>\n",
       "      <td>2022</td>\n",
       "      <td>qualifier 1</td>\n",
       "      <td>rajasthan royals</td>\n",
       "      <td>gujarat titans</td>\n",
       "      <td>eden gardens</td>\n",
       "      <td>gujarat titans</td>\n",
       "      <td>field</td>\n",
       "      <td>gujarat titans</td>\n",
       "      <td>188</td>\n",
       "      <td>155.397906</td>\n",
       "      <td>166.437500</td>\n",
       "      <td>188.0</td>\n",
       "      <td>191.0</td>\n",
       "    </tr>\n",
       "    <tr>\n",
       "      <th>4</th>\n",
       "      <td>1304116</td>\n",
       "      <td>mumbai</td>\n",
       "      <td>2022-05-22</td>\n",
       "      <td>2022</td>\n",
       "      <td>70</td>\n",
       "      <td>sunrisers hyderabad</td>\n",
       "      <td>punjab kings</td>\n",
       "      <td>wankhede stadium</td>\n",
       "      <td>sunrisers hyderabad</td>\n",
       "      <td>bat</td>\n",
       "      <td>punjab kings</td>\n",
       "      <td>157</td>\n",
       "      <td>155.546053</td>\n",
       "      <td>158.518349</td>\n",
       "      <td>157.0</td>\n",
       "      <td>160.0</td>\n",
       "    </tr>\n",
       "  </tbody>\n",
       "</table>\n",
       "</div>"
      ],
      "text/plain": [
       "        ID       City        Date  Season  MatchNumber  \\\n",
       "0  1312200  ahmedabad  2022-05-29    2022        final   \n",
       "1  1312199  ahmedabad  2022-05-27    2022  qualifier 2   \n",
       "2  1312198    kolkata  2022-05-25    2022   eliminator   \n",
       "3  1312197    kolkata  2022-05-24    2022  qualifier 1   \n",
       "4  1304116     mumbai  2022-05-22    2022           70   \n",
       "\n",
       "                         Team1                 Team2  \\\n",
       "0             rajasthan royals        gujarat titans   \n",
       "1  royal challengers bangalore      rajasthan royals   \n",
       "2  royal challengers bangalore  lucknow super giants   \n",
       "3             rajasthan royals        gujarat titans   \n",
       "4          sunrisers hyderabad          punjab kings   \n",
       "\n",
       "                              Venue            TossWinner TossDecision  \\\n",
       "0  narendra modi stadium, ahmedabad      rajasthan royals          bat   \n",
       "1  narendra modi stadium, ahmedabad      rajasthan royals        field   \n",
       "2                      eden gardens  lucknow super giants        field   \n",
       "3                      eden gardens        gujarat titans        field   \n",
       "4                  wankhede stadium   sunrisers hyderabad          bat   \n",
       "\n",
       "                   WinningTeam  innings_total  TeamA_batting_average  \\\n",
       "0               gujarat titans            130             155.397906   \n",
       "1             rajasthan royals            157             155.707965   \n",
       "2  royal challengers bangalore            207             155.707965   \n",
       "3               gujarat titans            188             155.397906   \n",
       "4                 punjab kings            157             155.546053   \n",
       "\n",
       "   TeamB_batting_average  TeamA_innings_total  TeamB_innings_total  \n",
       "0             166.437500                130.0                133.0  \n",
       "1             155.397906                157.0                161.0  \n",
       "2             169.866667                207.0                193.0  \n",
       "3             166.437500                188.0                191.0  \n",
       "4             158.518349                157.0                160.0  "
      ]
     },
     "execution_count": 4,
     "metadata": {},
     "output_type": "execute_result"
    }
   ],
   "source": [
    "df.head()\n"
   ]
  },
  {
   "cell_type": "markdown",
   "id": "782c1d86-86d6-40d9-b2ae-017b0f8b264d",
   "metadata": {},
   "source": [
    "# removing useless columns"
   ]
  },
  {
   "cell_type": "code",
   "execution_count": 5,
   "id": "cc311930-c124-4ff4-b87f-c22701877bff",
   "metadata": {},
   "outputs": [],
   "source": [
    "df = df.drop(columns=[\"Date\", \"innings_total\", \"TeamA_innings_total\", \"TeamB_innings_total\"])"
   ]
  },
  {
   "cell_type": "code",
   "execution_count": 6,
   "id": "1e72a969-593b-4b1e-8508-ff8ae70ee0a5",
   "metadata": {},
   "outputs": [
    {
     "data": {
      "text/html": [
       "<div>\n",
       "<style scoped>\n",
       "    .dataframe tbody tr th:only-of-type {\n",
       "        vertical-align: middle;\n",
       "    }\n",
       "\n",
       "    .dataframe tbody tr th {\n",
       "        vertical-align: top;\n",
       "    }\n",
       "\n",
       "    .dataframe thead th {\n",
       "        text-align: right;\n",
       "    }\n",
       "</style>\n",
       "<table border=\"1\" class=\"dataframe\">\n",
       "  <thead>\n",
       "    <tr style=\"text-align: right;\">\n",
       "      <th></th>\n",
       "      <th>ID</th>\n",
       "      <th>City</th>\n",
       "      <th>Season</th>\n",
       "      <th>MatchNumber</th>\n",
       "      <th>Team1</th>\n",
       "      <th>Team2</th>\n",
       "      <th>Venue</th>\n",
       "      <th>TossWinner</th>\n",
       "      <th>TossDecision</th>\n",
       "      <th>WinningTeam</th>\n",
       "      <th>TeamA_batting_average</th>\n",
       "      <th>TeamB_batting_average</th>\n",
       "    </tr>\n",
       "  </thead>\n",
       "  <tbody>\n",
       "    <tr>\n",
       "      <th>0</th>\n",
       "      <td>1312200</td>\n",
       "      <td>ahmedabad</td>\n",
       "      <td>2022</td>\n",
       "      <td>final</td>\n",
       "      <td>rajasthan royals</td>\n",
       "      <td>gujarat titans</td>\n",
       "      <td>narendra modi stadium, ahmedabad</td>\n",
       "      <td>rajasthan royals</td>\n",
       "      <td>bat</td>\n",
       "      <td>gujarat titans</td>\n",
       "      <td>155.397906</td>\n",
       "      <td>166.437500</td>\n",
       "    </tr>\n",
       "    <tr>\n",
       "      <th>1</th>\n",
       "      <td>1312199</td>\n",
       "      <td>ahmedabad</td>\n",
       "      <td>2022</td>\n",
       "      <td>qualifier 2</td>\n",
       "      <td>royal challengers bangalore</td>\n",
       "      <td>rajasthan royals</td>\n",
       "      <td>narendra modi stadium, ahmedabad</td>\n",
       "      <td>rajasthan royals</td>\n",
       "      <td>field</td>\n",
       "      <td>rajasthan royals</td>\n",
       "      <td>155.707965</td>\n",
       "      <td>155.397906</td>\n",
       "    </tr>\n",
       "    <tr>\n",
       "      <th>2</th>\n",
       "      <td>1312198</td>\n",
       "      <td>kolkata</td>\n",
       "      <td>2022</td>\n",
       "      <td>eliminator</td>\n",
       "      <td>royal challengers bangalore</td>\n",
       "      <td>lucknow super giants</td>\n",
       "      <td>eden gardens</td>\n",
       "      <td>lucknow super giants</td>\n",
       "      <td>field</td>\n",
       "      <td>royal challengers bangalore</td>\n",
       "      <td>155.707965</td>\n",
       "      <td>169.866667</td>\n",
       "    </tr>\n",
       "    <tr>\n",
       "      <th>3</th>\n",
       "      <td>1312197</td>\n",
       "      <td>kolkata</td>\n",
       "      <td>2022</td>\n",
       "      <td>qualifier 1</td>\n",
       "      <td>rajasthan royals</td>\n",
       "      <td>gujarat titans</td>\n",
       "      <td>eden gardens</td>\n",
       "      <td>gujarat titans</td>\n",
       "      <td>field</td>\n",
       "      <td>gujarat titans</td>\n",
       "      <td>155.397906</td>\n",
       "      <td>166.437500</td>\n",
       "    </tr>\n",
       "    <tr>\n",
       "      <th>4</th>\n",
       "      <td>1304116</td>\n",
       "      <td>mumbai</td>\n",
       "      <td>2022</td>\n",
       "      <td>70</td>\n",
       "      <td>sunrisers hyderabad</td>\n",
       "      <td>punjab kings</td>\n",
       "      <td>wankhede stadium</td>\n",
       "      <td>sunrisers hyderabad</td>\n",
       "      <td>bat</td>\n",
       "      <td>punjab kings</td>\n",
       "      <td>155.546053</td>\n",
       "      <td>158.518349</td>\n",
       "    </tr>\n",
       "  </tbody>\n",
       "</table>\n",
       "</div>"
      ],
      "text/plain": [
       "        ID       City  Season  MatchNumber                        Team1  \\\n",
       "0  1312200  ahmedabad    2022        final             rajasthan royals   \n",
       "1  1312199  ahmedabad    2022  qualifier 2  royal challengers bangalore   \n",
       "2  1312198    kolkata    2022   eliminator  royal challengers bangalore   \n",
       "3  1312197    kolkata    2022  qualifier 1             rajasthan royals   \n",
       "4  1304116     mumbai    2022           70          sunrisers hyderabad   \n",
       "\n",
       "                  Team2                             Venue  \\\n",
       "0        gujarat titans  narendra modi stadium, ahmedabad   \n",
       "1      rajasthan royals  narendra modi stadium, ahmedabad   \n",
       "2  lucknow super giants                      eden gardens   \n",
       "3        gujarat titans                      eden gardens   \n",
       "4          punjab kings                  wankhede stadium   \n",
       "\n",
       "             TossWinner TossDecision                  WinningTeam  \\\n",
       "0      rajasthan royals          bat               gujarat titans   \n",
       "1      rajasthan royals        field             rajasthan royals   \n",
       "2  lucknow super giants        field  royal challengers bangalore   \n",
       "3        gujarat titans        field               gujarat titans   \n",
       "4   sunrisers hyderabad          bat                 punjab kings   \n",
       "\n",
       "   TeamA_batting_average  TeamB_batting_average  \n",
       "0             155.397906             166.437500  \n",
       "1             155.707965             155.397906  \n",
       "2             155.707965             169.866667  \n",
       "3             155.397906             166.437500  \n",
       "4             155.546053             158.518349  "
      ]
     },
     "execution_count": 6,
     "metadata": {},
     "output_type": "execute_result"
    }
   ],
   "source": [
    "df.head()"
   ]
  },
  {
   "cell_type": "code",
   "execution_count": 7,
   "id": "ff771fce-fdc7-49be-8898-098c9a252b07",
   "metadata": {},
   "outputs": [
    {
     "name": "stdout",
     "output_type": "stream",
     "text": [
      "<class 'pandas.core.frame.DataFrame'>\n",
      "RangeIndex: 950 entries, 0 to 949\n",
      "Data columns (total 12 columns):\n",
      " #   Column                 Non-Null Count  Dtype  \n",
      "---  ------                 --------------  -----  \n",
      " 0   ID                     950 non-null    int64  \n",
      " 1   City                   950 non-null    object \n",
      " 2   Season                 950 non-null    int64  \n",
      " 3   MatchNumber            950 non-null    object \n",
      " 4   Team1                  950 non-null    object \n",
      " 5   Team2                  950 non-null    object \n",
      " 6   Venue                  950 non-null    object \n",
      " 7   TossWinner             950 non-null    object \n",
      " 8   TossDecision           950 non-null    object \n",
      " 9   WinningTeam            950 non-null    object \n",
      " 10  TeamA_batting_average  950 non-null    float64\n",
      " 11  TeamB_batting_average  948 non-null    float64\n",
      "dtypes: float64(2), int64(2), object(8)\n",
      "memory usage: 89.2+ KB\n"
     ]
    }
   ],
   "source": [
    "df.info()"
   ]
  },
  {
   "cell_type": "markdown",
   "id": "31e877c6-6b2a-4536-95a1-ade63684ae2a",
   "metadata": {},
   "source": [
    "# create the model"
   ]
  },
  {
   "cell_type": "markdown",
   "id": "58a3924d-7c7c-4859-ae11-aea23720eded",
   "metadata": {},
   "source": [
    "### define the features and the output"
   ]
  },
  {
   "cell_type": "code",
   "execution_count": 8,
   "id": "6d8f8d1a-091f-4a06-a161-ff3fb2f4d7a1",
   "metadata": {},
   "outputs": [],
   "source": [
    "X = df.drop(columns=['WinningTeam'])\n",
    "y = df['WinningTeam']"
   ]
  },
  {
   "cell_type": "markdown",
   "id": "8acf7306-fbb9-47d4-b296-e3b31725c561",
   "metadata": {},
   "source": [
    "### encoding"
   ]
  },
  {
   "cell_type": "code",
   "execution_count": 9,
   "id": "c079f28b-106f-4c14-8602-f0df48692fae",
   "metadata": {},
   "outputs": [],
   "source": [
    "## defining the list of categorical and numerical features \n",
    "categorical_columns = ['City', 'MatchNumber', 'Season', 'Team1', 'Team2', 'Venue', 'TossWinner', 'TossDecision']\n",
    "numerical_columns = ['TeamA_batting_average','TeamB_batting_average']\n",
    "## apply the encoder, OneHotEncoder for categorical and the RobustScaler for numerical features\n",
    "categorical_transformer = Pipeline([\n",
    "    ('onehot', OneHotEncoder(sparse=False, handle_unknown='ignore'))\n",
    "])\n",
    "\n",
    "numerical_transformer = Pipeline([\n",
    "    ('scaler', RobustScaler())\n",
    "])\n",
    "\n",
    "preprocessor = ColumnTransformer(\n",
    "    transformers=[\n",
    "        ('cat', categorical_transformer, categorical_columns),\n",
    "        ('num', numerical_transformer, numerical_columns)\n",
    "    ])\n",
    "## create the pipeline \n",
    "pipeline = Pipeline([\n",
    "    ('preprocessor', preprocessor)\n",
    "])"
   ]
  },
  {
   "cell_type": "code",
   "execution_count": 10,
   "id": "70a38cf7-dd0d-41b0-800f-d4a543b88403",
   "metadata": {},
   "outputs": [
    {
     "name": "stderr",
     "output_type": "stream",
     "text": [
      "/home/thibault/.pyenv/versions/3.10.6/envs/ipl_prediction_model/lib/python3.10/site-packages/sklearn/preprocessing/_encoders.py:972: FutureWarning: `sparse` was renamed to `sparse_output` in version 1.2 and will be removed in 1.4. `sparse_output` is ignored unless you leave `sparse` to its default value.\n",
      "  warnings.warn(\n"
     ]
    }
   ],
   "source": [
    "## creation of X_encoded with the pipeline\n",
    "X_encoded = pipeline.fit_transform(X)"
   ]
  },
  {
   "cell_type": "code",
   "execution_count": 11,
   "id": "0ff316d8-5106-44ae-be80-a273feb2bd1c",
   "metadata": {},
   "outputs": [],
   "source": [
    "## encoding the y for the Classifier\n",
    "label_encoder = LabelEncoder()\n",
    "y_encoded = label_encoder.fit_transform(y)"
   ]
  },
  {
   "cell_type": "markdown",
   "id": "efef31e9-f884-4cda-b661-66171052ccdc",
   "metadata": {},
   "source": [
    "### dividing the dataset train/test"
   ]
  },
  {
   "cell_type": "code",
   "execution_count": 12,
   "id": "364e57ab-1135-49fe-bc47-14f6b6a5d62d",
   "metadata": {},
   "outputs": [],
   "source": [
    "X_train, X_test, y_train, y_test = train_test_split(X_encoded, y_encoded, test_size=0.2)"
   ]
  },
  {
   "cell_type": "markdown",
   "id": "2c0e1b07-44f4-4894-8086-98cce5479fb0",
   "metadata": {},
   "source": [
    "### Creating the model with a XGBClassifier"
   ]
  },
  {
   "cell_type": "code",
   "execution_count": 13,
   "id": "cbc6d843-437e-4a4c-8052-905b54dab753",
   "metadata": {},
   "outputs": [
    {
     "data": {
      "text/html": [
       "<style>#sk-container-id-1 {color: black;}#sk-container-id-1 pre{padding: 0;}#sk-container-id-1 div.sk-toggleable {background-color: white;}#sk-container-id-1 label.sk-toggleable__label {cursor: pointer;display: block;width: 100%;margin-bottom: 0;padding: 0.3em;box-sizing: border-box;text-align: center;}#sk-container-id-1 label.sk-toggleable__label-arrow:before {content: \"▸\";float: left;margin-right: 0.25em;color: #696969;}#sk-container-id-1 label.sk-toggleable__label-arrow:hover:before {color: black;}#sk-container-id-1 div.sk-estimator:hover label.sk-toggleable__label-arrow:before {color: black;}#sk-container-id-1 div.sk-toggleable__content {max-height: 0;max-width: 0;overflow: hidden;text-align: left;background-color: #f0f8ff;}#sk-container-id-1 div.sk-toggleable__content pre {margin: 0.2em;color: black;border-radius: 0.25em;background-color: #f0f8ff;}#sk-container-id-1 input.sk-toggleable__control:checked~div.sk-toggleable__content {max-height: 200px;max-width: 100%;overflow: auto;}#sk-container-id-1 input.sk-toggleable__control:checked~label.sk-toggleable__label-arrow:before {content: \"▾\";}#sk-container-id-1 div.sk-estimator input.sk-toggleable__control:checked~label.sk-toggleable__label {background-color: #d4ebff;}#sk-container-id-1 div.sk-label input.sk-toggleable__control:checked~label.sk-toggleable__label {background-color: #d4ebff;}#sk-container-id-1 input.sk-hidden--visually {border: 0;clip: rect(1px 1px 1px 1px);clip: rect(1px, 1px, 1px, 1px);height: 1px;margin: -1px;overflow: hidden;padding: 0;position: absolute;width: 1px;}#sk-container-id-1 div.sk-estimator {font-family: monospace;background-color: #f0f8ff;border: 1px dotted black;border-radius: 0.25em;box-sizing: border-box;margin-bottom: 0.5em;}#sk-container-id-1 div.sk-estimator:hover {background-color: #d4ebff;}#sk-container-id-1 div.sk-parallel-item::after {content: \"\";width: 100%;border-bottom: 1px solid gray;flex-grow: 1;}#sk-container-id-1 div.sk-label:hover label.sk-toggleable__label {background-color: #d4ebff;}#sk-container-id-1 div.sk-serial::before {content: \"\";position: absolute;border-left: 1px solid gray;box-sizing: border-box;top: 0;bottom: 0;left: 50%;z-index: 0;}#sk-container-id-1 div.sk-serial {display: flex;flex-direction: column;align-items: center;background-color: white;padding-right: 0.2em;padding-left: 0.2em;position: relative;}#sk-container-id-1 div.sk-item {position: relative;z-index: 1;}#sk-container-id-1 div.sk-parallel {display: flex;align-items: stretch;justify-content: center;background-color: white;position: relative;}#sk-container-id-1 div.sk-item::before, #sk-container-id-1 div.sk-parallel-item::before {content: \"\";position: absolute;border-left: 1px solid gray;box-sizing: border-box;top: 0;bottom: 0;left: 50%;z-index: -1;}#sk-container-id-1 div.sk-parallel-item {display: flex;flex-direction: column;z-index: 1;position: relative;background-color: white;}#sk-container-id-1 div.sk-parallel-item:first-child::after {align-self: flex-end;width: 50%;}#sk-container-id-1 div.sk-parallel-item:last-child::after {align-self: flex-start;width: 50%;}#sk-container-id-1 div.sk-parallel-item:only-child::after {width: 0;}#sk-container-id-1 div.sk-dashed-wrapped {border: 1px dashed gray;margin: 0 0.4em 0.5em 0.4em;box-sizing: border-box;padding-bottom: 0.4em;background-color: white;}#sk-container-id-1 div.sk-label label {font-family: monospace;font-weight: bold;display: inline-block;line-height: 1.2em;}#sk-container-id-1 div.sk-label-container {text-align: center;}#sk-container-id-1 div.sk-container {/* jupyter's `normalize.less` sets `[hidden] { display: none; }` but bootstrap.min.css set `[hidden] { display: none !important; }` so we also need the `!important` here to be able to override the default hidden behavior on the sphinx rendered scikit-learn.org. See: https://github.com/scikit-learn/scikit-learn/issues/21755 */display: inline-block !important;position: relative;}#sk-container-id-1 div.sk-text-repr-fallback {display: none;}</style><div id=\"sk-container-id-1\" class=\"sk-top-container\"><div class=\"sk-text-repr-fallback\"><pre>XGBClassifier(base_score=None, booster=None, callbacks=None,\n",
       "              colsample_bylevel=None, colsample_bynode=None,\n",
       "              colsample_bytree=None, early_stopping_rounds=None,\n",
       "              enable_categorical=False, eval_metric=None, feature_types=None,\n",
       "              gamma=None, gpu_id=None, grow_policy=None, importance_type=None,\n",
       "              interaction_constraints=None, learning_rate=None, max_bin=None,\n",
       "              max_cat_threshold=None, max_cat_to_onehot=None,\n",
       "              max_delta_step=None, max_depth=None, max_leaves=None,\n",
       "              min_child_weight=None, missing=nan, monotone_constraints=None,\n",
       "              n_estimators=100, n_jobs=None, num_parallel_tree=None,\n",
       "              objective=&#x27;multi:softprob&#x27;, predictor=None, ...)</pre><b>In a Jupyter environment, please rerun this cell to show the HTML representation or trust the notebook. <br />On GitHub, the HTML representation is unable to render, please try loading this page with nbviewer.org.</b></div><div class=\"sk-container\" hidden><div class=\"sk-item\"><div class=\"sk-estimator sk-toggleable\"><input class=\"sk-toggleable__control sk-hidden--visually\" id=\"sk-estimator-id-1\" type=\"checkbox\" checked><label for=\"sk-estimator-id-1\" class=\"sk-toggleable__label sk-toggleable__label-arrow\">XGBClassifier</label><div class=\"sk-toggleable__content\"><pre>XGBClassifier(base_score=None, booster=None, callbacks=None,\n",
       "              colsample_bylevel=None, colsample_bynode=None,\n",
       "              colsample_bytree=None, early_stopping_rounds=None,\n",
       "              enable_categorical=False, eval_metric=None, feature_types=None,\n",
       "              gamma=None, gpu_id=None, grow_policy=None, importance_type=None,\n",
       "              interaction_constraints=None, learning_rate=None, max_bin=None,\n",
       "              max_cat_threshold=None, max_cat_to_onehot=None,\n",
       "              max_delta_step=None, max_depth=None, max_leaves=None,\n",
       "              min_child_weight=None, missing=nan, monotone_constraints=None,\n",
       "              n_estimators=100, n_jobs=None, num_parallel_tree=None,\n",
       "              objective=&#x27;multi:softprob&#x27;, predictor=None, ...)</pre></div></div></div></div></div>"
      ],
      "text/plain": [
       "XGBClassifier(base_score=None, booster=None, callbacks=None,\n",
       "              colsample_bylevel=None, colsample_bynode=None,\n",
       "              colsample_bytree=None, early_stopping_rounds=None,\n",
       "              enable_categorical=False, eval_metric=None, feature_types=None,\n",
       "              gamma=None, gpu_id=None, grow_policy=None, importance_type=None,\n",
       "              interaction_constraints=None, learning_rate=None, max_bin=None,\n",
       "              max_cat_threshold=None, max_cat_to_onehot=None,\n",
       "              max_delta_step=None, max_depth=None, max_leaves=None,\n",
       "              min_child_weight=None, missing=nan, monotone_constraints=None,\n",
       "              n_estimators=100, n_jobs=None, num_parallel_tree=None,\n",
       "              objective='multi:softprob', predictor=None, ...)"
      ]
     },
     "execution_count": 13,
     "metadata": {},
     "output_type": "execute_result"
    }
   ],
   "source": [
    "model = XGBClassifier()\n",
    "model.fit(X_train, y_train)"
   ]
  },
  {
   "cell_type": "markdown",
   "id": "13e8b242-320a-4579-b4c0-c22a34c75481",
   "metadata": {},
   "source": [
    "### predicting y with the test set "
   ]
  },
  {
   "cell_type": "code",
   "execution_count": 14,
   "id": "b08c8016-2a33-41da-ab2e-a71906a8de59",
   "metadata": {},
   "outputs": [],
   "source": [
    "y_pred = model.predict(X_test)"
   ]
  },
  {
   "cell_type": "code",
   "execution_count": 15,
   "id": "9c7c625e-5a00-4d02-8f34-721a8b86bd1a",
   "metadata": {},
   "outputs": [
    {
     "data": {
      "text/plain": [
       "array([ 6, 12, 10,  1, 11,  4, 11, 14, 11,  2,  8,  2, 14,  6, 14,  3, 11,\n",
       "       13, 11,  2, 12,  8, 12, 15,  2, 15,  6,  6,  6,  8,  0, 11, 12, 11,\n",
       "       12,  0, 12,  3,  2,  0,  2, 15, 14, 14, 12,  0, 14, 15, 12, 14,  1,\n",
       "        8, 11,  8,  2,  8, 11, 11,  2, 12,  8, 12,  6, 14, 13, 14,  6,  8,\n",
       "        2,  8,  2,  2,  8, 11, 14, 11, 12, 11,  0, 12, 15,  8, 15,  6, 15,\n",
       "       11,  2, 12,  2,  0, 12, 11,  0,  6,  0,  0,  0,  2,  8, 15,  2, 14,\n",
       "        6,  6, 14, 14,  8,  1,  8, 12, 12, 15, 11,  2, 15, 14,  2, 15, 12,\n",
       "       10,  0,  2, 14,  2,  2,  1,  6,  4, 12,  6, 14,  0,  8,  6,  7,  2,\n",
       "        6,  8,  6, 14, 11,  2, 14, 11,  6,  8, 12, 15,  6,  8,  2, 12,  0,\n",
       "       14,  6,  0,  0,  8,  8, 12,  0,  8,  8, 14,  6,  2,  2,  0,  6,  2,\n",
       "       15, 11, 14, 11,  2, 12, 12,  2, 11, 14,  2, 14, 15, 14,  2,  0, 14,\n",
       "        2, 14, 14])"
      ]
     },
     "execution_count": 15,
     "metadata": {},
     "output_type": "execute_result"
    }
   ],
   "source": [
    "y_pred"
   ]
  },
  {
   "cell_type": "code",
   "execution_count": 16,
   "id": "ffd44fd9-30c4-4681-a5cb-210801f7e6db",
   "metadata": {},
   "outputs": [],
   "source": [
    "## inverse the encoding to have the name of the winner\n",
    "y_pred_names = label_encoder.inverse_transform(y_pred)"
   ]
  },
  {
   "cell_type": "code",
   "execution_count": 17,
   "id": "36352811-ef5a-4d19-86bb-e54c46977734",
   "metadata": {},
   "outputs": [
    {
     "name": "stdout",
     "output_type": "stream",
     "text": [
      "     True Labels  Predicted Labels  Correct Prediction\n",
      "0              5                 6               False\n",
      "1             12                12                True\n",
      "2              0                10               False\n",
      "3              1                 1                True\n",
      "4             11                11                True\n",
      "..           ...               ...                 ...\n",
      "185            0                 0                True\n",
      "186           14                14                True\n",
      "187           14                 2               False\n",
      "188           12                14               False\n",
      "189            8                14               False\n",
      "\n",
      "[190 rows x 3 columns]\n"
     ]
    }
   ],
   "source": [
    "result_df = pd.DataFrame({'True Labels': y_test, 'Predicted Labels': y_pred})\n",
    "\n",
    "# Ajoutez une colonne pour indiquer si les prédictions sont correctes\n",
    "result_df['Correct Prediction'] = result_df['True Labels'] == result_df['Predicted Labels']\n",
    "\n",
    "# Affichez la DataFrame pour vérifier les résultats\n",
    "print(result_df)"
   ]
  },
  {
   "cell_type": "code",
   "execution_count": 18,
   "id": "f3d798de-c8e0-497a-bf7c-58dbb3a99546",
   "metadata": {},
   "outputs": [
    {
     "data": {
      "text/plain": [
       "delhi capitals                 31\n",
       "royal challengers bangalore    27\n",
       "rajasthan royals               23\n",
       "mumbai indians                 22\n",
       "kolkata knight riders          21\n",
       "punjab kings                   21\n",
       "chennai super kings            18\n",
       "sunrisers hyderabad            14\n",
       "deccan chargers                 4\n",
       "pune warriors                   2\n",
       "gujarat titans                  2\n",
       "gujarat lions                   2\n",
       "rising pune supergiant          2\n",
       "lucknow super giants            1\n",
       "Name: count, dtype: int64"
      ]
     },
     "execution_count": 18,
     "metadata": {},
     "output_type": "execute_result"
    }
   ],
   "source": [
    "y_pred_series = pd.Series(y_pred_names)\n",
    "y_pred_series.value_counts()"
   ]
  },
  {
   "cell_type": "code",
   "execution_count": 23,
   "id": "589a5ab2-b7fe-4fd7-a9bd-6c4a959b93c0",
   "metadata": {},
   "outputs": [
    {
     "name": "stderr",
     "output_type": "stream",
     "text": [
      "/home/thibault/.pyenv/versions/3.10.6/envs/ipl_prediction_model/lib/python3.10/site-packages/sklearn/model_selection/_split.py:725: UserWarning: The least populated class in y has only 4 members, which is less than n_splits=5.\n",
      "  warnings.warn(\n"
     ]
    }
   ],
   "source": [
    "from sklearn.model_selection import cross_val_score\n",
    "scores = cross_val_score(model, X_encoded, y_encoded, cv=5, scoring='accuracy')\n"
   ]
  },
  {
   "cell_type": "code",
   "execution_count": 24,
   "id": "dc20ca93-98a8-4fe3-8383-c385c7cfc61d",
   "metadata": {},
   "outputs": [
    {
     "data": {
      "text/plain": [
       "0.4726315789473684"
      ]
     },
     "execution_count": 24,
     "metadata": {},
     "output_type": "execute_result"
    }
   ],
   "source": [
    "scores.mean()"
   ]
  },
  {
   "cell_type": "markdown",
   "id": "f7d7edcc-19c8-4448-a8a1-4ce6e3cfbe19",
   "metadata": {},
   "source": [
    "## accuracy of the model "
   ]
  },
  {
   "cell_type": "code",
   "execution_count": 25,
   "id": "ac43cf85-1a80-48ef-9a5c-3e7012de9a37",
   "metadata": {},
   "outputs": [
    {
     "data": {
      "text/plain": [
       "0.5473684210526316"
      ]
     },
     "execution_count": 25,
     "metadata": {},
     "output_type": "execute_result"
    }
   ],
   "source": [
    "accuracy = accuracy_score(y_test, y_pred)\n",
    "accuracy"
   ]
  }
 ],
 "metadata": {
  "kernelspec": {
   "display_name": "Python 3 (ipykernel)",
   "language": "python",
   "name": "python3"
  },
  "language_info": {
   "codemirror_mode": {
    "name": "ipython",
    "version": 3
   },
   "file_extension": ".py",
   "mimetype": "text/x-python",
   "name": "python",
   "nbconvert_exporter": "python",
   "pygments_lexer": "ipython3",
   "version": "3.10.6"
  }
 },
 "nbformat": 4,
 "nbformat_minor": 5
}
