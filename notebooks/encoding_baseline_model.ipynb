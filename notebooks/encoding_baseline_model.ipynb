{
 "cells": [
  {
   "cell_type": "markdown",
   "id": "da04be8f",
   "metadata": {},
   "source": [
    "Here I will explore the data encoding that will need to take place to be able to create our baseline model"
   ]
  },
  {
   "cell_type": "code",
   "execution_count": 1,
   "id": "688c5f9b",
   "metadata": {},
   "outputs": [],
   "source": [
    "import pandas as pd\n",
    "import numpy as np\n",
    "from sklearn.preprocessing import OneHotEncoder, LabelEncoder"
   ]
  },
  {
   "cell_type": "code",
   "execution_count": 2,
   "id": "985bee67",
   "metadata": {},
   "outputs": [
    {
     "data": {
      "text/html": [
       "<div>\n",
       "<style scoped>\n",
       "    .dataframe tbody tr th:only-of-type {\n",
       "        vertical-align: middle;\n",
       "    }\n",
       "\n",
       "    .dataframe tbody tr th {\n",
       "        vertical-align: top;\n",
       "    }\n",
       "\n",
       "    .dataframe thead th {\n",
       "        text-align: right;\n",
       "    }\n",
       "</style>\n",
       "<table border=\"1\" class=\"dataframe\">\n",
       "  <thead>\n",
       "    <tr style=\"text-align: right;\">\n",
       "      <th></th>\n",
       "      <th>ID</th>\n",
       "      <th>Team_x</th>\n",
       "      <th>Team_batting_average</th>\n",
       "      <th>WinningTeam</th>\n",
       "      <th>Team_y</th>\n",
       "      <th>Team_batting_average_B</th>\n",
       "    </tr>\n",
       "  </thead>\n",
       "  <tbody>\n",
       "    <tr>\n",
       "      <th>0</th>\n",
       "      <td>1312200</td>\n",
       "      <td>Rajasthan Royals</td>\n",
       "      <td>155.397906</td>\n",
       "      <td>Gujarat Titans</td>\n",
       "      <td>Gujarat Titans</td>\n",
       "      <td>166.437500</td>\n",
       "    </tr>\n",
       "    <tr>\n",
       "      <th>1</th>\n",
       "      <td>1312199</td>\n",
       "      <td>Royal Challengers Bangalore</td>\n",
       "      <td>155.707965</td>\n",
       "      <td>Rajasthan Royals</td>\n",
       "      <td>Rajasthan Royals</td>\n",
       "      <td>155.397906</td>\n",
       "    </tr>\n",
       "    <tr>\n",
       "      <th>2</th>\n",
       "      <td>1312198</td>\n",
       "      <td>Royal Challengers Bangalore</td>\n",
       "      <td>155.707965</td>\n",
       "      <td>Royal Challengers Bangalore</td>\n",
       "      <td>Lucknow Super Giants</td>\n",
       "      <td>169.866667</td>\n",
       "    </tr>\n",
       "    <tr>\n",
       "      <th>3</th>\n",
       "      <td>1312197</td>\n",
       "      <td>Rajasthan Royals</td>\n",
       "      <td>155.397906</td>\n",
       "      <td>Gujarat Titans</td>\n",
       "      <td>Gujarat Titans</td>\n",
       "      <td>166.437500</td>\n",
       "    </tr>\n",
       "    <tr>\n",
       "      <th>4</th>\n",
       "      <td>1304116</td>\n",
       "      <td>Sunrisers Hyderabad</td>\n",
       "      <td>155.546053</td>\n",
       "      <td>Punjab Kings</td>\n",
       "      <td>Punjab Kings</td>\n",
       "      <td>160.464286</td>\n",
       "    </tr>\n",
       "  </tbody>\n",
       "</table>\n",
       "</div>"
      ],
      "text/plain": [
       "        ID                       Team_x  Team_batting_average  \\\n",
       "0  1312200             Rajasthan Royals            155.397906   \n",
       "1  1312199  Royal Challengers Bangalore            155.707965   \n",
       "2  1312198  Royal Challengers Bangalore            155.707965   \n",
       "3  1312197             Rajasthan Royals            155.397906   \n",
       "4  1304116          Sunrisers Hyderabad            155.546053   \n",
       "\n",
       "                   WinningTeam                Team_y  Team_batting_average_B  \n",
       "0               Gujarat Titans        Gujarat Titans              166.437500  \n",
       "1             Rajasthan Royals      Rajasthan Royals              155.397906  \n",
       "2  Royal Challengers Bangalore  Lucknow Super Giants              169.866667  \n",
       "3               Gujarat Titans        Gujarat Titans              166.437500  \n",
       "4                 Punjab Kings          Punjab Kings              160.464286  "
      ]
     },
     "execution_count": 2,
     "metadata": {},
     "output_type": "execute_result"
    }
   ],
   "source": [
    "# put the clean data into a dataframe\n",
    "df = pd.read_csv('../raw_data/match_result_averages.csv')\n",
    "df.head()"
   ]
  },
  {
   "cell_type": "code",
   "execution_count": 3,
   "id": "46e9674e",
   "metadata": {},
   "outputs": [],
   "source": [
    "# Renames the columns for readability\n",
    "df.rename(columns={'Team_batting_average': 'team_x_batting_average'}, inplace=True)\n",
    "df.rename(columns={'Team_batting_average_B': 'team_y_batting_average'}, inplace=True)"
   ]
  },
  {
   "cell_type": "code",
   "execution_count": 4,
   "id": "1f2db44e",
   "metadata": {},
   "outputs": [
    {
     "data": {
      "text/html": [
       "<div>\n",
       "<style scoped>\n",
       "    .dataframe tbody tr th:only-of-type {\n",
       "        vertical-align: middle;\n",
       "    }\n",
       "\n",
       "    .dataframe tbody tr th {\n",
       "        vertical-align: top;\n",
       "    }\n",
       "\n",
       "    .dataframe thead th {\n",
       "        text-align: right;\n",
       "    }\n",
       "</style>\n",
       "<table border=\"1\" class=\"dataframe\">\n",
       "  <thead>\n",
       "    <tr style=\"text-align: right;\">\n",
       "      <th></th>\n",
       "      <th>ID</th>\n",
       "      <th>Team_x</th>\n",
       "      <th>team_x_batting_average</th>\n",
       "      <th>WinningTeam</th>\n",
       "      <th>Team_y</th>\n",
       "      <th>team_y_batting_average</th>\n",
       "      <th>Team_x_Win</th>\n",
       "    </tr>\n",
       "  </thead>\n",
       "  <tbody>\n",
       "    <tr>\n",
       "      <th>0</th>\n",
       "      <td>1312200</td>\n",
       "      <td>Rajasthan Royals</td>\n",
       "      <td>155.397906</td>\n",
       "      <td>Gujarat Titans</td>\n",
       "      <td>Gujarat Titans</td>\n",
       "      <td>166.437500</td>\n",
       "      <td>0</td>\n",
       "    </tr>\n",
       "    <tr>\n",
       "      <th>1</th>\n",
       "      <td>1312199</td>\n",
       "      <td>Royal Challengers Bangalore</td>\n",
       "      <td>155.707965</td>\n",
       "      <td>Rajasthan Royals</td>\n",
       "      <td>Rajasthan Royals</td>\n",
       "      <td>155.397906</td>\n",
       "      <td>0</td>\n",
       "    </tr>\n",
       "    <tr>\n",
       "      <th>2</th>\n",
       "      <td>1312198</td>\n",
       "      <td>Royal Challengers Bangalore</td>\n",
       "      <td>155.707965</td>\n",
       "      <td>Royal Challengers Bangalore</td>\n",
       "      <td>Lucknow Super Giants</td>\n",
       "      <td>169.866667</td>\n",
       "      <td>1</td>\n",
       "    </tr>\n",
       "    <tr>\n",
       "      <th>3</th>\n",
       "      <td>1312197</td>\n",
       "      <td>Rajasthan Royals</td>\n",
       "      <td>155.397906</td>\n",
       "      <td>Gujarat Titans</td>\n",
       "      <td>Gujarat Titans</td>\n",
       "      <td>166.437500</td>\n",
       "      <td>0</td>\n",
       "    </tr>\n",
       "    <tr>\n",
       "      <th>4</th>\n",
       "      <td>1304116</td>\n",
       "      <td>Sunrisers Hyderabad</td>\n",
       "      <td>155.546053</td>\n",
       "      <td>Punjab Kings</td>\n",
       "      <td>Punjab Kings</td>\n",
       "      <td>160.464286</td>\n",
       "      <td>0</td>\n",
       "    </tr>\n",
       "  </tbody>\n",
       "</table>\n",
       "</div>"
      ],
      "text/plain": [
       "        ID                       Team_x  team_x_batting_average  \\\n",
       "0  1312200             Rajasthan Royals              155.397906   \n",
       "1  1312199  Royal Challengers Bangalore              155.707965   \n",
       "2  1312198  Royal Challengers Bangalore              155.707965   \n",
       "3  1312197             Rajasthan Royals              155.397906   \n",
       "4  1304116          Sunrisers Hyderabad              155.546053   \n",
       "\n",
       "                   WinningTeam                Team_y  team_y_batting_average  \\\n",
       "0               Gujarat Titans        Gujarat Titans              166.437500   \n",
       "1             Rajasthan Royals      Rajasthan Royals              155.397906   \n",
       "2  Royal Challengers Bangalore  Lucknow Super Giants              169.866667   \n",
       "3               Gujarat Titans        Gujarat Titans              166.437500   \n",
       "4                 Punjab Kings          Punjab Kings              160.464286   \n",
       "\n",
       "   Team_x_Win  \n",
       "0           0  \n",
       "1           0  \n",
       "2           1  \n",
       "3           0  \n",
       "4           0  "
      ]
     },
     "execution_count": 4,
     "metadata": {},
     "output_type": "execute_result"
    }
   ],
   "source": [
    "# Create a new column \"team_x win\". 1 will indicate that team_x won the match\n",
    "df['Team_x_Win'] = (df['Team_x'] == df['WinningTeam']).astype(int)\n",
    "df.head()"
   ]
  },
  {
   "cell_type": "code",
   "execution_count": 5,
   "id": "061957de",
   "metadata": {},
   "outputs": [],
   "source": [
    "# Create an initiation of the OneHotEncoder\n",
    "encoder = OneHotEncoder(sparse_output=False) "
   ]
  },
  {
   "cell_type": "code",
   "execution_count": 6,
   "id": "83b8d036",
   "metadata": {},
   "outputs": [],
   "source": [
    "# Fit and transform the encoder on the specified columns\n",
    "encoded_columns = encoder.fit_transform(df[['Team_x', 'Team_y']])"
   ]
  },
  {
   "cell_type": "code",
   "execution_count": 7,
   "id": "230033f1",
   "metadata": {},
   "outputs": [],
   "source": [
    "# Create a DataFrame with the one-hot encoded columns\n",
    "encoded_df = pd.DataFrame(encoded_columns, columns=encoder.get_feature_names_out(['Team_x', 'Team_y']))"
   ]
  },
  {
   "cell_type": "code",
   "execution_count": 8,
   "id": "142cd53e",
   "metadata": {},
   "outputs": [],
   "source": [
    "# Concatenate the encoded DataFrame with the original DataFrame\n",
    "df_encoded = pd.concat([df, encoded_df], axis=1)"
   ]
  },
  {
   "cell_type": "code",
   "execution_count": 9,
   "id": "9e739096",
   "metadata": {},
   "outputs": [
    {
     "data": {
      "text/plain": [
       "(948, 40)"
      ]
     },
     "execution_count": 9,
     "metadata": {},
     "output_type": "execute_result"
    }
   ],
   "source": [
    "# Drop the original columns as they are no longer needed\n",
    "df_encoded.drop(['Team_x', 'Team_y', 'WinningTeam'], axis=1, inplace=True)\n",
    "df_encoded.shape"
   ]
  },
  {
   "cell_type": "code",
   "execution_count": 10,
   "id": "eb862544",
   "metadata": {},
   "outputs": [
    {
     "data": {
      "text/html": [
       "<div>\n",
       "<style scoped>\n",
       "    .dataframe tbody tr th:only-of-type {\n",
       "        vertical-align: middle;\n",
       "    }\n",
       "\n",
       "    .dataframe tbody tr th {\n",
       "        vertical-align: top;\n",
       "    }\n",
       "\n",
       "    .dataframe thead th {\n",
       "        text-align: right;\n",
       "    }\n",
       "</style>\n",
       "<table border=\"1\" class=\"dataframe\">\n",
       "  <thead>\n",
       "    <tr style=\"text-align: right;\">\n",
       "      <th></th>\n",
       "      <th>ID</th>\n",
       "      <th>team_x_batting_average</th>\n",
       "      <th>team_y_batting_average</th>\n",
       "      <th>Team_x_Win</th>\n",
       "      <th>Team_x_Chennai Super Kings</th>\n",
       "      <th>Team_x_Deccan Chargers</th>\n",
       "      <th>Team_x_Delhi Capitals</th>\n",
       "      <th>Team_x_Delhi Daredevils</th>\n",
       "      <th>Team_x_Gujarat Lions</th>\n",
       "      <th>Team_x_Gujarat Titans</th>\n",
       "      <th>...</th>\n",
       "      <th>Team_y_Kolkata Knight Riders</th>\n",
       "      <th>Team_y_Lucknow Super Giants</th>\n",
       "      <th>Team_y_Mumbai Indians</th>\n",
       "      <th>Team_y_Pune Warriors</th>\n",
       "      <th>Team_y_Punjab Kings</th>\n",
       "      <th>Team_y_Rajasthan Royals</th>\n",
       "      <th>Team_y_Rising Pune Supergiant</th>\n",
       "      <th>Team_y_Rising Pune Supergiants</th>\n",
       "      <th>Team_y_Royal Challengers Bangalore</th>\n",
       "      <th>Team_y_Sunrisers Hyderabad</th>\n",
       "    </tr>\n",
       "  </thead>\n",
       "  <tbody>\n",
       "    <tr>\n",
       "      <th>0</th>\n",
       "      <td>1312200</td>\n",
       "      <td>155.397906</td>\n",
       "      <td>166.4375</td>\n",
       "      <td>0</td>\n",
       "      <td>0.0</td>\n",
       "      <td>0.0</td>\n",
       "      <td>0.0</td>\n",
       "      <td>0.0</td>\n",
       "      <td>0.0</td>\n",
       "      <td>0.0</td>\n",
       "      <td>...</td>\n",
       "      <td>0.0</td>\n",
       "      <td>0.0</td>\n",
       "      <td>0.0</td>\n",
       "      <td>0.0</td>\n",
       "      <td>0.0</td>\n",
       "      <td>0.0</td>\n",
       "      <td>0.0</td>\n",
       "      <td>0.0</td>\n",
       "      <td>0.0</td>\n",
       "      <td>0.0</td>\n",
       "    </tr>\n",
       "  </tbody>\n",
       "</table>\n",
       "<p>1 rows × 40 columns</p>\n",
       "</div>"
      ],
      "text/plain": [
       "        ID  team_x_batting_average  team_y_batting_average  Team_x_Win  \\\n",
       "0  1312200              155.397906                166.4375           0   \n",
       "\n",
       "   Team_x_Chennai Super Kings  Team_x_Deccan Chargers  Team_x_Delhi Capitals  \\\n",
       "0                         0.0                     0.0                    0.0   \n",
       "\n",
       "   Team_x_Delhi Daredevils  Team_x_Gujarat Lions  Team_x_Gujarat Titans  ...  \\\n",
       "0                      0.0                   0.0                    0.0  ...   \n",
       "\n",
       "   Team_y_Kolkata Knight Riders  Team_y_Lucknow Super Giants  \\\n",
       "0                           0.0                          0.0   \n",
       "\n",
       "   Team_y_Mumbai Indians  Team_y_Pune Warriors  Team_y_Punjab Kings  \\\n",
       "0                    0.0                   0.0                  0.0   \n",
       "\n",
       "   Team_y_Rajasthan Royals  Team_y_Rising Pune Supergiant  \\\n",
       "0                      0.0                            0.0   \n",
       "\n",
       "   Team_y_Rising Pune Supergiants  Team_y_Royal Challengers Bangalore  \\\n",
       "0                             0.0                                 0.0   \n",
       "\n",
       "   Team_y_Sunrisers Hyderabad  \n",
       "0                         0.0  \n",
       "\n",
       "[1 rows x 40 columns]"
      ]
     },
     "execution_count": 10,
     "metadata": {},
     "output_type": "execute_result"
    }
   ],
   "source": [
    "df_encoded.head(1)"
   ]
  },
  {
   "cell_type": "code",
   "execution_count": 11,
   "id": "f7194c73",
   "metadata": {},
   "outputs": [],
   "source": [
    "# Standardise the dataframe using various scalers\n",
    "from sklearn.preprocessing import RobustScaler, MinMaxScaler, StandardScaler\n",
    "\n",
    "# Save one without the scaling\n",
    "df_encoded.to_csv(\"../raw_data/no_scaling_encoded_baseline_data.csv\", index-False)"
   ]
  },
  {
   "cell_type": "code",
   "execution_count": 13,
   "id": "60cd9a80",
   "metadata": {},
   "outputs": [],
   "source": [
    "# Create a loop that will create three data sets scale the data in different ways\n",
    "scalers = [('RobustScaler', RobustScaler()), \n",
    "           ('MinMaxScaler', MinMaxScaler()), \n",
    "           ('StandardScaler', StandardScaler())]\n",
    "\n",
    "scaled_datasets = {}\n",
    "\n",
    "# Loop through the scalers\n",
    "for scaler_name, scaler in scalers:\n",
    "    scaled_df = df_encoded.copy()\n",
    "    scaled_df[['team_x_batting_average', 'team_y_batting_average']] = scaler.fit_transform(df_encoded[['team_x_batting_average', 'team_y_batting_average']])\n",
    "    scaled_datasets[scaler_name] = scaled_df"
   ]
  },
  {
   "cell_type": "code",
   "execution_count": 15,
   "id": "f8bd3391",
   "metadata": {},
   "outputs": [],
   "source": [
    "# Save the standardised data into csv files to run different models\n",
    "robust_baseline_data = scaled_datasets['RobustScaler']\n",
    "simple_baseline_data = scaled_datasets['StandardScaler']\n",
    "minmax_baseline_data = scaled_datasets['MinMaxScaler']\n",
    "\n",
    "robust_baseline_data.to_csv(\"../raw_data/robust_baseline_data.csv\", index=False)\n",
    "simple_baseline_data.to_csv(\"../raw_data/simple_baseline_data.csv\", index=False)\n",
    "minmax_baseline_data.to_csv(\"../raw_data/minmax_baseline_data.csv\", index=False)"
   ]
  },
  {
   "cell_type": "code",
   "execution_count": null,
   "id": "526269af",
   "metadata": {},
   "outputs": [],
   "source": [
    "from sklearn.model_selection import train_test_split\n",
    "from sklearn.linear_model import LogisticRegression"
   ]
  },
  {
   "cell_type": "code",
   "execution_count": null,
   "id": "68e264fa",
   "metadata": {},
   "outputs": [],
   "source": [
    "# Define features (X) and the encoded target variable (y)\n",
    "X = df_encoded.drop(['ID', 'team_x_batting_average', 'team_y_batting_average'], axis=1)\n",
    "y = df_encoded['Team_x_Win']"
   ]
  },
  {
   "cell_type": "code",
   "execution_count": null,
   "id": "84067748",
   "metadata": {},
   "outputs": [],
   "source": [
    "# Split data into training and testing sets\n",
    "X_train, X_test, y_train, y_test = train_test_split(X, y, test_size=0.2, random_state=42)"
   ]
  },
  {
   "cell_type": "code",
   "execution_count": null,
   "id": "2d2509a5",
   "metadata": {},
   "outputs": [],
   "source": [
    "# Initialize and train the logistic regression model\n",
    "model = LogisticRegression(max_iter=2000)\n",
    "model.fit(X_train, y_train)"
   ]
  },
  {
   "cell_type": "code",
   "execution_count": null,
   "id": "6a196f81",
   "metadata": {},
   "outputs": [],
   "source": [
    "# Make predictions on the testing set\n",
    "y_pred = model.predict(X_test)"
   ]
  },
  {
   "cell_type": "code",
   "execution_count": null,
   "id": "889e8caa",
   "metadata": {},
   "outputs": [],
   "source": [
    "# Evaluate the model\n",
    "from sklearn.metrics import accuracy_score\n",
    "\n",
    "accuracy = accuracy_score(y_test, y_pred)\n",
    "\n",
    "print(f'Accuracy: {accuracy}')"
   ]
  },
  {
   "cell_type": "markdown",
   "id": "583b4591",
   "metadata": {},
   "source": [
    "## Train a new model using all label encoded targets and ignoring average"
   ]
  },
  {
   "cell_type": "code",
   "execution_count": null,
   "id": "a886bc34",
   "metadata": {},
   "outputs": [],
   "source": [
    "# Create an initiation of the OneHotEncoder\n",
    "encoder2 = LabelEncoder()"
   ]
  },
  {
   "cell_type": "code",
   "execution_count": null,
   "id": "b7e60976",
   "metadata": {},
   "outputs": [],
   "source": [
    "# Fit and transform the encoder on the specified columns\n",
    "encoded_columns2 = encoder2.fit_transform(df[['Team_x', 'Team_y', 'WinningTeam']])"
   ]
  },
  {
   "cell_type": "code",
   "execution_count": null,
   "id": "41450671",
   "metadata": {},
   "outputs": [],
   "source": [
    "# Create a DataFrame with the one-hot encoded columns\n",
    "encoded_df2 = pd.DataFrame(encoded_columns2, columns=encoder2.get_feature_names_out(['Team_x', 'Team_y', 'WinningTeam']))"
   ]
  },
  {
   "cell_type": "code",
   "execution_count": null,
   "id": "c8e41eee",
   "metadata": {},
   "outputs": [],
   "source": [
    "# Concatenate the encoded DataFrame with the original DataFrame\n",
    "df_encoded2 = pd.concat([df, encoded_df2], axis=1)"
   ]
  },
  {
   "cell_type": "code",
   "execution_count": null,
   "id": "6a6ab569",
   "metadata": {},
   "outputs": [],
   "source": [
    "# Drop the original columns as they are no longer needed\n",
    "df_encoded2.drop(['Team_x', 'Team_y'], axis=1, inplace=True)"
   ]
  },
  {
   "cell_type": "code",
   "execution_count": null,
   "id": "e8339965",
   "metadata": {},
   "outputs": [],
   "source": [
    "df_encoded2.columns"
   ]
  },
  {
   "cell_type": "code",
   "execution_count": null,
   "id": "1a903a75",
   "metadata": {},
   "outputs": [],
   "source": [
    "# Define features (X) and the encoded target variable (y)\n",
    "X2 = df_encoded2[['Team_x_Chennai Super Kings', 'Team_x_Deccan Chargers',\n",
    "       'Team_x_Delhi Capitals', 'Team_x_Delhi Daredevils',\n",
    "       'Team_x_Gujarat Lions', 'Team_x_Gujarat Titans',\n",
    "       'Team_x_Kings XI Punjab', 'Team_x_Kochi Tuskers Kerala',\n",
    "       'Team_x_Kolkata Knight Riders', 'Team_x_Lucknow Super Giants',\n",
    "       'Team_x_Mumbai Indians', 'Team_x_Pune Warriors', 'Team_x_Punjab Kings',\n",
    "       'Team_x_Rajasthan Royals', 'Team_x_Rising Pune Supergiant',\n",
    "       'Team_x_Rising Pune Supergiants', 'Team_x_Royal Challengers Bangalore',\n",
    "       'Team_x_Sunrisers Hyderabad', 'Team_y_Chennai Super Kings',\n",
    "       'Team_y_Deccan Chargers', 'Team_y_Delhi Capitals',\n",
    "       'Team_y_Delhi Daredevils', 'Team_y_Gujarat Lions',\n",
    "       'Team_y_Gujarat Titans', 'Team_y_Kings XI Punjab',\n",
    "       'Team_y_Kochi Tuskers Kerala', 'Team_y_Kolkata Knight Riders',\n",
    "       'Team_y_Lucknow Super Giants', 'Team_y_Mumbai Indians',\n",
    "       'Team_y_Pune Warriors', 'Team_y_Punjab Kings',\n",
    "       'Team_y_Rajasthan Royals', 'Team_y_Rising Pune Supergiant',\n",
    "       'Team_y_Rising Pune Supergiants', 'Team_y_Royal Challengers Bangalore',\n",
    "       'Team_y_Sunrisers Hyderabad']]\n",
    "\n",
    "y2 = df_encoded2[['WinningTeam_Deccan Chargers', 'WinningTeam_Delhi Capitals',\n",
    "       'WinningTeam_Delhi Daredevils', 'WinningTeam_Gujarat Lions',\n",
    "       'WinningTeam_Gujarat Titans', 'WinningTeam_Kings XI Punjab',\n",
    "       'WinningTeam_Kochi Tuskers Kerala', 'WinningTeam_Kolkata Knight Riders',\n",
    "       'WinningTeam_Lucknow Super Giants', 'WinningTeam_Mumbai Indians',\n",
    "       'WinningTeam_Pune Warriors', 'WinningTeam_Punjab Kings',\n",
    "       'WinningTeam_Rajasthan Royals', 'WinningTeam_Rising Pune Supergiant',\n",
    "       'WinningTeam_Rising Pune Supergiants',\n",
    "       'WinningTeam_Royal Challengers Bangalore',\n",
    "       'WinningTeam_Sunrisers Hyderabad', 'WinningTeam_nan']]"
   ]
  },
  {
   "cell_type": "code",
   "execution_count": null,
   "id": "f9e56783",
   "metadata": {},
   "outputs": [],
   "source": [
    "# Split data into training and testing sets\n",
    "X_train2, X_test2, y_train2, y_test2 = train_test_split(X2, y2, test_size=0.2, random_state=42)"
   ]
  },
  {
   "cell_type": "code",
   "execution_count": null,
   "id": "60d68da6",
   "metadata": {},
   "outputs": [],
   "source": [
    "# Initialize and train the logistic regression model\n",
    "model = LogisticRegression(max_iter=2000)\n",
    "model.fit(X_train2, y_train2)"
   ]
  },
  {
   "cell_type": "code",
   "execution_count": null,
   "id": "0aae9404",
   "metadata": {},
   "outputs": [],
   "source": []
  }
 ],
 "metadata": {
  "kernelspec": {
   "display_name": "Python 3 (ipykernel)",
   "language": "python",
   "name": "python3"
  },
  "language_info": {
   "codemirror_mode": {
    "name": "ipython",
    "version": 3
   },
   "file_extension": ".py",
   "mimetype": "text/x-python",
   "name": "python",
   "nbconvert_exporter": "python",
   "pygments_lexer": "ipython3",
   "version": "3.10.6"
  },
  "toc": {
   "base_numbering": 1,
   "nav_menu": {},
   "number_sections": true,
   "sideBar": true,
   "skip_h1_title": false,
   "title_cell": "Table of Contents",
   "title_sidebar": "Contents",
   "toc_cell": false,
   "toc_position": {},
   "toc_section_display": true,
   "toc_window_display": false
  }
 },
 "nbformat": 4,
 "nbformat_minor": 5
}
